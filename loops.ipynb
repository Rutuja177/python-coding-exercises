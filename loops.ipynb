{
 "cells": [
  {
   "cell_type": "markdown",
   "id": "8392bae5",
   "metadata": {},
   "source": [
    "# For Loop"
   ]
  },
  {
   "cell_type": "markdown",
   "id": "3f928582",
   "metadata": {},
   "source": [
    "#### Write a program that prints the numbers from 10 to 1."
   ]
  },
  {
   "cell_type": "code",
   "execution_count": 32,
   "id": "4bc90a61",
   "metadata": {},
   "outputs": [
    {
     "name": "stdout",
     "output_type": "stream",
     "text": [
      "10 9 8 7 6 5 4 3 2 1 "
     ]
    }
   ],
   "source": [
    "for i in range(10,0,-1):\n",
    "    print(i, end =' ')"
   ]
  },
  {
   "cell_type": "markdown",
   "id": "659d3c03",
   "metadata": {},
   "source": [
    "#### Write a program that takes an integer from the user and prints all the even numbers from 0 to that integer."
   ]
  },
  {
   "cell_type": "code",
   "execution_count": 33,
   "id": "be1a06b2",
   "metadata": {},
   "outputs": [
    {
     "name": "stdout",
     "output_type": "stream",
     "text": [
      "Enter an integer:10\n",
      "0 2 4 6 8 10 "
     ]
    }
   ],
   "source": [
    "n = int(input(\"Enter an integer:\"))\n",
    "for i in range(0,n+1):\n",
    "    if i%2==0:\n",
    "        print(i, end =' ')"
   ]
  },
  {
   "cell_type": "markdown",
   "id": "2cf78221",
   "metadata": {},
   "source": [
    "#### Write a program that takes an integer from the user and prints all the odd numbers from 0 to that integer and sum of them all."
   ]
  },
  {
   "cell_type": "code",
   "execution_count": 34,
   "id": "6510bab6",
   "metadata": {},
   "outputs": [
    {
     "name": "stdout",
     "output_type": "stream",
     "text": [
      "10\n",
      "25\n"
     ]
    }
   ],
   "source": [
    "n = int(input())\n",
    "sum=0\n",
    "for i in range(0,n+1):\n",
    "    if i%2!=0:\n",
    "        sum+=i\n",
    "print(sum)      "
   ]
  },
  {
   "cell_type": "code",
   "execution_count": null,
   "id": "cc170c6f",
   "metadata": {},
   "outputs": [],
   "source": [
    "start = int(input(\"Enter start num:\"))\n",
    "end = int(input(\"Enter end num:\"))\n",
    "sum = 0\n",
    "for i in range(start, end+1):\n",
    "    sum +=i\n",
    "print(sum)"
   ]
  },
  {
   "cell_type": "markdown",
   "id": "013df8d6",
   "metadata": {},
   "source": [
    "#### Write a program that takes a list of numbers from the user and finds the largest number in the list."
   ]
  },
  {
   "cell_type": "code",
   "execution_count": 36,
   "id": "c007a09a",
   "metadata": {},
   "outputs": [
    {
     "name": "stdout",
     "output_type": "stream",
     "text": [
      "Enter no of elements:4\n",
      "21\n",
      "12\n",
      "45\n",
      "12\n",
      "[21, 12, 45, 12] \n",
      "The max number from the list is: 45\n"
     ]
    }
   ],
   "source": [
    "#taking a list as input from the user\n",
    "list = []\n",
    "n = int(input(\"Enter no of elements:\"))\n",
    "for i in range(0,n):\n",
    "    ele = int(input())\n",
    "    list.append(ele)\n",
    "print(list, end = ' ')\n",
    "print()\n",
    "print(\"The max number from the list is:\", max(list))  "
   ]
  },
  {
   "cell_type": "code",
   "execution_count": 38,
   "id": "12fb0fe0",
   "metadata": {},
   "outputs": [
    {
     "name": "stdout",
     "output_type": "stream",
     "text": [
      "Enter no of elements:3\n",
      "67\n",
      "34\n",
      "23\n",
      "[67, 34, 23]\n",
      "The max number from the list is: 67\n"
     ]
    }
   ],
   "source": [
    "#taking a list as input from the user\n",
    "list = []\n",
    "n = int(input(\"Enter no of elements:\"))\n",
    "for i in range(0,n):\n",
    "    ele = int(input())\n",
    "    list.append(ele)\n",
    "print(list)\n",
    "max_number = 0\n",
    "for i in list:\n",
    "    if i>max_number:\n",
    "        max_number=i\n",
    "print(\"The max number from the list is:\", max_number)"
   ]
  },
  {
   "cell_type": "code",
   "execution_count": null,
   "id": "b244355a",
   "metadata": {},
   "outputs": [],
   "source": [
    "numbers = []\n",
    "while True:\n",
    "    number = input(\"Enter a number or press enter to stop: \")\n",
    "    if number == '':\n",
    "        break\n",
    "    numbers.append(int(number))\n",
    "print(numbers)\n",
    "if len(numbers) == 0:\n",
    "    print(\"No number inserted\")\n",
    "else:\n",
    "    max_number = max(numbers)\n",
    "    print(f\"The largest number among {numbers} is {max_number}\")"
   ]
  },
  {
   "cell_type": "markdown",
   "id": "4ed7b007",
   "metadata": {},
   "source": [
    "#### Write a program that takes a string from the user and prints the number of vowels in the string."
   ]
  },
  {
   "cell_type": "code",
   "execution_count": 39,
   "id": "4c602d74",
   "metadata": {},
   "outputs": [
    {
     "name": "stdout",
     "output_type": "stream",
     "text": [
      "Enter a wordequity\n",
      "The number of vowels 3\n"
     ]
    }
   ],
   "source": [
    "string_input = input(\"Enter a word\")\n",
    "vowels = 'AEIOUaeiou'\n",
    "count = 0\n",
    "for char in string_input:\n",
    "    if char in vowels:\n",
    "        count +=1\n",
    "print(\"The number of vowels\", count)"
   ]
  },
  {
   "cell_type": "markdown",
   "id": "0a9cf74a",
   "metadata": {},
   "source": [
    "#### Write a program that takes a list of numbers as input and prints all the numbers that are greater than the average of the list."
   ]
  },
  {
   "cell_type": "code",
   "execution_count": null,
   "id": "25504715",
   "metadata": {},
   "outputs": [],
   "source": [
    "list = []\n",
    "while True:\n",
    "    number = input(\"Enter a number or enter to stop\")\n",
    "    if number == '':\n",
    "        break\n",
    "    list.append(int(number))\n",
    "print(list)\n",
    "sum = 0\n",
    "for i in list:\n",
    "    sum +=i\n",
    "avg = sum/len(list)\n",
    "print(\"The Average is: \", avg)\n",
    "list1 = []\n",
    "for i in list:\n",
    "    if i > avg:\n",
    "        list1.append(i)\n",
    "print(\"Number Greater than average: \", list1)"
   ]
  },
  {
   "cell_type": "markdown",
   "id": "3f9f5f66",
   "metadata": {},
   "source": [
    "#### Write a program that takes a list of numbers as input and prints all the possible combinations of adding two numbers from the list."
   ]
  },
  {
   "cell_type": "code",
   "execution_count": 40,
   "id": "95fa4b60",
   "metadata": {},
   "outputs": [
    {
     "name": "stdout",
     "output_type": "stream",
     "text": [
      "Enter number of elements 4\n",
      "1\n",
      "2\n",
      "34\n",
      "3\n",
      "[(1, 2), (1, 34), (1, 3), (2, 34), (2, 3), (34, 3)]\n"
     ]
    }
   ],
   "source": [
    "n = int(input(\"Enter number of elements \"))\n",
    "list = []\n",
    "for i in range(0,n):\n",
    "    ele = int(input())\n",
    "    list.append(ele)\n",
    "list1 = []\n",
    "for i in range(len(list)):\n",
    "    for j in range(i+1,len(list)):\n",
    "        list1.append((list[i],list[j]))\n",
    "print(list1)"
   ]
  },
  {
   "cell_type": "markdown",
   "id": "bfc38373",
   "metadata": {},
   "source": [
    "#### Write a program that takes a sentence from the user and prints the longest word in the sentence."
   ]
  },
  {
   "cell_type": "code",
   "execution_count": 51,
   "id": "99e7f959",
   "metadata": {},
   "outputs": [
    {
     "name": "stdout",
     "output_type": "stream",
     "text": [
      "Enter your sentence:I am learning DSA in Python\n",
      "Longest word is: learning\n"
     ]
    }
   ],
   "source": [
    "longest_word = \"\"\n",
    "sentence = input(\"Enter your sentence:\")\n",
    "list_of_words  = sentence.split()\n",
    "for word in list_of_words:\n",
    "    if len(word) > len(longest_word):\n",
    "        longest_word = word\n",
    "print(f\"Longest word is: {longest_word}\")"
   ]
  },
  {
   "cell_type": "markdown",
   "id": "c3746f5a",
   "metadata": {},
   "source": [
    "# While Loop"
   ]
  },
  {
   "cell_type": "markdown",
   "id": "10a0f93a",
   "metadata": {},
   "source": [
    "#### Write a program to accept a non-negative integer from user. the program should find the sum and average. The User should enter non-negative integer"
   ]
  },
  {
   "cell_type": "code",
   "execution_count": null,
   "id": "e3b51e20",
   "metadata": {},
   "outputs": [
    {
     "name": "stdout",
     "output_type": "stream",
     "text": [
      "Enter a non-negative numbers9\n",
      "Enter a non-negative numbers8\n",
      "Enter a non-negative numbers-9\n",
      "8.5\n"
     ]
    }
   ],
   "source": [
    "sum_list = []\n",
    "sum = 0\n",
    "while True:\n",
    "    user_input = int(input(\"Enter a non-negative numbers\"))\n",
    "    if user_input < 0:\n",
    "        break\n",
    "    sum_list.append(user_input)\n",
    "    sum +=user_input\n",
    "avg = sum/len(sum_list)\n",
    "print(avg)"
   ]
  },
  {
   "cell_type": "markdown",
   "id": "4a95b15a",
   "metadata": {},
   "source": [
    "#### Write a program to accept an integer and count a number of digits in it."
   ]
  },
  {
   "cell_type": "code",
   "execution_count": null,
   "id": "e05753d0",
   "metadata": {},
   "outputs": [
    {
     "name": "stdout",
     "output_type": "stream",
     "text": [
      "Enter the integer 1000\n",
      "4\n"
     ]
    }
   ],
   "source": [
    "n = int(input(\"Enter the integer \"))\n",
    "digit = 0\n",
    "while n != 0:\n",
    "    digit +=1\n",
    "    n = int(n/10)\n",
    "\n",
    "print(digit)"
   ]
  },
  {
   "cell_type": "markdown",
   "id": "9405fdb6",
   "metadata": {},
   "source": [
    "#### write a program to accept an integer and sum of digit in it."
   ]
  },
  {
   "cell_type": "code",
   "execution_count": null,
   "id": "108e1c1c",
   "metadata": {},
   "outputs": [
    {
     "name": "stdout",
     "output_type": "stream",
     "text": [
      "Enter the integer 321\n",
      "6\n"
     ]
    }
   ],
   "source": [
    "n = int(input(\"Enter the integer \"))\n",
    "sum = 0\n",
    "u=1\n",
    "while n != 0:\n",
    "    u = n%10\n",
    "    sum +=u\n",
    "    n = int(n/10)\n",
    "    \n",
    "print(sum)"
   ]
  },
  {
   "cell_type": "markdown",
   "id": "cff9b6d5",
   "metadata": {},
   "source": [
    "#### Write a program to accept an integer and reverse digit of it."
   ]
  },
  {
   "cell_type": "code",
   "execution_count": null,
   "id": "f5b9ae2b",
   "metadata": {},
   "outputs": [
    {
     "name": "stdout",
     "output_type": "stream",
     "text": [
      "Enter the integer 321\n",
      "123"
     ]
    }
   ],
   "source": [
    "n = int(input(\"Enter the integer \"))\n",
    "while n != 0:\n",
    "    u = n % 10\n",
    "    n = int(n / 10)\n",
    "    print(u, end= '')"
   ]
  },
  {
   "cell_type": "code",
   "execution_count": null,
   "id": "e7d60f43",
   "metadata": {},
   "outputs": [
    {
     "name": "stdout",
     "output_type": "stream",
     "text": [
      "Enter the integer321\n",
      "123\n"
     ]
    }
   ],
   "source": [
    "n = int(input(\"Enter the integer\"))\n",
    "r = 0\n",
    "while n!=0:\n",
    "    u = n % 10\n",
    "    r = r *10 + u\n",
    "    n = int(n / 10)\n",
    "print(r)"
   ]
  },
  {
   "cell_type": "markdown",
   "id": "e04f8499",
   "metadata": {},
   "source": [
    "#### Write a program to accept an integer and check wheather it is palindrome or not"
   ]
  },
  {
   "cell_type": "code",
   "execution_count": 5,
   "id": "405e7933",
   "metadata": {},
   "outputs": [
    {
     "name": "stdout",
     "output_type": "stream",
     "text": [
      "Enter the integer 121\n",
      "It is palindrome\n"
     ]
    }
   ],
   "source": [
    "n = int(input(\"Enter the integer \"))\n",
    "r = 0\n",
    "backup_n = n\n",
    "while n != 0:\n",
    "    u = n % 10\n",
    "    r = r * 10 + u\n",
    "    n = int(n / 10)\n",
    "if backup_n == r:\n",
    "    print(\"It is palindrome\")\n",
    "else:\n",
    "    print(\"It is not palidrome\")"
   ]
  },
  {
   "cell_type": "markdown",
   "id": "5725c67c",
   "metadata": {},
   "source": [
    "###  Write a Python program that prompts the user to enter a password,to check whether the password meets certain criteria (e.g., at least 8 characters long, contains both uppercase and lowercase letters, contains at least one digit). The program should continue prompting the user until a valid password is entered."
   ]
  },
  {
   "cell_type": "code",
   "execution_count": 52,
   "id": "7e6c858d",
   "metadata": {},
   "outputs": [
    {
     "name": "stdout",
     "output_type": "stream",
     "text": [
      "Enter a password:IamLearning\n",
      "The password should contain one upper case and one digit\n",
      "Enter a password:Iamlearning78\n"
     ]
    }
   ],
   "source": [
    "while True:\n",
    "    pw = input(\"Enter a password:\")\n",
    "    if len(pw) < 8:\n",
    "        print(\"The Password should be atleast 8 character\")\n",
    "        continue \n",
    "    else:\n",
    "        if not any(char.isdigit() for char in pw) or not any(char.isupper() for char in pw):\n",
    "            print(\"The password should contain one upper case and one digit\")\n",
    "            continue\n",
    "    break"
   ]
  },
  {
   "cell_type": "markdown",
   "id": "4d48af8b",
   "metadata": {},
   "source": [
    "###  Write a Python program that prompts the user to enter a string, and then uses a while loop to count the number of vowels (a, e, i, o, u) in the string."
   ]
  },
  {
   "cell_type": "code",
   "execution_count": 53,
   "id": "4766f353",
   "metadata": {},
   "outputs": [
    {
     "name": "stdout",
     "output_type": "stream",
     "text": [
      "Enter a wordrutuja\n",
      "The number of vowels 0\n"
     ]
    }
   ],
   "source": [
    "string_input = input(\"Enter a word\")\n",
    "vowels = 'AEIOUaeiou'\n",
    "count = 0\n",
    "while len(string_input) < 0:\n",
    "    if char in vowels:\n",
    "        count +=1\n",
    "print(\"The number of vowels\", count)"
   ]
  },
  {
   "cell_type": "markdown",
   "id": "42b29ec8",
   "metadata": {},
   "source": [
    "# Guessing Game"
   ]
  },
  {
   "cell_type": "code",
   "execution_count": null,
   "id": "4f5d7fbf",
   "metadata": {},
   "outputs": [],
   "source": [
    "import random\n",
    "play_again = True\n",
    "computer_win = 0\n",
    "user_win = 0\n",
    "while play_again:\n",
    "    digit = random.randint(1,7)\n",
    "    user_input = int(input(\"Enter the number between 1 to 6\"))\n",
    "    if user_input == digit:\n",
    "        print(\"You win 10 points!\")\n",
    "        user_win +=10\n",
    "        print(\"Your score: \",user_win, \"Computer Score: \", computer_win)\n",
    "    else:\n",
    "        computer_win +=10\n",
    "        print(\"Computer Score!\")\n",
    "        print(\"Your score: \",user_win, \"Computer Score: \", computer_win)\n",
    "    play_again = input(\"Play again?\")\n",
    "    if play_again == 'No':\n",
    "        play_again = False"
   ]
  },
  {
   "cell_type": "markdown",
   "id": "12e6b169",
   "metadata": {},
   "source": [
    "# Accumulating Numbers"
   ]
  },
  {
   "cell_type": "code",
   "execution_count": null,
   "id": "74056826",
   "metadata": {},
   "outputs": [],
   "source": [
    "list = []\n",
    "sub_total = 0\n",
    "while True:\n",
    "    first_no = int(input(\"Enter first number\"))\n",
    "    second_no = int(input(\"Enter second number greater than first number\"))\n",
    "    \n",
    "    for i in range(first_no, second_no+1):\n",
    "        sub_total +=i\n",
    "    print(f\"Sub-total: {sub_total:.2f}\")\n",
    "    list.append(sub_total)\n",
    "    res = input(\"like to continue(y/n):\")\n",
    "    \n",
    "    if res.lower() == 'n':\n",
    "        break\n",
    "        \n",
    "grand_total = sum(list)\n",
    "print(list) \n",
    "print(f\"Grand-total: {grand_total: .2f}\")"
   ]
  },
  {
   "cell_type": "markdown",
   "id": "8df8f91b",
   "metadata": {},
   "source": [
    "# Calculating Total Salary"
   ]
  },
  {
   "cell_type": "code",
   "execution_count": null,
   "id": "6acdeae4",
   "metadata": {},
   "outputs": [],
   "source": [
    "salary = []\n",
    "employee = []\n",
    "while True:\n",
    "    commission = 0.10\n",
    "    sales_amount = int(input(\"Enter sales amount\"))\n",
    "    Basic_salary = int(input(\"Enter basic salary\"))\n",
    "    name = input(\"Enter name\")\n",
    "    comm1 = commission*sales_amount\n",
    "    total_salary = Basic_salary + comm1\n",
    "    salary.append(total_salary)\n",
    "    \n",
    "    employee.append(name)\n",
    "    res = input(\"do you want to continue: y/n\")\n",
    "    if res.lower() == 'n':\n",
    "        break\n",
    "for salary,name in zip(salary, employee):\n",
    "    print(f\"Total salary of {name} for this month: ${salary:.2f}\")\n",
    "    "
   ]
  },
  {
   "cell_type": "code",
   "execution_count": null,
   "id": "28e2fdc6",
   "metadata": {},
   "outputs": [],
   "source": [
    "Total = 0\n",
    "count = 0\n",
    "want_to_continue = 'yes'\n",
    "while want_to_continue == 'yes':\n",
    "  num1 = int(input(\"Enter the value 1\"))\n",
    "  num2 = int(input(\"Enter the value 2\"))\n",
    "  Subtotal = num1 + num2 \n",
    "  Total = num1 + num2\n",
    "  want_to_continue = input(\"Do you want to continue(y/n)?\")\n",
    "  if want_to_continue == 'n':\n",
    "        break"
   ]
  },
  {
   "cell_type": "code",
   "execution_count": null,
   "id": "a17f0450",
   "metadata": {},
   "outputs": [],
   "source": [
    "grand_total = []\n",
    "while True:\n",
    "  start = int(input(\"Enter a start number\"))\n",
    "  end = int(input(\"Enter a num grater than start number\"))\n",
    "\n",
    "  sum_total = 0\n",
    "  for i in range(start, end+1):\n",
    "    sum_total += i\n",
    "  grand_total.append(sum_total)\n",
    "  \n",
    "  count = input(\"want to continue (y/n): \")\n",
    "  \n",
    "  if count.lower() != 'y':\n",
    "    break\n",
    "\n",
    "result = sum(grand_total)\n",
    "print(\"The Grand total\", result)"
   ]
  },
  {
   "cell_type": "code",
   "execution_count": null,
   "id": "ce63ac4b",
   "metadata": {},
   "outputs": [],
   "source": [
    "T = 0.0\n",
    "count = 0\n",
    "productlist = []\n",
    "pricelist = []\n",
    "\n",
    "want_to_continue = 'yes'\n",
    "while want_to_continue == 'yes':\n",
    "  product = input(\"Enter the product name:\")\n",
    "  price = float(input(\"Enter the price:\"))\n",
    "  T += price\n",
    "  count = count + 1\n",
    "  want_to_continue = input(\"want_to_continue (yes/no)\")\n",
    "\n",
    "productlist.append(product)\n",
    "pricelist.append(price)\n",
    "\n",
    "print(\"products are:\", productlist)\n",
    "print(\"price are:\", pricelist)\n",
    "print(\"total\", T)\n",
    "print(\"number of products\", count)"
   ]
  },
  {
   "cell_type": "code",
   "execution_count": null,
   "id": "ac37807a",
   "metadata": {},
   "outputs": [],
   "source": [
    "import random\n",
    "com_points = 0\n",
    "player_point = 0\n",
    "number_of_game = 0\n",
    "while True:\n",
    "  number_of_game += 1\n",
    "  computer_num = random.randint(1,6)\n",
    "  player_num = int(input(\"Enter the number from 1 to 6\"))\n",
    "\n",
    "  if player_num == computer_num:\n",
    "    print(\"you win!\")\n",
    "    player_point += 10\n",
    "\n",
    "  else:\n",
    "    print(\"You lose, the number was\", computer_num)\n",
    "    com_points += 10\n",
    "\n",
    "  play_again = input(\"Do you want to play again (y/n)?\")\n",
    "  if play_again.lower() != 'y':\n",
    "    break\n",
    "\n",
    "print(\"number of game played\", number_of_game)\n",
    "print(\"computer points\", com_points)\n",
    "print(\"Your points\", player_point)\n"
   ]
  },
  {
   "cell_type": "code",
   "execution_count": null,
   "id": "a061c23e",
   "metadata": {},
   "outputs": [],
   "source": [
    "grand_total = []\n",
    "while True:\n",
    "  start = int(input(\"Enter a start number\"))\n",
    "  end = int(input(\"Enter a num grater than start number\"))\n",
    "\n",
    "  sum_total = 0\n",
    "  for i in range(start, end+1):\n",
    "    sum_total += i\n",
    "  grand_total.append(sum_total)\n",
    "  \n",
    "  count = input(\"want to continue (y/n): \")\n",
    "  \n",
    "  if count.lower() != 'y':\n",
    "    break\n",
    "\n",
    "result = sum(grand_total)\n",
    "print(\"The Grand total\", result)"
   ]
  },
  {
   "cell_type": "code",
   "execution_count": null,
   "id": "5c99b371",
   "metadata": {},
   "outputs": [],
   "source": [
    "grand_salary = []\n",
    "all_name = []\n",
    "\n",
    "while True:\n",
    "\n",
    "  sales_amount = int(input(\"Enter the Sales amount:\"))\n",
    "  basic_salary = int(input(\"Enter the basic salary of the user\"))\n",
    "  name = input(\"Enter the Name \")\n",
    "\n",
    "  commission = 0.10*sales_amount\n",
    "\n",
    "  total_salary = basic_salary + commission\n",
    "\n",
    "  \n",
    "  print(\"Sales Commision is\", commission)\n",
    "  print(\"Total salary of \",name, \"is: \", total_salary)\n",
    "\n",
    "  count = input(\"want to continue (y/n): \")\n",
    "  \n",
    "  if count.lower() != 'y':\n",
    "    break\n"
   ]
  }
 ],
 "metadata": {
  "kernelspec": {
   "display_name": "Python 3 (ipykernel)",
   "language": "python",
   "name": "python3"
  },
  "language_info": {
   "codemirror_mode": {
    "name": "ipython",
    "version": 3
   },
   "file_extension": ".py",
   "mimetype": "text/x-python",
   "name": "python",
   "nbconvert_exporter": "python",
   "pygments_lexer": "ipython3",
   "version": "3.10.4"
  }
 },
 "nbformat": 4,
 "nbformat_minor": 5
}
