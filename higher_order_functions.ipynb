{
 "cells": [
  {
   "cell_type": "markdown",
   "id": "1a5ffa16",
   "metadata": {},
   "source": [
    "# lamda, map, filter, reduce, zip"
   ]
  },
  {
   "cell_type": "markdown",
   "id": "9200bd97",
   "metadata": {},
   "source": [
    "# 1) lamda"
   ]
  },
  {
   "cell_type": "code",
   "execution_count": 2,
   "id": "9bfcd851",
   "metadata": {},
   "outputs": [],
   "source": [
    "def multiply(x,y):\n",
    "    return x*y"
   ]
  },
  {
   "cell_type": "markdown",
   "id": "31d59e10",
   "metadata": {},
   "source": [
    "Write a lambda function that takes two numbers as arguments and returns their product."
   ]
  },
  {
   "cell_type": "code",
   "execution_count": 4,
   "id": "ab737fe3",
   "metadata": {},
   "outputs": [
    {
     "data": {
      "text/plain": [
       "15"
      ]
     },
     "execution_count": 4,
     "metadata": {},
     "output_type": "execute_result"
    }
   ],
   "source": [
    "multiply = lambda x,y: x*y\n",
    "multiply(3,5)"
   ]
  },
  {
   "cell_type": "code",
   "execution_count": 5,
   "id": "2db970c1",
   "metadata": {},
   "outputs": [
    {
     "data": {
      "text/plain": [
       "'ARLINGTON'"
      ]
     },
     "execution_count": 5,
     "metadata": {},
     "output_type": "execute_result"
    }
   ],
   "source": [
    "def uppercase_string(string):\n",
    "  return string.upper()\n",
    "\n",
    "uppercase_string('Arlington')"
   ]
  },
  {
   "cell_type": "code",
   "execution_count": 6,
   "id": "7c2ca77e",
   "metadata": {},
   "outputs": [
    {
     "data": {
      "text/plain": [
       "'RUTUJA'"
      ]
     },
     "execution_count": 6,
     "metadata": {},
     "output_type": "execute_result"
    }
   ],
   "source": [
    "upper_string = lambda x:x.upper()\n",
    "upper_string('rutuja')"
   ]
  },
  {
   "cell_type": "code",
   "execution_count": 7,
   "id": "0dbe195e",
   "metadata": {},
   "outputs": [
    {
     "data": {
      "text/plain": [
       "60"
      ]
     },
     "execution_count": 7,
     "metadata": {},
     "output_type": "execute_result"
    }
   ],
   "source": [
    "lst = [10,20,30]\n",
    "def add_list(x):\n",
    "  Sum = sum(x)\n",
    "  return Sum\n",
    "\n",
    "add_list(lst)"
   ]
  },
  {
   "cell_type": "code",
   "execution_count": 8,
   "id": "7bb632ab",
   "metadata": {},
   "outputs": [
    {
     "data": {
      "text/plain": [
       "60"
      ]
     },
     "execution_count": 8,
     "metadata": {},
     "output_type": "execute_result"
    }
   ],
   "source": [
    "lst = lambda x: sum(x)\n",
    "lst([10,20,30])"
   ]
  },
  {
   "cell_type": "code",
   "execution_count": 10,
   "id": "c487623e",
   "metadata": {},
   "outputs": [
    {
     "data": {
      "text/plain": [
       "30"
      ]
     },
     "execution_count": 10,
     "metadata": {},
     "output_type": "execute_result"
    }
   ],
   "source": [
    "lst2 = lambda max_list: max(max_list)\n",
    "lst2([10,20,30])"
   ]
  },
  {
   "cell_type": "code",
   "execution_count": 18,
   "id": "4b7457dc",
   "metadata": {},
   "outputs": [
    {
     "data": {
      "text/plain": [
       "30"
      ]
     },
     "execution_count": 18,
     "metadata": {},
     "output_type": "execute_result"
    }
   ],
   "source": [
    "#other way to use lambda to find the max\n",
    "lst =[10,20,30]\n",
    "res =max(lst, key = lambda x:x)\n",
    "res"
   ]
  },
  {
   "cell_type": "markdown",
   "id": "4d020168",
   "metadata": {},
   "source": [
    "Write a lambda function that takes a string and returns its length:"
   ]
  },
  {
   "cell_type": "code",
   "execution_count": 3,
   "id": "d0b5c462",
   "metadata": {},
   "outputs": [
    {
     "data": {
      "text/plain": [
       "6"
      ]
     },
     "execution_count": 3,
     "metadata": {},
     "output_type": "execute_result"
    }
   ],
   "source": [
    "len_str = lambda x: len(x)\n",
    "len_str('Rutuja')"
   ]
  },
  {
   "cell_type": "code",
   "execution_count": 19,
   "id": "a3570b0d",
   "metadata": {},
   "outputs": [
    {
     "data": {
      "text/plain": [
       "['I', 'am', 'in', 'Arlington']"
      ]
     },
     "execution_count": 19,
     "metadata": {},
     "output_type": "execute_result"
    }
   ],
   "source": [
    "new_sentence= 'I am in Arlington'\n",
    "new_sentence.split()"
   ]
  },
  {
   "cell_type": "code",
   "execution_count": 21,
   "id": "8c787fc3",
   "metadata": {},
   "outputs": [
    {
     "data": {
      "text/plain": [
       "3"
      ]
     },
     "execution_count": 21,
     "metadata": {},
     "output_type": "execute_result"
    }
   ],
   "source": [
    "split_sent = lambda x: x.split()\n",
    "split_sent('I am Rutuja')\n",
    "split_sent1 = lambda x: len(x.split())\n",
    "split_sent1('I am Rutuja')"
   ]
  },
  {
   "cell_type": "markdown",
   "id": "8894c8b7",
   "metadata": {},
   "source": [
    "Write a lambda function that takes a number as an argument and returns \"positive\" if the\n",
    "number is greater than zero, and \"non-positive\" otherwise"
   ]
  },
  {
   "cell_type": "code",
   "execution_count": 6,
   "id": "3f4d1e20",
   "metadata": {},
   "outputs": [
    {
     "data": {
      "text/plain": [
       "'negative'"
      ]
     },
     "execution_count": 6,
     "metadata": {},
     "output_type": "execute_result"
    }
   ],
   "source": [
    "num = lambda x: 'positive' if x>0 else 'negative'\n",
    "num(-4)"
   ]
  },
  {
   "cell_type": "markdown",
   "id": "4b780d1f",
   "metadata": {},
   "source": [
    "Write a lambda function that takes a number as an argument and returns \"positive\" if the\n",
    "number is greater than zero, \"zero\" if the number is equal to zero, and \"negative\" if the number is less than zero"
   ]
  },
  {
   "cell_type": "code",
   "execution_count": 8,
   "id": "8e6aa175",
   "metadata": {},
   "outputs": [
    {
     "data": {
      "text/plain": [
       "['zero']"
      ]
     },
     "execution_count": 8,
     "metadata": {},
     "output_type": "execute_result"
    }
   ],
   "source": [
    "num1 = lambda x: 'positive' if x>0 else ['negative' if x <0 else 'zero']\n",
    "num1(0)"
   ]
  },
  {
   "cell_type": "code",
   "execution_count": 9,
   "id": "5c9149ce",
   "metadata": {},
   "outputs": [
    {
     "data": {
      "text/plain": [
       "'positive'"
      ]
     },
     "execution_count": 9,
     "metadata": {},
     "output_type": "execute_result"
    }
   ],
   "source": [
    "num2 = lambda x: 'positive' if x>0 else 'negative' if x<0 else 'Zero'\n",
    "num2(9)"
   ]
  },
  {
   "cell_type": "markdown",
   "id": "460b3e8c",
   "metadata": {},
   "source": [
    "Write a lambda function that takes a list of tuples as input and returns a list of the second elements of the tuples sorted in descending order."
   ]
  },
  {
   "cell_type": "code",
   "execution_count": 6,
   "id": "3647b1c5",
   "metadata": {},
   "outputs": [
    {
     "name": "stdout",
     "output_type": "stream",
     "text": [
      "[3, 7, 8]\n"
     ]
    }
   ],
   "source": [
    "list_tuples = lambda x: sorted(x, reverse=True)\n",
    "\n",
    "tups = [(2,3,4), (1,7,8), (9,8,7)]\n",
    "list_second_ele = [list_tuples(i)[1] for i in tups ]\n",
    "print(list_second_ele)"
   ]
  },
  {
   "cell_type": "markdown",
   "id": "2f300f20",
   "metadata": {},
   "source": [
    "# 2) Map\n",
    "map(function, Iterable) "
   ]
  },
  {
   "cell_type": "markdown",
   "id": "1c890cf7",
   "metadata": {},
   "source": [
    "Map(). This is another inbuilt python library with the syntax map(function, iterable).<br>\n",
    "\n",
    "This returns a modified list where every value in the original list has been changed based on a function. The example below cubes every number in the list."
   ]
  },
  {
   "cell_type": "code",
   "execution_count": 1,
   "id": "becef198",
   "metadata": {},
   "outputs": [
    {
     "data": {
      "text/plain": [
       "[1, 8, 27, 64, 125, 216, 343, 512, 729]"
      ]
     },
     "execution_count": 1,
     "metadata": {},
     "output_type": "execute_result"
    }
   ],
   "source": [
    "list_1 = [1,2,3,4,5,6,7,8,9]\n",
    "cubed = map(lambda x: pow(x,3), list_1)\n",
    "list(cubed)\n",
    "###Results\n",
    "[1, 8, 27, 64, 125, 216, 343, 512, 729]"
   ]
  },
  {
   "cell_type": "code",
   "execution_count": 7,
   "id": "5666c755",
   "metadata": {},
   "outputs": [
    {
     "name": "stdout",
     "output_type": "stream",
     "text": [
      "[6, 11, 16]\n"
     ]
    }
   ],
   "source": [
    "def mapFunction(list1, list2):\n",
    "    list3 = list1+list2\n",
    "    return list3\n",
    "     \n",
    "\n",
    "my_list1 = [2,3,4,4]\n",
    "my_list2 = [4,8,12]\n",
    "res = map(mapFunction, my_list1,my_list2)\n",
    "print(list(res))"
   ]
  },
  {
   "cell_type": "code",
   "execution_count": 23,
   "id": "3fb52574",
   "metadata": {
    "scrolled": true
   },
   "outputs": [
    {
     "name": "stdout",
     "output_type": "stream",
     "text": [
      "[100, 400, 900]\n"
     ]
    }
   ],
   "source": [
    "lst = [10,20,30]\n",
    "lst1 = []\n",
    "for i in lst:\n",
    "    res = i*i\n",
    "    lst1.append(res)\n",
    "print(lst1)"
   ]
  },
  {
   "cell_type": "code",
   "execution_count": 31,
   "id": "d9b829e2",
   "metadata": {},
   "outputs": [],
   "source": [
    "#instead of creating a new list, and using append we can use map to create a lit and siplaying based on the mapped list"
   ]
  },
  {
   "cell_type": "code",
   "execution_count": 30,
   "id": "35c5805b",
   "metadata": {},
   "outputs": [
    {
     "name": "stdout",
     "output_type": "stream",
     "text": [
      "[100, 400, 900]\n"
     ]
    }
   ],
   "source": [
    "lst = [10,20,30]\n",
    "lst1 = list(map(lambda x: x*x, lst))\n",
    "print(lst1)"
   ]
  },
  {
   "cell_type": "code",
   "execution_count": 33,
   "id": "2aa34f94",
   "metadata": {},
   "outputs": [
    {
     "name": "stdout",
     "output_type": "stream",
     "text": [
      "[1000, 4000, 9000]\n"
     ]
    }
   ],
   "source": [
    "lst1 = [10,20,30]\n",
    "lst2 = [100,200,300]\n",
    "res = list(map(lambda x,y:x*y, lst1,lst2))\n",
    "print(res)"
   ]
  },
  {
   "cell_type": "code",
   "execution_count": 13,
   "id": "93e806ca",
   "metadata": {},
   "outputs": [
    {
     "data": {
      "text/plain": [
       "[0, 2, 4, 6, 8, 10, 12, 14, 16, 18]"
      ]
     },
     "execution_count": 13,
     "metadata": {},
     "output_type": "execute_result"
    }
   ],
   "source": [
    "#Write a map function with lambda function to double each element of a list and returns as list\n",
    "list1 = list(map(lambda x: x*2, range(10)))\n",
    "list1"
   ]
  },
  {
   "cell_type": "code",
   "execution_count": 16,
   "id": "d2f8b5a6",
   "metadata": {},
   "outputs": [
    {
     "data": {
      "text/plain": [
       "[20, 40]"
      ]
     },
     "execution_count": 16,
     "metadata": {},
     "output_type": "execute_result"
    }
   ],
   "source": [
    "lst1 = [10,20]\n",
    "new_lst1 = list(map(lambda x: x*2, lst1))\n",
    "new_lst1"
   ]
  },
  {
   "cell_type": "markdown",
   "id": "324244df",
   "metadata": {},
   "source": [
    "Write a map and lambda function to add\n",
    "corresponding elements of two lists and return\n",
    "the sum as lists"
   ]
  },
  {
   "cell_type": "code",
   "execution_count": 17,
   "id": "028b0443",
   "metadata": {},
   "outputs": [
    {
     "data": {
      "text/plain": [
       "[4, 6]"
      ]
     },
     "execution_count": 17,
     "metadata": {},
     "output_type": "execute_result"
    }
   ],
   "source": [
    "list1 = [1,2]\n",
    "list2 = [3,4]\n",
    "new_list = list(map(lambda x,y:x+y, list1, list2))\n",
    "new_list"
   ]
  },
  {
   "cell_type": "markdown",
   "id": "d28dfb69",
   "metadata": {},
   "source": [
    "# 3) Reduce\n",
    "reduce(function, Iterable)"
   ]
  },
  {
   "cell_type": "code",
   "execution_count": 35,
   "id": "11caf712",
   "metadata": {},
   "outputs": [
    {
     "name": "stdout",
     "output_type": "stream",
     "text": [
      "60\n"
     ]
    }
   ],
   "source": [
    "#Sum of all elements in a list\n",
    "nums= [10,20,30]\n",
    "sum = 0\n",
    "for i in nums:\n",
    "    sum +=i\n",
    "print(sum)"
   ]
  },
  {
   "cell_type": "code",
   "execution_count": 34,
   "id": "83db606b",
   "metadata": {},
   "outputs": [
    {
     "name": "stdout",
     "output_type": "stream",
     "text": [
      "60\n"
     ]
    }
   ],
   "source": [
    "from functools import reduce\n",
    "nums= [10,20,30]\n",
    "result = reduce(lambda x,y:x+y,lst)\n",
    "print(result)"
   ]
  },
  {
   "cell_type": "code",
   "execution_count": 36,
   "id": "d2118abb",
   "metadata": {},
   "outputs": [
    {
     "name": "stdout",
     "output_type": "stream",
     "text": [
      "720\n"
     ]
    }
   ],
   "source": [
    "from functools import reduce\n",
    "num = 6\n",
    "res = reduce(lambda x,y: x*y , range(1,num+1)) \n",
    "print(res)"
   ]
  },
  {
   "cell_type": "markdown",
   "id": "ffceee24",
   "metadata": {},
   "source": [
    "Write a program to calculate the factorials of a number using reduce function"
   ]
  },
  {
   "cell_type": "code",
   "execution_count": 21,
   "id": "015eb9b9",
   "metadata": {},
   "outputs": [
    {
     "data": {
      "text/plain": [
       "720"
      ]
     },
     "execution_count": 21,
     "metadata": {},
     "output_type": "execute_result"
    }
   ],
   "source": [
    "def factorial(num):\n",
    "    if num == 0:\n",
    "        return 1\n",
    "    else:\n",
    "        return num*factorial(num-1)\n",
    "factorial(6)"
   ]
  },
  {
   "cell_type": "code",
   "execution_count": 30,
   "id": "16fc879e",
   "metadata": {},
   "outputs": [
    {
     "data": {
      "text/plain": [
       "120"
      ]
     },
     "execution_count": 30,
     "metadata": {},
     "output_type": "execute_result"
    }
   ],
   "source": [
    "from functools import reduce\n",
    "factorial = reduce(lambda x,y: x*y, range(1,6))\n",
    "factorial"
   ]
  },
  {
   "cell_type": "code",
   "execution_count": 19,
   "id": "28318f15",
   "metadata": {
    "scrolled": true
   },
   "outputs": [
    {
     "name": "stdout",
     "output_type": "stream",
     "text": [
      "5\n"
     ]
    }
   ],
   "source": [
    "from functools import reduce\n",
    "lst1 = [1,-2,3]\n",
    "lst2 = [4,5,-6]\n",
    "res = reduce(lambda x,y: x-y, lst2)\n",
    "print(res)\n"
   ]
  },
  {
   "cell_type": "markdown",
   "id": "aa1fccd6",
   "metadata": {},
   "source": [
    "# 4)filter"
   ]
  },
  {
   "cell_type": "code",
   "execution_count": 37,
   "id": "2db53f26",
   "metadata": {},
   "outputs": [
    {
     "name": "stdout",
     "output_type": "stream",
     "text": [
      "['A', 'A']\n"
     ]
    }
   ],
   "source": [
    "string = 'ArlingtonA'\n",
    "fil = list(filter(lambda x:\"A\" in x, string))\n",
    "print(fil)"
   ]
  },
  {
   "cell_type": "code",
   "execution_count": 38,
   "id": "7cbd309a",
   "metadata": {},
   "outputs": [
    {
     "name": "stdout",
     "output_type": "stream",
     "text": [
      "[120]\n"
     ]
    }
   ],
   "source": [
    "lst = [10,20,120]\n",
    "fil = list(filter(lambda x: x>100,lst))\n",
    "print(fil)"
   ]
  },
  {
   "cell_type": "code",
   "execution_count": 39,
   "id": "3a301601",
   "metadata": {},
   "outputs": [
    {
     "name": "stdout",
     "output_type": "stream",
     "text": [
      "['Mango', 'my']\n"
     ]
    }
   ],
   "source": [
    "str = ['Apple', 'Mango', 'my']\n",
    "fil = list(filter(lambda x : \"M\" in x or \"m\" in x, str))\n",
    "print(fil)"
   ]
  },
  {
   "cell_type": "markdown",
   "id": "95722971",
   "metadata": {},
   "source": [
    "Write a filter function which will return the element from a list of string that contains a letter \"M\""
   ]
  },
  {
   "cell_type": "code",
   "execution_count": 40,
   "id": "daaf6364",
   "metadata": {},
   "outputs": [
    {
     "data": {
      "text/plain": [
       "['mango']"
      ]
     },
     "execution_count": 40,
     "metadata": {},
     "output_type": "execute_result"
    }
   ],
   "source": [
    "lsr = ['mango', 'orange']\n",
    "new_list = list(filter(lambda x: 'M' in x or 'm' in x, lsr))\n",
    "new_list"
   ]
  },
  {
   "cell_type": "code",
   "execution_count": 41,
   "id": "a396e01c",
   "metadata": {
    "scrolled": true
   },
   "outputs": [
    {
     "data": {
      "text/plain": [
       "['mango']"
      ]
     },
     "execution_count": 41,
     "metadata": {},
     "output_type": "execute_result"
    }
   ],
   "source": [
    "[ x for x in lsr if 'M' in x or 'm' in x]"
   ]
  },
  {
   "cell_type": "markdown",
   "id": "541508fb",
   "metadata": {},
   "source": [
    "# 5) Zip"
   ]
  },
  {
   "cell_type": "code",
   "execution_count": 42,
   "id": "990e95a1",
   "metadata": {},
   "outputs": [
    {
     "name": "stdout",
     "output_type": "stream",
     "text": [
      "[('apple', 20), ('Mango', 30), ('banana', None)]\n"
     ]
    }
   ],
   "source": [
    "from itertools import zip_longest\n",
    "lst = ['apple', 'Mango', 'banana']\n",
    "lst2 = [20,30]\n",
    "\n",
    "res = list(zip_longest(lst,lst2))\n",
    "print(res)"
   ]
  },
  {
   "cell_type": "code",
   "execution_count": 43,
   "id": "0a9864af",
   "metadata": {},
   "outputs": [
    {
     "name": "stdout",
     "output_type": "stream",
     "text": [
      "    Name  Price\n",
      "0  apple     20\n",
      "1  Mango     30\n"
     ]
    }
   ],
   "source": [
    "import pandas as pd\n",
    "\n",
    "lst = ['apple', 'Mango', 'banana']\n",
    "lst2 = [20,30]\n",
    "\n",
    "df = pd.DataFrame(zip(lst,lst2), columns = ['Name', 'Price'])\n",
    "print(df)"
   ]
  },
  {
   "cell_type": "markdown",
   "id": "9d9ff648",
   "metadata": {},
   "source": [
    "Write a zip function to combine name list and age list and return tuple of new list"
   ]
  },
  {
   "cell_type": "code",
   "execution_count": 27,
   "id": "f0e23f2f",
   "metadata": {},
   "outputs": [
    {
     "data": {
      "text/plain": [
       "[('Rutuja', 25), ('Omr', 26)]"
      ]
     },
     "execution_count": 27,
     "metadata": {},
     "output_type": "execute_result"
    }
   ],
   "source": [
    "name = ['Rutuja', 'Omr']\n",
    "age = [25, 26]\n",
    "\n",
    "#for i, j in zip(name, age):\n",
    "    #print(i,j)\n",
    "    \n",
    "new_name_age = list(zip(name,age))\n",
    "new_name_age"
   ]
  },
  {
   "cell_type": "code",
   "execution_count": null,
   "id": "bcd11038",
   "metadata": {},
   "outputs": [],
   "source": []
  }
 ],
 "metadata": {
  "kernelspec": {
   "display_name": "Python 3 (ipykernel)",
   "language": "python",
   "name": "python3"
  },
  "language_info": {
   "codemirror_mode": {
    "name": "ipython",
    "version": 3
   },
   "file_extension": ".py",
   "mimetype": "text/x-python",
   "name": "python",
   "nbconvert_exporter": "python",
   "pygments_lexer": "ipython3",
   "version": "3.10.4"
  }
 },
 "nbformat": 4,
 "nbformat_minor": 5
}
