{
 "cells": [
  {
   "cell_type": "markdown",
   "id": "bfaaf57b",
   "metadata": {},
   "source": [
    "# Regular expressions:\n",
    "\n",
    "#### Anchors ^ and $\n",
    "\n",
    "^ ^The matches a pattern at the starts of string. ^The <br> \n",
    "$ end$ mathces a pattern at the end of string end$\n",
    "\n",
    "#### Quantifies\n",
    "<li> * zero or more abc* -matches a string that has ab followed by zero or more c </li>\n",
    "<li> + one or more abc+</li>\n",
    "<li> ? zero or one abc?</li>\n",
    "<li> {2} matches 2 abc{2} matches string that has ab followed by 2 c</li>\n",
    "<li> abc{2,5} 2 upto 5 </li>\n",
    "<li> ab{2,5}c</li>\n",
    "<li> a(bc)* a followed by zero or more copies of bc</li>\n",
    "<li> a(bc){2,5} </li>\n",
    "\n",
    "\n",
    "#### OR operators | or []\n",
    "\n",
    "<li> a(b|c) a followed by b or c </li>\n",
    "<li> a[bc] </li>\n",
    "\n",
    "\n",
    "#### Character classes \\d\\w\\s and . \n",
    "<li> \\d digit </li>\n",
    "<li> \\w alphanumeric and underscore </li>\n",
    "<li> \\s all whitespaces and tab </li>\n",
    "<li> . matches everything except new line </li>\n",
    "\n",
    "\n",
    "#### NEGATIONS:\n",
    "\n",
    "<li>\\D non digit character </li>\n",
    "<li>\\W non alphnumeric character</li>\n",
    "<li>\\S non space </li>\n",
    " \n",
    "\n",
    "<li> \\$\\d this will match $digit </li><br>\n",
    "it were sold for S1 \n",
    "\n",
    "you can match also non-printable characters like tabs \\t, \\n, \\r (returns)\n",
    "\n",
    "#### Bracket Expressions = []\n",
    "<li>[abc] matches string that has either a b or c same as a|b|c</li>\n",
    "<li>[a-c] </li>\n",
    "<li>[a-fA-F0-9] a 8 9 o p x c fff A 8 matches</li>\n",
    "<li>[0-9]% a string that has a character from 0 to 9 before % sign</li>\n",
    "<li>[^abc] - character except a, b or c</li>\n",
    "<li>[^a-zA-Z] a string that has not a letter from a to z from A to Z</li>\n",
    "<li>[^a-z]</li>\n",
    "\n",
    "\n",
    "#### ^ NEGATION Of expression <br>\n",
    "\n",
    "<li>sub</li>\n",
    "<li>findall</li>\n",
    "<li>search</li>"
   ]
  },
  {
   "cell_type": "code",
   "execution_count": 1,
   "id": "5555d859",
   "metadata": {},
   "outputs": [
    {
     "name": "stdout",
     "output_type": "stream",
     "text": [
      "[]\n"
     ]
    }
   ],
   "source": [
    "import re\n",
    "\n",
    "txt = \"Rutuja17\"\n",
    "\n",
    "x = re.findall(\".[0-9].[A-Z].[a-z]\", txt)\n",
    "print(x)"
   ]
  },
  {
   "cell_type": "code",
   "execution_count": 2,
   "id": "45325891",
   "metadata": {},
   "outputs": [
    {
     "name": "stdout",
     "output_type": "stream",
     "text": [
      "['R', 'u', 't', 'u', 'j', 'a', '1', '7']\n"
     ]
    }
   ],
   "source": [
    "import re\n",
    "\n",
    "txt = \"Rutuja17\"\n",
    "\n",
    "x = re.findall('\\w', txt)\n",
    "print(x)"
   ]
  },
  {
   "cell_type": "markdown",
   "id": "7f7489da",
   "metadata": {},
   "source": [
    "Write a Python program to validate a password using regular expressions. The password should contain at least one uppercase letter, one lowercase letter, one digit, and one special character. \n",
    "If the password is valid, print \"Valid password.\" Otherwise, print \"Invalid password.\""
   ]
  },
  {
   "cell_type": "code",
   "execution_count": null,
   "id": "7b403114",
   "metadata": {},
   "outputs": [],
   "source": []
  },
  {
   "cell_type": "markdown",
   "id": "70c48293",
   "metadata": {},
   "source": [
    "Write a Python program to extract all the sentences from a given paragraph using regular expressions. If no sentences are found, print \"No sentences found."
   ]
  },
  {
   "cell_type": "code",
   "execution_count": 7,
   "id": "45f8c4b9",
   "metadata": {},
   "outputs": [
    {
     "name": "stdout",
     "output_type": "stream",
     "text": [
      "['this is me.', ' this is ?']\n"
     ]
    }
   ],
   "source": [
    "import re\n",
    "pattern = r\"([^!?.]+[!?.])\"\n",
    "paragraph = \"this is me. this is ?\"\n",
    "find_patterns = re.findall(pattern, paragraph)\n",
    "print(find_patterns)"
   ]
  },
  {
   "cell_type": "markdown",
   "id": "c0abf86d",
   "metadata": {},
   "source": [
    "Write a Python program to extract all the words that have a length of at least 5 characters and start and end with a vowel from a given string using regular expressions. If no words are found, print \"No words found.\""
   ]
  },
  {
   "cell_type": "code",
   "execution_count": null,
   "id": "6344f2e8",
   "metadata": {},
   "outputs": [],
   "source": []
  }
 ],
 "metadata": {
  "kernelspec": {
   "display_name": "Python 3 (ipykernel)",
   "language": "python",
   "name": "python3"
  },
  "language_info": {
   "codemirror_mode": {
    "name": "ipython",
    "version": 3
   },
   "file_extension": ".py",
   "mimetype": "text/x-python",
   "name": "python",
   "nbconvert_exporter": "python",
   "pygments_lexer": "ipython3",
   "version": "3.10.4"
  }
 },
 "nbformat": 4,
 "nbformat_minor": 5
}
