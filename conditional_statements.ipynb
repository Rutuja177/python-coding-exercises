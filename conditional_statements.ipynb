{
 "cells": [
  {
   "cell_type": "markdown",
   "metadata": {},
   "source": [
    "if-else<br>\n",
    "function, return statement "
   ]
  },
  {
   "cell_type": "code",
   "execution_count": 1,
   "metadata": {},
   "outputs": [
    {
     "name": "stdout",
     "output_type": "stream",
     "text": [
      "result: 33.333\n"
     ]
    }
   ],
   "source": [
    "num1 = 100\n",
    "num2 = 3\n",
    "res = num1/num2\n",
    "print(f\"result: {res:.3f}\")"
   ]
  },
  {
   "cell_type": "code",
   "execution_count": 2,
   "metadata": {},
   "outputs": [
    {
     "name": "stdout",
     "output_type": "stream",
     "text": [
      "number: 155,666,479,654.17\n"
     ]
    }
   ],
   "source": [
    "num = 155666479654.16645\n",
    "print(f\"number: {num:,.2f}\")"
   ]
  },
  {
   "cell_type": "code",
   "execution_count": 3,
   "metadata": {},
   "outputs": [
    {
     "name": "stdout",
     "output_type": "stream",
     "text": [
      "Discount: 3%\n"
     ]
    }
   ],
   "source": [
    "DISCOUNT = 0.03\n",
    "print(f\"Discount: {DISCOUNT:.0%}\")"
   ]
  },
  {
   "cell_type": "code",
   "execution_count": 10,
   "metadata": {},
   "outputs": [
    {
     "name": "stdout",
     "output_type": "stream",
     "text": [
      "the lower case is abcdefghijklmnopqrstuvwxyz\n",
      "random variable is f\n",
      "random variable is P\n"
     ]
    }
   ],
   "source": [
    "import string\n",
    "import random\n",
    "r = string.ascii_lowercase\n",
    "R = string.ascii_uppercase\n",
    "print(\"the lower case is\",r)\n",
    "r1 = random.choice(r)\n",
    "r2 = random.choice(R)\n",
    "print(\"random variable is\",r1)\n",
    "print(\"random variable is\",r2)"
   ]
  },
  {
   "cell_type": "code",
   "execution_count": 12,
   "metadata": {},
   "outputs": [
    {
     "name": "stdout",
     "output_type": "stream",
     "text": [
      "loss:$ 22900.0\n",
      "22900.0\n"
     ]
    }
   ],
   "source": [
    "R = 100000\n",
    "D = 0.1\n",
    "SP = 50000\n",
    "R1 = (R-(R*D))\n",
    "R2 = (R1-(R1*D))\n",
    "R3 = (R2-(R2*D))\n",
    "profit = SP - R3\n",
    "loss = R3 - SP\n",
    "if SP>R3:\n",
    "  print(f\"Profit: ${profit}\")\n",
    "else:\n",
    "  print(f\"loss:$ {loss}\")\n",
    "print(loss)"
   ]
  },
  {
   "cell_type": "code",
   "execution_count": 13,
   "metadata": {},
   "outputs": [
    {
     "name": "stdout",
     "output_type": "stream",
     "text": [
      "both number are not equal!\n"
     ]
    }
   ],
   "source": [
    "num1 = 30\n",
    "num2 = 40\n",
    "if num1 == num2:\n",
    "  print(\"both are equal!\")\n",
    "else:\n",
    "#if num1 != num2:\n",
    "  print(\"both number are not equal!\")"
   ]
  },
  {
   "cell_type": "code",
   "execution_count": 14,
   "metadata": {},
   "outputs": [
    {
     "name": "stdout",
     "output_type": "stream",
     "text": [
      "Enter the num:7\n",
      "the number is odd!\n"
     ]
    }
   ],
   "source": [
    "n1 = int(input(\"Enter the num:\"))\n",
    "if n1%2==0:\n",
    "  print(\"The number is Even!\")\n",
    "else:\n",
    "  print(\"the number is odd!\")"
   ]
  },
  {
   "cell_type": "code",
   "execution_count": 15,
   "metadata": {},
   "outputs": [
    {
     "name": "stdout",
     "output_type": "stream",
     "text": [
      "Enter the salary: 90000\n",
      "You are eligible for platinum\n"
     ]
    }
   ],
   "source": [
    "A = int(input(\"Enter the salary: \"))\n",
    "if A >= 10000:\n",
    "  print(\"You are eligible for platinum\")\n",
    "elif A >= 5000:\n",
    "    print(\"You are eligible for gold\")\n",
    "else:\n",
    "  print(\"Thank you\")"
   ]
  },
  {
   "cell_type": "code",
   "execution_count": null,
   "metadata": {},
   "outputs": [],
   "source": [
    "Age = int(input(\"Enter your age: \"))\n",
    "if Age < 18:\n",
    "  print(\"Minimum age is not satisfied\")\n",
    "else:\n",
    "  print(\"Keep going\")\n",
    "  if Age < 30:\n",
    "    print(\"you are eligible for the offer A\")\n",
    "  elif Age < 40:\n",
    "    print(\"you are eligible for the offer B\")\n",
    "  else:\n",
    "    print(\"Thank you\")"
   ]
  },
  {
   "cell_type": "markdown",
   "metadata": {},
   "source": [
    "#### Prompt to enter student name and scores for three homework. Compute and display the name and average score."
   ]
  },
  {
   "cell_type": "code",
   "execution_count": null,
   "metadata": {},
   "outputs": [],
   "source": [
    "name = input('Enter Student Name\\n') \n",
    "score_1 = int(input('Enter Score for Homework1\\n'))\n",
    "score_2 = int(input('Enter Score for Homework2\\n'))\n",
    "score_3 = int(input('Enter Score for Homework3\\n'))\n",
    "\n",
    "avg = (score_1 + score_2 + score_3)/3\n",
    "print(\"Student name:\",name)\n",
    "print(\"average score:\", avg )"
   ]
  },
  {
   "cell_type": "markdown",
   "metadata": {},
   "source": [
    "#### Get three random numbers from 1 –100 that are only multiples of 5.Sum them up and display your lucky score.(hints: use random)"
   ]
  },
  {
   "cell_type": "code",
   "execution_count": 16,
   "metadata": {},
   "outputs": [
    {
     "name": "stdout",
     "output_type": "stream",
     "text": [
      "125"
     ]
    }
   ],
   "source": [
    "import random\n",
    "sum = 0\n",
    "for i in range(3):\n",
    "    n = random.randint(1,100)\n",
    "    while n%5 != 0:\n",
    "        n = random.randint(1,100)\n",
    "    sum += n\n",
    "print(sum, end = '')"
   ]
  },
  {
   "cell_type": "code",
   "execution_count": null,
   "metadata": {},
   "outputs": [],
   "source": [
    "#using randomrange\n",
    "import random\n",
    "\n",
    "n1 = random.randrange(5,101,5)\n",
    "n2 = random.randrange(5,101,5)\n",
    "n3 = random.randrange(5,101,5)\n",
    "print(\"Your lucky three numbers:\", n1,n2,n3)\n",
    "sum = n1+n2+n3\n",
    "print(\"Total point\", sum)"
   ]
  },
  {
   "cell_type": "markdown",
   "metadata": {},
   "source": [
    "#### Prompt user to input the width and height of a righttriangle. Compute and display –area, length of the third side, and perimeter. (hints: use math)"
   ]
  },
  {
   "cell_type": "code",
   "execution_count": 20,
   "metadata": {},
   "outputs": [
    {
     "name": "stdout",
     "output_type": "stream",
     "text": [
      "Enter Width:65\n",
      "Enter height23\n",
      "_____________________\n",
      "\n",
      "Area of triangle: 747.50\n",
      "The third side: 68.95\n",
      "Perimeter of the triangle: 156.95\n"
     ]
    }
   ],
   "source": [
    "import math\n",
    "width = int(input(\"Enter Width:\"))\n",
    "height = int(input(\"Enter height\"))\n",
    "\n",
    "area = 1/2*width*height\n",
    "\n",
    "third_side = math.sqrt((width*width)+(height*height))\n",
    "\n",
    "perimeter = width+height+third_side\n",
    "\n",
    "print(\"_____________________\")\n",
    "print()\n",
    "print(f\"Area of triangle: {area:.2f}\")\n",
    "print(f\"The third side: {third_side:.2f}\")\n",
    "print(f\"Perimeter of the triangle: {round(perimeter,2):.2f}\")"
   ]
  },
  {
   "cell_type": "markdown",
   "metadata": {},
   "source": [
    "#### Write a program that will ask a real state agent to enter the price of a house.\n",
    "• The program should compute a tax of 3%  and display the amount of initial price, tax amount, and final price.<br>\n",
    "• Use a caption titled \"House Price\", f-string format with 3 decimals. Use also comma separators for the amounts."
   ]
  },
  {
   "cell_type": "code",
   "execution_count": null,
   "metadata": {},
   "outputs": [],
   "source": [
    "price = int(input(\"Enter the initial house price: \"))\n",
    "tax = 0.03\n",
    "tax_amount = price*tax\n",
    "final_price = price + tax_amount\n",
    "print()\n",
    "title = \"House Price\"\n",
    "print(f\"{title:^50}\")\n",
    "print(f\"Initial House Price: ${price:.3f}\")\n",
    "print()\n",
    "print(f\"Tax applied: {tax:.0%}\")\n",
    "print(f\"Tax amount: {tax_amount:.3f}\")\n",
    "print(f\"Final House Price: {final_price:.3f}\")"
   ]
  },
  {
   "cell_type": "markdown",
   "metadata": {},
   "source": [
    "#### Write a program to enter the number of female and male students in the class.\n",
    "• The program should compute and display the percentage with each category.<br>\n",
    "• Is it true that the number of males is higher than females? Display it.<br>\n",
    "• (Hints: use round to avoid decimal)"
   ]
  },
  {
   "cell_type": "code",
   "execution_count": null,
   "metadata": {},
   "outputs": [],
   "source": [
    "num_male = int(input(\"Enter the number of males:\"))\n",
    "num_female = int(input(\"Enter the number of females:\"))\n",
    "male_inpercent = num_male/(num_male+num_female)\n",
    "female_inpercent = num_female/(num_male+num_female)\n",
    "\n",
    "print(f\"Male percent: {male_inpercent:.0%}\")\n",
    "print(f\"Female_inpercent: {female_inpercent:.0%}\")\n",
    "if male_inpercent > female_inpercent:\n",
    "    print(\"The number of boys are greated than the number of girls by\",(num_male-num_female))\n",
    "else:\n",
    "    print(\"Thw number of girls are greated than the number of boys by\", (num_female-num_male))"
   ]
  },
  {
   "cell_type": "markdown",
   "metadata": {},
   "source": [
    "Write a program to compute the salvage value of a machine.\n",
    "• The price of the machine is  100,000.<𝑏𝑟>•𝑇ℎ𝑒𝑑𝑒𝑝𝑟𝑒𝑐𝑖𝑎𝑡𝑖𝑜𝑛𝑖𝑠10•𝐼𝑓𝑡ℎ𝑒𝑚𝑎𝑐ℎ𝑖𝑛𝑒𝑖𝑠𝑠𝑜𝑙𝑑𝑏𝑦\n",
    " 50,000 at the end of 3rd year, what will be the amount of profit/loss.\n",
    "• (Hints: use f-string, comma separator, 2 decimal points)"
   ]
  },
  {
   "cell_type": "markdown",
   "metadata": {},
   "source": [
    "# If-else statements"
   ]
  },
  {
   "cell_type": "markdown",
   "metadata": {},
   "source": [
    "• Ask user to input score for three class tests <br>\n",
    "• Compute the average score.<br>\n",
    "• Write a program to assign a letter grade for the average score <br>\n",
    "• Grading system: <br>\n",
    "• A (90 or above) <br>\n",
    "• B (80 – 89) <br>\n",
    "• C (70 – 79) <br>\n",
    "• D (60 – 69) <br>\n",
    "• F (Below 60))"
   ]
  },
  {
   "cell_type": "code",
   "execution_count": 21,
   "metadata": {},
   "outputs": [
    {
     "name": "stdout",
     "output_type": "stream",
     "text": [
      "Enter class test 1:56\n",
      "Enter class test 2:90\n",
      "Enter class test 3:100\n",
      "Grade B\n"
     ]
    }
   ],
   "source": [
    "a = 90\n",
    "b = 80\n",
    "c = 70\n",
    "d = 60\n",
    "test1 = int(input(\"Enter class test 1:\"))\n",
    "test2 = int(input(\"Enter class test 2:\"))\n",
    "test3 = int(input(\"Enter class test 3:\"))\n",
    "avg_score = (test1+test2+test3)/3\n",
    "\n",
    "if avg_score >= a:\n",
    "    print(\"Grade A\")\n",
    "elif avg_score >= b:\n",
    "    print(\"Grade B\")\n",
    "elif avg_score >= c:\n",
    "    print(\"Grade C\")\n",
    "elif avg_score >= d:\n",
    "    print(\"Grade D\")\n",
    "else:\n",
    "    print(\"Grade E\")"
   ]
  },
  {
   "cell_type": "markdown",
   "metadata": {},
   "source": [
    "#### You want to mail a gift to your friend through USPS. The initial charge is  6.00.\n",
    "𝑇ℎ𝑒 𝑓𝑜𝑙𝑙𝑜𝑤𝑖𝑛𝑔 𝑟𝑎𝑡𝑒𝑠 𝑝𝑒𝑟 𝑝𝑜𝑢𝑛𝑑 𝑎𝑟𝑒 𝑎𝑝𝑝𝑙𝑖𝑒𝑑 𝑏𝑎𝑠𝑒𝑑 𝑜𝑛 𝑡ℎ𝑒 𝑤𝑒𝑖𝑔ℎ𝑡 𝑜𝑓 𝑡ℎ𝑒 𝑔𝑖𝑓𝑡.<br>\n",
    "•1.50 up to 2lb <br>\n",
    "•3.00𝑢𝑝𝑡𝑜4𝑙𝑏 <br>\n",
    "•4.00 up to 6lb <br>\n",
    "•$4.75 above 6lb <br>\n",
    "Write a program to compute the final charge with 2-decimal points. <br>\n",
    "• What will be the amount of charge for a 5.5lb gift."
   ]
  },
  {
   "cell_type": "code",
   "execution_count": null,
   "metadata": {},
   "outputs": [],
   "source": [
    "weight = float(input(\"Enter your weight\"))\n",
    "initial_charge = 6.00\n",
    "charge = 0\n",
    "if weight <= 2:\n",
    "    charge = initial_charge + 1.50*weight\n",
    "elif weight <= 4:\n",
    "    charge = initial_charge + 3.00*weight\n",
    "elif weight <=6:\n",
    "    charge = initial_charge + 4.00*weight\n",
    "else:\n",
    "    charge = initial_charge + 4.75*weight\n",
    "\n",
    "print(f\"Final Charge of the weight of the gift is : ${charge:.2f}\")"
   ]
  },
  {
   "cell_type": "markdown",
   "metadata": {},
   "source": [
    "#### You are going to make a learning app for the kids. Make a program to learn the capital of the following states. <br>\n",
    "• State = ['Alabama’, 'Alaska', 'Arizona', 'California', 'Idaho’] <br>\n",
    "• Capital = [Montgomery', ‘Juneau’, ' Phoenix', ' Sacramento', 'Boise’] <br>\n",
    "Prompt the user to choose one state.<br>\n",
    "Make sure to convert the user input as Capitalize <br>\n",
    "Show the name of the selected state and the corresponding capital in the lower and<br>\n",
    "UPPER case, respectively.<br>\n",
    "Also show an error message if the user chooses anything other than the above states.<br>"
   ]
  },
  {
   "cell_type": "code",
   "execution_count": 31,
   "metadata": {},
   "outputs": [
    {
     "name": "stdout",
     "output_type": "stream",
     "text": [
      "['Alabama', 'Alaska', 'Arizona', 'California', 'Idaho']\n",
      "Please choose state from the listArizona\n",
      "The state you choose:  ARIZONA\n",
      "The Captial of Arizona is: PHOENIX\n"
     ]
    }
   ],
   "source": [
    "State = ['Alabama', 'Alaska','Arizona','California','Idaho']\n",
    "print(State)\n",
    "Capital = ['Montgomery', 'Juneau', 'Phoenix', 'Sacramento','Boise']\n",
    "choose_state = input(\"Please choose state from the list\")\n",
    "print(\"The state you choose: \", choose_state.upper())\n",
    "for i in range(len(State)):\n",
    "    if State[i] == choose_state:\n",
    "        print(\"The Captial of\",State[i],\"is:\",Capital[i].upper())\n",
    "        break"
   ]
  },
  {
   "cell_type": "markdown",
   "metadata": {},
   "source": [
    "# functions/methods in Python"
   ]
  },
  {
   "cell_type": "code",
   "execution_count": null,
   "metadata": {},
   "outputs": [],
   "source": [
    "def hello():\n",
    "  print(\"hello World\")  "
   ]
  },
  {
   "cell_type": "code",
   "execution_count": null,
   "metadata": {},
   "outputs": [
    {
     "name": "stdout",
     "output_type": "stream",
     "text": [
      "hello World\n"
     ]
    }
   ],
   "source": [
    "hello()"
   ]
  },
  {
   "cell_type": "code",
   "execution_count": null,
   "metadata": {},
   "outputs": [
    {
     "name": "stdout",
     "output_type": "stream",
     "text": [
      "8\n"
     ]
    }
   ],
   "source": [
    "#if we want to decalre the datatype in the function -\n",
    "def addition1(x:int, y:int):\n",
    "    return x+y\n",
    "\n",
    "z = addition1(5,3)\n",
    "print(z)"
   ]
  },
  {
   "cell_type": "code",
   "execution_count": null,
   "metadata": {},
   "outputs": [],
   "source": [
    "def add_numbers():\n",
    "  num1 = int(input(\"Enter the number 1\"))\n",
    "  num2 = int(input(\"Enter the number 1\"))\n",
    "  res = num1 + num2\n",
    "  print(res)"
   ]
  },
  {
   "cell_type": "code",
   "execution_count": null,
   "metadata": {},
   "outputs": [
    {
     "name": "stdout",
     "output_type": "stream",
     "text": [
      "Enter the number 123\n",
      "Enter the number 134\n",
      "57\n"
     ]
    }
   ],
   "source": [
    "add_numbers()"
   ]
  },
  {
   "cell_type": "code",
   "execution_count": null,
   "metadata": {},
   "outputs": [],
   "source": [
    "def multiply_numbers():\n",
    "  num1 = int(input(\"Enter the number 1\"))\n",
    "  num2 = int(input(\"Enter the number 1\"))\n",
    "  res = num1 * num2\n",
    "  print(res)"
   ]
  },
  {
   "cell_type": "code",
   "execution_count": null,
   "metadata": {},
   "outputs": [
    {
     "name": "stdout",
     "output_type": "stream",
     "text": [
      "Enter the number 12\n",
      "Enter the number 13\n",
      "6\n"
     ]
    }
   ],
   "source": [
    "multiply_numbers()"
   ]
  },
  {
   "cell_type": "code",
   "execution_count": null,
   "metadata": {},
   "outputs": [],
   "source": [
    "def main():\n",
    "  add_numbers()\n",
    "  multiply_numbers()"
   ]
  },
  {
   "cell_type": "code",
   "execution_count": null,
   "metadata": {},
   "outputs": [
    {
     "name": "stdout",
     "output_type": "stream",
     "text": [
      "Enter the number 123\n",
      "Enter the number 112\n",
      "35\n",
      "Enter the number 123\n",
      "Enter the number 112\n",
      "276\n"
     ]
    }
   ],
   "source": [
    "main()"
   ]
  },
  {
   "cell_type": "code",
   "execution_count": null,
   "metadata": {},
   "outputs": [],
   "source": [
    "def divide(num1,num2):\n",
    "  res = num1/num2\n",
    "  print(res)"
   ]
  },
  {
   "cell_type": "code",
   "execution_count": null,
   "metadata": {},
   "outputs": [
    {
     "name": "stdout",
     "output_type": "stream",
     "text": [
      "1.9166666666666667\n"
     ]
    }
   ],
   "source": [
    "divide(23,12)"
   ]
  },
  {
   "cell_type": "code",
   "execution_count": null,
   "metadata": {},
   "outputs": [],
   "source": [
    "def add1(x,y):\n",
    "  res = x+y\n",
    "  print(res)"
   ]
  },
  {
   "cell_type": "code",
   "execution_count": null,
   "metadata": {},
   "outputs": [],
   "source": [
    "def add2(x,y):\n",
    "  res = x+y\n",
    "  return res"
   ]
  },
  {
   "cell_type": "code",
   "execution_count": null,
   "metadata": {},
   "outputs": [],
   "source": [
    "output1 = add1(1,5)\n",
    "if output1>0:\n",
    "  print(\"great\")"
   ]
  },
  {
   "cell_type": "code",
   "execution_count": null,
   "metadata": {},
   "outputs": [
    {
     "name": "stdout",
     "output_type": "stream",
     "text": [
      "great\n"
     ]
    }
   ],
   "source": [
    "output2 = add2(1,5)\n",
    "if output2>0:\n",
    "  print(\"great\")"
   ]
  },
  {
   "cell_type": "code",
   "execution_count": null,
   "metadata": {},
   "outputs": [],
   "source": [
    "def avg(num1=10, num2=20):\n",
    "  average = (num1+num2)/2\n",
    "  return average"
   ]
  },
  {
   "cell_type": "code",
   "execution_count": null,
   "metadata": {},
   "outputs": [
    {
     "data": {
      "text/plain": [
       "150.0"
      ]
     },
     "metadata": {},
     "output_type": "display_data"
    }
   ],
   "source": [
    "avg(100,200)"
   ]
  },
  {
   "cell_type": "code",
   "execution_count": null,
   "metadata": {},
   "outputs": [
    {
     "data": {
      "text/plain": [
       "15.0"
      ]
     },
     "metadata": {},
     "output_type": "display_data"
    }
   ],
   "source": [
    "avg()"
   ]
  },
  {
   "cell_type": "code",
   "execution_count": null,
   "metadata": {},
   "outputs": [
    {
     "data": {
      "text/plain": [
       "60.0"
      ]
     },
     "metadata": {},
     "output_type": "display_data"
    }
   ],
   "source": [
    "avg(100)"
   ]
  },
  {
   "cell_type": "code",
   "execution_count": null,
   "metadata": {},
   "outputs": [
    {
     "data": {
      "text/plain": [
       "1500.0"
      ]
     },
     "metadata": {},
     "output_type": "display_data"
    }
   ],
   "source": [
    "avg(num1=1000,num2=2000)"
   ]
  },
  {
   "cell_type": "code",
   "execution_count": null,
   "metadata": {},
   "outputs": [
    {
     "name": "stdout",
     "output_type": "stream",
     "text": [
      "Hello John\n",
      "Hi John\n",
      "Good Moarning Bob\n",
      "Study hard Rutuja\n"
     ]
    }
   ],
   "source": [
    "def greet(name, message=\"Hello\"):\n",
    "    print(message, name)\n",
    "    \n",
    "#positional arguments\n",
    "greet(\"John\")\n",
    "greet(\"John\",\"Hi\")\n",
    "\n",
    "#Keyword Argument\n",
    "greet(message=\"Good Moarning\", name=\"Bob\")\n",
    "greet(name=\"Rutuja\", message=\"Study hard\")"
   ]
  },
  {
   "cell_type": "markdown",
   "metadata": {},
   "source": [
    "#### Write a function that takes a string as input and returns the number of vowels in the string."
   ]
  },
  {
   "cell_type": "code",
   "execution_count": 54,
   "metadata": {},
   "outputs": [],
   "source": [
    "def count_vowels(string):\n",
    "  vowels = 'aeiouAEIOU'\n",
    "  count = 0\n",
    "  for char in string:\n",
    "    if char in vowels:\n",
    "      count += 1\n",
    "  return count"
   ]
  },
  {
   "cell_type": "code",
   "execution_count": 55,
   "metadata": {},
   "outputs": [
    {
     "name": "stdout",
     "output_type": "stream",
     "text": [
      "3\n"
     ]
    }
   ],
   "source": [
    "print(count_vowels(\"Marina\"))"
   ]
  },
  {
   "cell_type": "markdown",
   "metadata": {},
   "source": [
    "#### Write a function that takes two lists as input and returns the common elements in both lists."
   ]
  },
  {
   "cell_type": "code",
   "execution_count": 65,
   "metadata": {},
   "outputs": [],
   "source": [
    "def get_common(list1,list2):\n",
    "    list3 = []\n",
    "    for i in list1:\n",
    "        for j in list2:\n",
    "            if i == j:\n",
    "                list3.append(i)\n",
    "    return list3"
   ]
  },
  {
   "cell_type": "code",
   "execution_count": 66,
   "metadata": {},
   "outputs": [
    {
     "name": "stdout",
     "output_type": "stream",
     "text": [
      "[2, 4, 5]\n"
     ]
    }
   ],
   "source": [
    "res = get_common([1,2,3,4,5],[2,5,4,6,9])\n",
    "print(res)"
   ]
  },
  {
   "cell_type": "markdown",
   "metadata": {},
   "source": [
    "#### Write a function that takes a list of numbers as input and returns the sum of the numbers in the list."
   ]
  },
  {
   "cell_type": "code",
   "execution_count": 61,
   "metadata": {},
   "outputs": [],
   "source": [
    "def sumOfNumbers(nums):\n",
    "    total = 0\n",
    "    for i in nums:\n",
    "        total +=i\n",
    "    return total      "
   ]
  },
  {
   "cell_type": "code",
   "execution_count": 62,
   "metadata": {},
   "outputs": [
    {
     "data": {
      "text/plain": [
       "124"
      ]
     },
     "execution_count": 62,
     "metadata": {},
     "output_type": "execute_result"
    }
   ],
   "source": [
    "sumOfNumbers([45,67,12])"
   ]
  },
  {
   "cell_type": "markdown",
   "metadata": {},
   "source": [
    "### Write a function that takes both positional and keyword arguments to welcome Smith and Abraham"
   ]
  },
  {
   "cell_type": "code",
   "execution_count": 69,
   "metadata": {},
   "outputs": [],
   "source": [
    "def welcome(*args):\n",
    "    for i in args:\n",
    "        print(\"Welcome!\",i)"
   ]
  },
  {
   "cell_type": "code",
   "execution_count": 70,
   "metadata": {},
   "outputs": [
    {
     "name": "stdout",
     "output_type": "stream",
     "text": [
      "Welcome! John\n",
      "Welcome! smith\n"
     ]
    }
   ],
   "source": [
    "welcome(\"John\",\"smith\")"
   ]
  },
  {
   "cell_type": "code",
   "execution_count": 71,
   "metadata": {},
   "outputs": [
    {
     "name": "stdout",
     "output_type": "stream",
     "text": [
      "Welcome! John\n",
      "Welcome! smith\n",
      "Welcome! Abraham\n"
     ]
    }
   ],
   "source": [
    "welcome(\"John\",\"smith\",\"Abraham\")"
   ]
  },
  {
   "cell_type": "markdown",
   "metadata": {},
   "source": [
    "### Write a Python function that takes an arbitrary number of numbers as arguments and returns the average of the numbers."
   ]
  },
  {
   "cell_type": "code",
   "execution_count": 72,
   "metadata": {},
   "outputs": [
    {
     "name": "stdout",
     "output_type": "stream",
     "text": [
      "2.0\n"
     ]
    }
   ],
   "source": [
    "def avg_num(*num):\n",
    "    sum = 0\n",
    "    for i in num:\n",
    "        sum+=i\n",
    "    avg = sum/len(num)\n",
    "    print(avg)\n",
    "    \n",
    "avg_num(1,2,3)"
   ]
  },
  {
   "cell_type": "markdown",
   "metadata": {},
   "source": [
    "###  Write a function that takes a list of numbers as input and returns a new list with all the duplicates removed."
   ]
  },
  {
   "cell_type": "code",
   "execution_count": null,
   "metadata": {},
   "outputs": [
    {
     "name": "stdout",
     "output_type": "stream",
     "text": [
      "[1, 2, 3, 4]\n"
     ]
    }
   ],
   "source": [
    "num = [1,2,3,4,4]\n",
    "def remove_duplicates(num):\n",
    "    list_new = []\n",
    "    for i in num:\n",
    "        while i not in list_new:\n",
    "            list_new.append(i)\n",
    "    print(list_new)\n",
    "\n",
    "remove_duplicates([1,2,3,4,4])"
   ]
  },
  {
   "cell_type": "code",
   "execution_count": 59,
   "metadata": {},
   "outputs": [
    {
     "data": {
      "text/plain": [
       "'True'"
      ]
     },
     "execution_count": 59,
     "metadata": {},
     "output_type": "execute_result"
    }
   ],
   "source": [
    "#find duplicates\n",
    "def duplicates(nums):\n",
    "    \n",
    "    list1 = []\n",
    "    #dup = {x for x in nums if nums.count(x) > 1}\n",
    "    for i in range(len(nums)):\n",
    "        if nums.count(i)>1:\n",
    "            return 'True'\n",
    "    return 'false'\n",
    "\n",
    "nums = [1,2,3,4,4]\n",
    "duplicates(nums)"
   ]
  },
  {
   "cell_type": "markdown",
   "metadata": {},
   "source": [
    "### Write a program that contains two functions: isMultipleOfFive and multipleOfFive. \n",
    "• The isMultipleOfFive function takes an integer as an argument and returns True if it is a multiple of 5, and False otherwise.<br>\n",
    "• The multipleOfFive function takes no arguments. It repeatedly prompts the user to\n",
    "enter an integer until a valid integer is entered.<br>\n",
    "• Then it calls the isMultipleOfFive function to check if the entered integer is a multiple of 5. If it is, the function prints the message [integer] is a multiple of 5. If not, the function prints the message [integer] is not a multiple of 5.<br>\n",
    "• Finally, call the multipleOfFive function to test it."
   ]
  },
  {
   "cell_type": "code",
   "execution_count": 91,
   "metadata": {},
   "outputs": [],
   "source": [
    "def isMultipleOfFive(integer):\n",
    "    if integer % 5 == 0:\n",
    "        return True\n",
    "    else:\n",
    "        return False\n",
    "\n",
    "def multipleOfFive():\n",
    "    while True:\n",
    "        enter_int = input(\"Enter Integer \")\n",
    "        check = isMultipleOfFive(int(enter_int))\n",
    "        if check  == True:\n",
    "            print(f\"The {enter_int} is a multiple of 5\")\n",
    "        else:\n",
    "            print(f\"The {enter_int} is not a multiple of 5\")\n",
    "\n",
    "        if enter_int == \" \":\n",
    "            break"
   ]
  },
  {
   "cell_type": "code",
   "execution_count": 92,
   "metadata": {},
   "outputs": [
    {
     "name": "stdout",
     "output_type": "stream",
     "text": [
      "Enter Integer 56\n",
      "The 56 is not a multiple of 5\n",
      "Enter Integer 34\n",
      "The 34 is not a multiple of 5\n",
      "Enter Integer 56\n",
      "The 56 is not a multiple of 5\n",
      "Enter Integer \n"
     ]
    },
    {
     "ename": "ValueError",
     "evalue": "invalid literal for int() with base 10: ''",
     "output_type": "error",
     "traceback": [
      "\u001b[1;31m---------------------------------------------------------------------------\u001b[0m",
      "\u001b[1;31mValueError\u001b[0m                                Traceback (most recent call last)",
      "Input \u001b[1;32mIn [92]\u001b[0m, in \u001b[0;36m<cell line: 1>\u001b[1;34m()\u001b[0m\n\u001b[1;32m----> 1\u001b[0m \u001b[43mmultipleOfFive\u001b[49m\u001b[43m(\u001b[49m\u001b[43m)\u001b[49m\n",
      "Input \u001b[1;32mIn [91]\u001b[0m, in \u001b[0;36mmultipleOfFive\u001b[1;34m()\u001b[0m\n\u001b[0;32m      8\u001b[0m \u001b[38;5;28;01mwhile\u001b[39;00m \u001b[38;5;28;01mTrue\u001b[39;00m:\n\u001b[0;32m      9\u001b[0m     enter_int \u001b[38;5;241m=\u001b[39m \u001b[38;5;28minput\u001b[39m(\u001b[38;5;124m\"\u001b[39m\u001b[38;5;124mEnter Integer \u001b[39m\u001b[38;5;124m\"\u001b[39m)\n\u001b[1;32m---> 10\u001b[0m     check \u001b[38;5;241m=\u001b[39m isMultipleOfFive(\u001b[38;5;28;43mint\u001b[39;49m\u001b[43m(\u001b[49m\u001b[43menter_int\u001b[49m\u001b[43m)\u001b[49m)\n\u001b[0;32m     11\u001b[0m     \u001b[38;5;28;01mif\u001b[39;00m check  \u001b[38;5;241m==\u001b[39m \u001b[38;5;28;01mTrue\u001b[39;00m:\n\u001b[0;32m     12\u001b[0m         \u001b[38;5;28mprint\u001b[39m(\u001b[38;5;124mf\u001b[39m\u001b[38;5;124m\"\u001b[39m\u001b[38;5;124mThe \u001b[39m\u001b[38;5;132;01m{\u001b[39;00menter_int\u001b[38;5;132;01m}\u001b[39;00m\u001b[38;5;124m is a multiple of 5\u001b[39m\u001b[38;5;124m\"\u001b[39m)\n",
      "\u001b[1;31mValueError\u001b[0m: invalid literal for int() with base 10: ''"
     ]
    }
   ],
   "source": [
    "multipleOfFive()"
   ]
  },
  {
   "cell_type": "markdown",
   "metadata": {},
   "source": [
    "• Write a program that contains a function calculateHypo.<br>\n",
    "• The function takes no arguments. It repeatedly prompts the user to enter two valid float <br>\n",
    "values for the two sides of a right triangle. <br>\n",
    "• The function uses the math.hypot function from the math module to calculate the length of the hypotenuse of the triangle using the two sides.<br>\n",
    "• The function returns the length of the hypotenuse rounded to two decimal places.<br>\n",
    "• Finally, call the calculateHypo function and print the length of the hypotenuse."
   ]
  },
  {
   "cell_type": "code",
   "execution_count": null,
   "metadata": {},
   "outputs": [],
   "source": []
  },
  {
   "cell_type": "markdown",
   "metadata": {},
   "source": [
    "• Write a program that contains a function play. The function takes no arguments. It repeatedly\n",
    "prompts the user to enter a positive integer that represents the number of times they want to play\n",
    "a coin tossing game.\n",
    "• The function uses the random.randint function from the random module to simulate a coin\n",
    "toss for each play. If the result of a coin toss is 1, player 1 earns 10 points. If the result is 2,\n",
    "player 2 earns 10 points.\n",
    "• The function keeps track of the total points for each player and displays the total points for both\n",
    "players at the end of the game.\n",
    "• The function also displays the winner or if the game is a tie.\n",
    "• Finally, call the play function to play the game."
   ]
  },
  {
   "cell_type": "code",
   "execution_count": null,
   "metadata": {},
   "outputs": [],
   "source": []
  },
  {
   "cell_type": "markdown",
   "metadata": {},
   "source": [
    "Write a function factorial that takes a non-negative integer as an argument and\n",
    "returns its factorial. If the argument is negative, the function returns the string \"Enter\n",
    "a non-negative value!\".\n",
    "• The factorial of a non-negative integer n is the product of all positive integers less\n",
    "than or equal to n. For example, the factorial of 5 is 5! = 5 x 4 x 3 x 2 x 1 = 120.\n",
    "• Write a program that calls the factorial function with the argument 10 and prints the\n",
    "factorial. If the result is not an integer, print the string returned by the function."
   ]
  },
  {
   "cell_type": "code",
   "execution_count": null,
   "metadata": {},
   "outputs": [],
   "source": []
  }
 ],
 "metadata": {
  "kernelspec": {
   "display_name": "Python 3 (ipykernel)",
   "language": "python",
   "name": "python3"
  },
  "language_info": {
   "codemirror_mode": {
    "name": "ipython",
    "version": 3
   },
   "file_extension": ".py",
   "mimetype": "text/x-python",
   "name": "python",
   "nbconvert_exporter": "python",
   "pygments_lexer": "ipython3",
   "version": "3.10.4"
  }
 },
 "nbformat": 4,
 "nbformat_minor": 2
}
