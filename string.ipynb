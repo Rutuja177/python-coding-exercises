{
 "cells": [
  {
   "cell_type": "code",
   "execution_count": 2,
   "id": "570939c9",
   "metadata": {},
   "outputs": [
    {
     "name": "stdout",
     "output_type": "stream",
     "text": [
      "Arlington"
     ]
    }
   ],
   "source": [
    "text = \"Arlington\"\n",
    "for char in text:\n",
    "    print(char, end=\"\")"
   ]
  },
  {
   "cell_type": "code",
   "execution_count": 2,
   "id": "79d21b88",
   "metadata": {},
   "outputs": [
    {
     "data": {
      "text/plain": [
       "9"
      ]
     },
     "execution_count": 2,
     "metadata": {},
     "output_type": "execute_result"
    }
   ],
   "source": [
    "len(text)"
   ]
  },
  {
   "cell_type": "code",
   "execution_count": 3,
   "id": "ec0e6381",
   "metadata": {},
   "outputs": [
    {
     "data": {
      "text/plain": [
       "'ARLINGTON'"
      ]
     },
     "execution_count": 3,
     "metadata": {},
     "output_type": "execute_result"
    }
   ],
   "source": [
    "text.upper()"
   ]
  },
  {
   "cell_type": "code",
   "execution_count": 4,
   "id": "e572fb8e",
   "metadata": {},
   "outputs": [
    {
     "data": {
      "text/plain": [
       "'arlington'"
      ]
     },
     "execution_count": 4,
     "metadata": {},
     "output_type": "execute_result"
    }
   ],
   "source": [
    "text.lower()"
   ]
  },
  {
   "cell_type": "code",
   "execution_count": 6,
   "id": "a6c17a6e",
   "metadata": {},
   "outputs": [
    {
     "data": {
      "text/plain": [
       "'@rlington'"
      ]
     },
     "execution_count": 6,
     "metadata": {},
     "output_type": "execute_result"
    }
   ],
   "source": [
    "text.replace(\"A\", \"@\")"
   ]
  },
  {
   "cell_type": "code",
   "execution_count": 2,
   "id": "5193937d",
   "metadata": {},
   "outputs": [
    {
     "name": "stdout",
     "output_type": "stream",
     "text": [
      "Arlingtonisbeautiful\n"
     ]
    }
   ],
   "source": [
    "sentence = \"Arlington is beautiful\"\n",
    "new_sen = \"\"\n",
    "for word in sentence.split():\n",
    "    word.capitalize()\n",
    "    new_sen += word\n",
    "print(new_sen)\n",
    "new_sen  = sentence.split()"
   ]
  },
  {
   "cell_type": "code",
   "execution_count": 3,
   "id": "1b1919eb",
   "metadata": {},
   "outputs": [
    {
     "data": {
      "text/plain": [
       "'Arlington'"
      ]
     },
     "execution_count": 3,
     "metadata": {},
     "output_type": "execute_result"
    }
   ],
   "source": [
    "sample = \" Arlington \"\n",
    "sample.strip()"
   ]
  },
  {
   "cell_type": "code",
   "execution_count": 4,
   "id": "71cfcc86",
   "metadata": {},
   "outputs": [
    {
     "data": {
      "text/plain": [
       "'Arlington '"
      ]
     },
     "execution_count": 4,
     "metadata": {},
     "output_type": "execute_result"
    }
   ],
   "source": [
    "sample.lstrip()"
   ]
  },
  {
   "cell_type": "code",
   "execution_count": 5,
   "id": "a3296d54",
   "metadata": {},
   "outputs": [
    {
     "data": {
      "text/plain": [
       "' Arlington'"
      ]
     },
     "execution_count": 5,
     "metadata": {},
     "output_type": "execute_result"
    }
   ],
   "source": [
    "sample.rstrip()"
   ]
  },
  {
   "cell_type": "markdown",
   "id": "31d434b5",
   "metadata": {},
   "source": [
    "### Write a Python program that takes a user input string and converts it to lowercase. The program should then count the number of vowels in the string and print out the count along with a list of the vowels found in the string."
   ]
  },
  {
   "cell_type": "code",
   "execution_count": 13,
   "id": "c37d7e7a",
   "metadata": {},
   "outputs": [],
   "source": [
    "def convertString(string):\n",
    "    lower_string = string.lower()\n",
    "    vowels = 'aeiou'\n",
    "    count = 0\n",
    "    vowels_list = []\n",
    "    for char in lower_string:\n",
    "        if char in vowels and char not in vowels_list:\n",
    "            count+=1\n",
    "            vowels_list.append(char)\n",
    "    return lower_string, vowels_list, count"
   ]
  },
  {
   "cell_type": "code",
   "execution_count": 14,
   "id": "085014e1",
   "metadata": {},
   "outputs": [
    {
     "data": {
      "text/plain": [
       "('i am rutuja', ['i', 'a', 'u'], 3)"
      ]
     },
     "execution_count": 14,
     "metadata": {},
     "output_type": "execute_result"
    }
   ],
   "source": [
    "convertString(\"I am Rutuja\")"
   ]
  },
  {
   "cell_type": "markdown",
   "id": "b8e03ff2",
   "metadata": {},
   "source": [
    "#### Write a Python program that takes a string as input, which contains words that are concatenated together without any spaces. The program should insert spaces before each word in the string, then print the resulting string with each word separated by a space.\n",
    "For example, given the input string \"GoingHomeTomorrow\", the program should output the string \"Going Home Tomorrow\"."
   ]
  },
  {
   "cell_type": "code",
   "execution_count": 42,
   "id": "6827af44",
   "metadata": {},
   "outputs": [],
   "source": [
    "def insertSpace(string):\n",
    "    res = \"\"\n",
    "    for i in string:\n",
    "        if i.isupper():\n",
    "            res+=\" \"+i\n",
    "        else:\n",
    "            res+=i\n",
    "    print(string , res)\n",
    "        "
   ]
  },
  {
   "cell_type": "code",
   "execution_count": 43,
   "id": "ce02dfb5",
   "metadata": {},
   "outputs": [
    {
     "name": "stdout",
     "output_type": "stream",
     "text": [
      "GoingHomeTomorrow  Going Home Tomorrow\n"
     ]
    }
   ],
   "source": [
    "insertSpace(\"GoingHomeTomorrow\")"
   ]
  },
  {
   "cell_type": "markdown",
   "id": "39f45890",
   "metadata": {},
   "source": [
    "#### Write a function that takes a string as input and returns the reverse of the string."
   ]
  },
  {
   "cell_type": "code",
   "execution_count": 58,
   "id": "1e6c66b5",
   "metadata": {},
   "outputs": [
    {
     "name": "stdout",
     "output_type": "stream",
     "text": [
      "ahgemO\n"
     ]
    }
   ],
   "source": [
    "#reverse\n",
    "def reverse_string(string):\n",
    "    return string[::-1]\n",
    "\n",
    "print(reverse_string(\"Omegha\"))"
   ]
  },
  {
   "cell_type": "markdown",
   "id": "e3671b8f",
   "metadata": {},
   "source": [
    "#### Write a function that takes a string as input and returns the reverse of the string."
   ]
  },
  {
   "cell_type": "code",
   "execution_count": 3,
   "id": "81a344b3",
   "metadata": {},
   "outputs": [
    {
     "name": "stdout",
     "output_type": "stream",
     "text": [
      "ahgemO\n"
     ]
    }
   ],
   "source": [
    "#reverse\n",
    "def reverse_string(string):\n",
    "    return string[::-1]\n",
    "\n",
    "print(reverse_string(\"Omegha\"))"
   ]
  },
  {
   "cell_type": "markdown",
   "id": "81b5b4b7",
   "metadata": {},
   "source": [
    "#### Write a function that takes a string as input and returns a new string with all the spaces removed."
   ]
  },
  {
   "cell_type": "code",
   "execution_count": 4,
   "id": "9bad2fb7",
   "metadata": {},
   "outputs": [
    {
     "name": "stdout",
     "output_type": "stream",
     "text": [
      "helloworld\n"
     ]
    }
   ],
   "source": [
    "def remove_space(string):\n",
    "    return string.replace(\" \",\"\")\n",
    "\n",
    "print(remove_space('hello world'))"
   ]
  },
  {
   "cell_type": "markdown",
   "id": "ea7a48ca",
   "metadata": {},
   "source": [
    "#### Write a function that takes a list of strings as input and returns the longest string in the list. "
   ]
  },
  {
   "cell_type": "code",
   "execution_count": 5,
   "id": "119c6964",
   "metadata": {},
   "outputs": [
    {
     "name": "stdout",
     "output_type": "stream",
     "text": [
      "Dukhande\n"
     ]
    }
   ],
   "source": [
    "def longest_string(string):\n",
    "    longest = \"\"\n",
    "    for i in string.split():\n",
    "        if len(i)>len(longest):\n",
    "            longest = i\n",
    "    print(longest)\n",
    "longest_string(\"Rutuja Dukhande\")"
   ]
  }
 ],
 "metadata": {
  "kernelspec": {
   "display_name": "Python 3 (ipykernel)",
   "language": "python",
   "name": "python3"
  },
  "language_info": {
   "codemirror_mode": {
    "name": "ipython",
    "version": 3
   },
   "file_extension": ".py",
   "mimetype": "text/x-python",
   "name": "python",
   "nbconvert_exporter": "python",
   "pygments_lexer": "ipython3",
   "version": "3.10.4"
  }
 },
 "nbformat": 4,
 "nbformat_minor": 5
}
