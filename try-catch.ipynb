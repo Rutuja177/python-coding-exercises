{
 "cells": [
  {
   "cell_type": "markdown",
   "metadata": {},
   "source": [
    "# try, except, finally, else\n",
    "https://www.w3schools.com/python/python_try_except.asp"
   ]
  },
  {
   "cell_type": "markdown",
   "metadata": {},
   "source": [
    "**if the operation have no error:**\n",
    "<li>try</li>\n",
    "<li>else</li>\n",
    "<li>finally<li>\n",
    "\n",
    "**if you raised your own exception** <br>\n",
    "try: <br>\n",
    "    ##your operation <br>\n",
    "    raise Name(\"\") <br>\n",
    "except Name as e: <br>\n",
    "    print(e)<br>\n",
    "else:<br>\n",
    "    \n",
    "finally:<br>\n",
    "\n",
    "\n",
    "**if the operation have error/exception:** <br>\n",
    "Exception\n",
    "<li>except</li>\n",
    "<li>finally</li>"
   ]
  },
  {
   "cell_type": "code",
   "execution_count": 1,
   "metadata": {
    "colab": {
     "base_uri": "https://localhost:8080/"
    },
    "id": "BjWUmIupaeSd",
    "outputId": "063a0329-0115-4046-e342-2408e2846f82"
   },
   "outputs": [
    {
     "name": "stdout",
     "output_type": "stream",
     "text": [
      "5.0\n",
      "10\n",
      "Finished\n"
     ]
    }
   ],
   "source": [
    "i = 10\n",
    "j = 2\n",
    "try:\n",
    "  print(i/j)\n",
    "except Exception as e:\n",
    "  print(e)\n",
    "else:\n",
    "  print(i)\n",
    "finally:\n",
    "  print(\"Finished\")"
   ]
  },
  {
   "cell_type": "code",
   "execution_count": 6,
   "metadata": {
    "colab": {
     "base_uri": "https://localhost:8080/"
    },
    "id": "yjAQWwqdbjcN",
    "outputId": "428ec348-97b9-4519-9bef-0d7fdef9003d"
   },
   "outputs": [
    {
     "name": "stdout",
     "output_type": "stream",
     "text": [
      "division by zero\n",
      "Finished\n"
     ]
    }
   ],
   "source": [
    "i = 10\n",
    "j = 0\n",
    "try:\n",
    "  print(i/j)\n",
    "except Exception as e:\n",
    "  print(e)\n",
    "else:\n",
    "  print(i)\n",
    "finally:\n",
    "  print(\"Finished\")"
   ]
  },
  {
   "cell_type": "code",
   "execution_count": 13,
   "metadata": {
    "colab": {
     "base_uri": "https://localhost:8080/"
    },
    "id": "8QtUXzkFcsA4",
    "outputId": "0a1e9a82-899e-458f-e84a-6cfd0aa49fa8",
    "scrolled": true
   },
   "outputs": [
    {
     "name": "stdout",
     "output_type": "stream",
     "text": [
      "exception division by zero\n",
      "Finished\n"
     ]
    }
   ],
   "source": [
    "i = 10\n",
    "j = 0\n",
    "try:\n",
    "  print(i/j)\n",
    "except Exception as e:\n",
    "  print(\"exception\",e)\n",
    "except TypeError as e1:\n",
    "  print(e1)\n",
    "else:\n",
    "  print(i)\n",
    "finally:\n",
    "  print(\"Finished\")"
   ]
  },
  {
   "cell_type": "code",
   "execution_count": 16,
   "metadata": {
    "colab": {
     "base_uri": "https://localhost:8080/"
    },
    "id": "lt-8ayO4eP0q",
    "outputId": "e6d3655a-e4b3-41ee-bd73-1d539c74804b"
   },
   "outputs": [
    {
     "name": "stdout",
     "output_type": "stream",
     "text": [
      "Enter your age: Ru\n",
      "You are in Exception:  invalid literal for int() with base 10: 'Ru'\n",
      "Program ended\n"
     ]
    }
   ],
   "source": [
    "class AgeLimit(Exception):\n",
    "  pass\n",
    "\n",
    "try:\n",
    "  age = int(input(\"Enter your age: \"))\n",
    "  if age < 0:\n",
    "    raise AgeLimit(\"Age can not be negative\")\n",
    "except Exception as e:\n",
    "  print(\"You are in Exception: \", e)\n",
    "except AgeLimit as e:\n",
    "  print(e)\n",
    "else:\n",
    "  print(\"Success\")\n",
    "finally:\n",
    "  print(\"Program ended\")\n"
   ]
  },
  {
   "cell_type": "code",
   "execution_count": 24,
   "metadata": {},
   "outputs": [
    {
     "name": "stdout",
     "output_type": "stream",
     "text": [
      "Exception Occured\n",
      "End\n"
     ]
    }
   ],
   "source": [
    "try:\n",
    "    i = 10\n",
    "    k = 0\n",
    "    print(i/k)\n",
    "except Exception:\n",
    "    print(\"Exception Occured\")\n",
    "print(\"End\")"
   ]
  },
  {
   "cell_type": "code",
   "execution_count": 29,
   "metadata": {},
   "outputs": [
    {
     "name": "stdout",
     "output_type": "stream",
     "text": [
      "Division by zero not allowed\n",
      "Out of try except blocks\n"
     ]
    }
   ],
   "source": [
    "try:\n",
    "    a=0\n",
    "    b=0\n",
    "    print (a/b)\n",
    "except TypeError:\n",
    "    print('Unsupported operation')\n",
    "except ZeroDivisionError:\n",
    "    print ('Division by zero not allowed')\n",
    "    print ('Out of try except blocks')\n"
   ]
  },
  {
   "cell_type": "code",
   "execution_count": 31,
   "metadata": {},
   "outputs": [
    {
     "name": "stdout",
     "output_type": "stream",
     "text": [
      "Executed\n",
      "0.1\n"
     ]
    }
   ],
   "source": [
    "try:\n",
    "    x = 10\n",
    "    inverse = 1.0 / x\n",
    "finally:\n",
    "    print(\"Executed\")\n",
    "print(inverse)\n"
   ]
  },
  {
   "cell_type": "code",
   "execution_count": 25,
   "metadata": {},
   "outputs": [],
   "source": [
    "# Which of the following is not the component of the error handling structure?\n",
    "# Object\n",
    "# Exception\n",
    "# BaseException\n",
    "# ErrorException\n"
   ]
  },
  {
   "cell_type": "markdown",
   "metadata": {},
   "source": [
    "Write a function calculateCurve that takes a score as an argument and returns the total score after adding a curve. The curve is calculated based on the score as follows:\n",
    "•If the score is less than 0 or greater than 100, raise a ValueError with the message \"Score\n",
    "must be between 0 and 100\".<br>\n",
    "•If the score is equal to or greater than 90, the curve is 5.<br>\n",
    "•If the score is equal to or greater than 80 but less than 90, the curve is 10. <br>\n",
    "•If the score is less than 80, the curve is 20.<br>\n",
    "Write a try-except block to call the calculateCurve function with the argument 50 and print the total score. If a ValueError is raised, print the error message."
   ]
  },
  {
   "cell_type": "markdown",
   "metadata": {},
   "source": [
    "Write a Python program that prompts the user to enter a number and calculates its square. If the user enters a non-numeric value,\n",
    "the program should catch the exception and print an error message.\n"
   ]
  },
  {
   "cell_type": "code",
   "execution_count": 42,
   "metadata": {},
   "outputs": [
    {
     "name": "stdout",
     "output_type": "stream",
     "text": [
      "Enter a number: t\n",
      "input should only be number\n",
      "code ended\n"
     ]
    }
   ],
   "source": [
    "#need to define this exception as it is not built-in exception in Python\n",
    "class strError(Exception):\n",
    "    pass\n",
    "\n",
    "try:\n",
    "    user_input = input(\"Enter a number: \")\n",
    "    if not user_input.isdigit():\n",
    "        raise strError(\"input should only be number\")\n",
    "except Exception as e:\n",
    "    print(e)\n",
    "except strError as e:\n",
    "    print(e)\n",
    "else:\n",
    "    print(user_input)\n",
    "finally:\n",
    "    print(\"code ended\")\n",
    "    \n",
    "    \n"
   ]
  },
  {
   "cell_type": "markdown",
   "metadata": {},
   "source": [
    "Write a Python program that reads a file named \"numbers.txt\" that contains a list of numbers, one per line, and calculates their sum.\n",
    "If the file is not found or cannot be read, the program should catch the exception and print an error message."
   ]
  },
  {
   "cell_type": "code",
   "execution_count": null,
   "metadata": {},
   "outputs": [],
   "source": []
  },
  {
   "cell_type": "markdown",
   "metadata": {},
   "source": [
    "Write a Python program that prompts the user to enter a URL and downloads the contents of the page. If the URL is not valid or the\n",
    "download fails, the program should catch the exception and print an error message. If the download is successful, the program should count\n",
    "the number of words in the page and print out the result."
   ]
  },
  {
   "cell_type": "code",
   "execution_count": null,
   "metadata": {},
   "outputs": [],
   "source": []
  },
  {
   "cell_type": "markdown",
   "metadata": {},
   "source": [
    "Write a Python program that prompts the user to enter a number and calculates its factorial. If the user enters a negative number or\n",
    "a non-integer value, the program should catch the exception and print an error message.\n"
   ]
  },
  {
   "cell_type": "code",
   "execution_count": null,
   "metadata": {},
   "outputs": [],
   "source": []
  },
  {
   "cell_type": "code",
   "execution_count": 3,
   "metadata": {},
   "outputs": [
    {
     "name": "stdout",
     "output_type": "stream",
     "text": [
      "[                             ?]\n"
     ]
    }
   ],
   "source": [
    "import re\n",
    "text = \"[Is 2022 a lucky year for you_?]\"\n",
    "res = re.sub(r\"\\w\", \" \", text) # w is lowercase\n",
    "print(res)"
   ]
  },
  {
   "cell_type": "code",
   "execution_count": null,
   "metadata": {},
   "outputs": [],
   "source": []
  }
 ],
 "metadata": {
  "colab": {
   "provenance": []
  },
  "kernelspec": {
   "display_name": "Python 3 (ipykernel)",
   "language": "python",
   "name": "python3"
  },
  "language_info": {
   "codemirror_mode": {
    "name": "ipython",
    "version": 3
   },
   "file_extension": ".py",
   "mimetype": "text/x-python",
   "name": "python",
   "nbconvert_exporter": "python",
   "pygments_lexer": "ipython3",
   "version": "3.10.4"
  },
  "vscode": {
   "interpreter": {
    "hash": "369f2c481f4da34e4445cda3fffd2e751bd1c4d706f27375911949ba6bb62e1c"
   }
  }
 },
 "nbformat": 4,
 "nbformat_minor": 1
}
