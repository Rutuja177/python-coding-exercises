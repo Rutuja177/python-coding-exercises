{
 "cells": [
  {
   "cell_type": "markdown",
   "id": "fcf1a570",
   "metadata": {},
   "source": [
    "# Python has 4 built-in functions such as List, tuple, set, dictionary \n",
    "https://docs.python.org/3/tutorial/datastructures.html"
   ]
  },
  {
   "cell_type": "code",
   "execution_count": 172,
   "id": "7dc5c8cf",
   "metadata": {},
   "outputs": [],
   "source": [
    "empty_list = []\n",
    "empty_tuple = ()\n",
    "empty_dictionary = {}\n",
    "empty_set = set()"
   ]
  },
  {
   "cell_type": "markdown",
   "id": "6d9dcf8c",
   "metadata": {},
   "source": [
    "# List"
   ]
  },
  {
   "cell_type": "markdown",
   "id": "1a929c29",
   "metadata": {},
   "source": [
    "List Slicing"
   ]
  },
  {
   "cell_type": "code",
   "execution_count": 25,
   "id": "a124d320",
   "metadata": {},
   "outputs": [],
   "source": [
    "#Lst[ Initial : End : IndexJump ]\n",
    "#list always traverser from left to right "
   ]
  },
  {
   "cell_type": "code",
   "execution_count": 36,
   "id": "d0023627",
   "metadata": {
    "scrolled": true
   },
   "outputs": [
    {
     "name": "stdout",
     "output_type": "stream",
     "text": [
      "['geeks !']\n",
      "[10, 20, 30, 40, 50]\n",
      "[20, 30]\n",
      "[20, 40]\n",
      "[40, 30, 20]\n",
      "[10, 20, 30, 40]\n",
      "[50, 30]\n"
     ]
    }
   ],
   "source": [
    "# #positive indexing\n",
    "# Lst = [50, 70, 30, 20, 90, 10, 50]\n",
    "\n",
    "# #negative indexing\n",
    "# #      -7  -6  -4  -5  -4  -3  -2 -1\n",
    "# Lst = [50, 70, 30, 20, 90, 10, 50]\n",
    " \n",
    "# # Display list\n",
    "# print(Lst[::])\n",
    "\n",
    "# # Display list\n",
    "# print(Lst[-7::1])\n",
    "\n",
    "List = ['Geeks', 4, 'geeks !']\n",
    "# #A reversed list can be generated \n",
    "# #by using a negative integer as the IndexJump argument. \n",
    "\n",
    "# print(List[::-1]) #reverse list\n",
    "\n",
    "# print(List[::-3]) #reverse list\n",
    "\n",
    "print(List[:1:-2]) #reverese list\n",
    "\n",
    "List1 = [10,20,30,40,50]\n",
    "print(List1)\n",
    "\n",
    "print(List1[1:3])\n",
    "print(List1[1:5:2])\n",
    "print(List1[-2:-5:-1])\n",
    "print(List1[-5:-1])\n",
    "print(List1[-1:-5:-2])\n",
    "\n",
    "\n",
    "# text = \"Arlington\"\n",
    "# print(text[slice(1,6,1)])\n",
    "# print(text[::-2])"
   ]
  },
  {
   "cell_type": "code",
   "execution_count": 7,
   "id": "4a4c3aaf",
   "metadata": {},
   "outputs": [
    {
     "name": "stdout",
     "output_type": "stream",
     "text": [
      "['A', 'B', 'C', 'D', 'E', 'F', 'G', 'H', 'I']\n"
     ]
    }
   ],
   "source": [
    "list= ['A', 'B', 'C', 'D', 'E', 'F', 'G', 'H', 'I']\n",
    "print(list)"
   ]
  },
  {
   "cell_type": "code",
   "execution_count": 32,
   "id": "45354857",
   "metadata": {
    "scrolled": false
   },
   "outputs": [
    {
     "name": "stdout",
     "output_type": "stream",
     "text": [
      "D\n",
      "G\n",
      "['A', 'B', 'C', 'D', 'E', 'F', 'G', 'H', 'I']\n",
      "['D', 'E', 'F', 'G', 'H', 'I']\n",
      "['A', 'B', 'C']\n",
      "['C', 'D', 'E', 'F']\n",
      "['A', 'B', 'C', 'D', 'E', 'F']\n"
     ]
    }
   ],
   "source": [
    "#single\n",
    "print(list[3]) #D  \n",
    "print(list[-3]) #G  \n",
    "print(list[:]) #All      \n",
    "print(list[3:]) #D E F G H I   Everything from  3\n",
    "print(list[:3])  #A B C Everything till 3\n",
    "print(list[-7:-3])  #G F E D C B A Everything form -3\n",
    "print(list[:-3])  #I H G Everything till -3"
   ]
  },
  {
   "cell_type": "code",
   "execution_count": 30,
   "id": "175dfd0f",
   "metadata": {},
   "outputs": [
    {
     "name": "stdout",
     "output_type": "stream",
     "text": [
      "['A', 'B', 'C', 'D', 'E', 'F', 'G', 'H', 'I']\n"
     ]
    }
   ],
   "source": [
    "list= ['A', 'B', 'C', 'D', 'E', 'F', 'G', 'H', 'I']\n",
    "print(list)"
   ]
  },
  {
   "cell_type": "code",
   "execution_count": 31,
   "id": "96136e0c",
   "metadata": {
    "scrolled": false
   },
   "outputs": [
    {
     "name": "stdout",
     "output_type": "stream",
     "text": [
      "['A']\n",
      "['A', 'B', 'C']\n",
      "['A', 'B', 'C', 'D', 'E', 'F']\n",
      "[]\n",
      "[]\n",
      "['B', 'C']\n",
      "['C', 'E']\n"
     ]
    }
   ],
   "source": [
    "#Double\n",
    "print(list[-12:1])  \n",
    "print(list[-12:3]) \n",
    "print(list[-12:-3])\n",
    "print(list[1:-8]) \n",
    "print(list[1:-11])   #cant traverse backward\n",
    "print(list[1:-6])  \n",
    "print(list[2:6:2])"
   ]
  },
  {
   "cell_type": "code",
   "execution_count": 19,
   "id": "a6895683",
   "metadata": {},
   "outputs": [
    {
     "name": "stdout",
     "output_type": "stream",
     "text": [
      "['A', 'B', 'C', 'D', 'E', 'F', 'G', 'H', 'I']\n"
     ]
    }
   ],
   "source": [
    "list= ['A', 'B', 'C', 'D', 'E', 'F', 'G', 'H', 'I']\n",
    "print(list)"
   ]
  },
  {
   "cell_type": "code",
   "execution_count": 27,
   "id": "79f08cdf",
   "metadata": {
    "scrolled": false
   },
   "outputs": [
    {
     "name": "stdout",
     "output_type": "stream",
     "text": [
      "['H', 'F', 'D']\n",
      "['C', 'F']\n",
      "['C', 'E', 'G']\n",
      "['B', 'D', 'F', 'H']\n",
      "['C', 'E', 'G']\n"
     ]
    }
   ],
   "source": [
    "#Double with step\n",
    "print(list[-2:-7:-2])\n",
    "print(list[2:7:3]) \n",
    "print(list[2:7:2]) \n",
    "print(list[1:8:2]) \n",
    "print(list[-7:8:2] )"
   ]
  },
  {
   "cell_type": "code",
   "execution_count": 44,
   "id": "d3b61b63",
   "metadata": {},
   "outputs": [
    {
     "name": "stdout",
     "output_type": "stream",
     "text": [
      "['Java']\n"
     ]
    }
   ],
   "source": [
    "tup_ = 4, 5.7, \"Tuples\", [\"Python\", \"Tuples\", \"Java\"] \n",
    "print(tup_[-1][-1:])"
   ]
  },
  {
   "cell_type": "code",
   "execution_count": 18,
   "id": "8c783c58",
   "metadata": {},
   "outputs": [
    {
     "data": {
      "text/plain": [
       "[(1, 'John'), (2, 'jimy')]"
      ]
     },
     "execution_count": 18,
     "metadata": {},
     "output_type": "execute_result"
    }
   ],
   "source": [
    "#enumerate bult-in function\n",
    "my_rommies = ['John', 'jimy']\n",
    "list(enumerate(my_rommies, start=1))"
   ]
  },
  {
   "cell_type": "code",
   "execution_count": 19,
   "id": "71e57440",
   "metadata": {},
   "outputs": [
    {
     "name": "stdout",
     "output_type": "stream",
     "text": [
      "[(1, 3), (1, 4), (2, 3), (2, 1), (2, 4), (3, 1), (3, 4)]\n"
     ]
    }
   ],
   "source": [
    "combs = []\n",
    "list1 = [1,2,3]\n",
    "list2 = [3,1,4]\n",
    "for x in list1:\n",
    "    for y in list2:\n",
    "        if x!=y:\n",
    "            combs.append((x,y))\n",
    "       \n",
    "print(combs)"
   ]
  },
  {
   "cell_type": "code",
   "execution_count": 20,
   "id": "163c7afb",
   "metadata": {
    "scrolled": true
   },
   "outputs": [
    {
     "data": {
      "text/plain": [
       "[4, 16, 0, 4, 16]"
      ]
     },
     "execution_count": 20,
     "metadata": {},
     "output_type": "execute_result"
    }
   ],
   "source": [
    "#not by creating a new list \n",
    "vector = [-2,-4, 0, 2,4]\n",
    "[x**2 for x in vector]"
   ]
  },
  {
   "cell_type": "code",
   "execution_count": 21,
   "id": "eb92c955",
   "metadata": {},
   "outputs": [
    {
     "data": {
      "text/plain": [
       "[0, 2, 4]"
      ]
     },
     "execution_count": 21,
     "metadata": {},
     "output_type": "execute_result"
    }
   ],
   "source": [
    "#filter the list to exclude negative numbers\n",
    "[x for x in vector if x>=0]"
   ]
  },
  {
   "cell_type": "code",
   "execution_count": 22,
   "id": "5c320713",
   "metadata": {},
   "outputs": [
    {
     "data": {
      "text/plain": [
       "[2, 4, 0, 2, 4]"
      ]
     },
     "execution_count": 22,
     "metadata": {},
     "output_type": "execute_result"
    }
   ],
   "source": [
    "#apply a function to all elements\n",
    "[abs(x) for x in vector]"
   ]
  },
  {
   "cell_type": "code",
   "execution_count": 23,
   "id": "2c10cfc0",
   "metadata": {},
   "outputs": [
    {
     "data": {
      "text/plain": [
       "[(-2, 4), (-4, 16), (0, 0), (2, 4), (4, 16)]"
      ]
     },
     "execution_count": 23,
     "metadata": {},
     "output_type": "execute_result"
    }
   ],
   "source": [
    "#create a list for 2 tuples\n",
    "[(x,x**2) for x in vector]"
   ]
  },
  {
   "cell_type": "code",
   "execution_count": 24,
   "id": "cc42ca71",
   "metadata": {},
   "outputs": [
    {
     "data": {
      "text/plain": [
       "[(0, 0), (1, 1), (2, 4), (3, 9), (4, 16), (5, 25)]"
      ]
     },
     "execution_count": 24,
     "metadata": {},
     "output_type": "execute_result"
    }
   ],
   "source": [
    "[(x,x**2) for x in range(6)]"
   ]
  },
  {
   "cell_type": "code",
   "execution_count": 25,
   "id": "2c935051",
   "metadata": {},
   "outputs": [
    {
     "name": "stdout",
     "output_type": "stream",
     "text": [
      "1 2 3 4 5 6 7 8 9 "
     ]
    }
   ],
   "source": [
    "#print numbers from 0 to 9 -HackerRank Challenge\n",
    "def find_range(n):\n",
    "    for i in range(1,n+1):\n",
    "        print(i, end = ' ')\n",
    "        \n",
    "find_range(9)"
   ]
  },
  {
   "cell_type": "code",
   "execution_count": 26,
   "id": "1c73249e",
   "metadata": {
    "scrolled": false
   },
   "outputs": [
    {
     "data": {
      "text/plain": [
       "[1, 2, 3, 4, 5, 6, 7, 8, 9]"
      ]
     },
     "execution_count": 26,
     "metadata": {},
     "output_type": "execute_result"
    }
   ],
   "source": [
    "vector = [[1,2,3], [4,5,6], [7,8,9]]\n",
    "[j for element in vector for j in element]"
   ]
  },
  {
   "cell_type": "code",
   "execution_count": 317,
   "id": "4c4fb1e2",
   "metadata": {},
   "outputs": [],
   "source": [
    "# list = [expression for element in iterables (if conditional)]"
   ]
  },
  {
   "cell_type": "code",
   "execution_count": null,
   "id": "052bc146",
   "metadata": {},
   "outputs": [],
   "source": [
    "lst6 = [10,15,20,25]"
   ]
  },
  {
   "cell_type": "code",
   "execution_count": 322,
   "id": "53ba9bf8",
   "metadata": {},
   "outputs": [
    {
     "name": "stdout",
     "output_type": "stream",
     "text": [
      "[400]\n"
     ]
    }
   ],
   "source": [
    "lst8 = []\n",
    "for i in lst6:\n",
    "    if i%2==0:\n",
    "        if i>10:\n",
    "            i *= i\n",
    "            lst8.append(i)\n",
    "print(lst8)"
   ]
  },
  {
   "cell_type": "code",
   "execution_count": 320,
   "id": "e8875f11",
   "metadata": {},
   "outputs": [
    {
     "data": {
      "text/plain": [
       "[400]"
      ]
     },
     "execution_count": 320,
     "metadata": {},
     "output_type": "execute_result"
    }
   ],
   "source": [
    "lst7 = [i*i for i in lst6 if i%2==0 if i>10]\n",
    "lst7"
   ]
  },
  {
   "cell_type": "markdown",
   "id": "170cf01e",
   "metadata": {},
   "source": [
    "Nested List Comprehensions"
   ]
  },
  {
   "cell_type": "code",
   "execution_count": 27,
   "id": "f60dd070",
   "metadata": {},
   "outputs": [
    {
     "name": "stdout",
     "output_type": "stream",
     "text": [
      "[[1, 2, 3, 4], [5, 6, 7, 8], [9, 10, 11, 12]]\n"
     ]
    }
   ],
   "source": [
    "#3x4 matrix\n",
    "matrix = [\n",
    "    [1,2,3,4],\n",
    "    [5,6,7,8],\n",
    "    [9,10,11,12],\n",
    "]\n",
    "print(matrix)"
   ]
  },
  {
   "cell_type": "code",
   "execution_count": 28,
   "id": "696f2986",
   "metadata": {},
   "outputs": [
    {
     "name": "stdout",
     "output_type": "stream",
     "text": [
      "[[1, 5, 9], [2, 6, 10], [3, 7, 11], [4, 8, 12]]\n"
     ]
    }
   ],
   "source": [
    "main_transformed = []\n",
    "for i in range(4):\n",
    "    inner_transform = []\n",
    "    for row in matrix:\n",
    "        inner_transform.append(row[i])\n",
    "    main_transformed.append(inner_transform)\n",
    "print(main_transformed)"
   ]
  },
  {
   "cell_type": "markdown",
   "id": "d313d367",
   "metadata": {},
   "source": [
    "del in list"
   ]
  },
  {
   "cell_type": "code",
   "execution_count": 29,
   "id": "0aa7117e",
   "metadata": {},
   "outputs": [
    {
     "data": {
      "text/plain": [
       "[-1, 1, 333, 1234, 5]"
      ]
     },
     "execution_count": 29,
     "metadata": {},
     "output_type": "execute_result"
    }
   ],
   "source": [
    "a = [-1,1,66.25, 333,333,1234,5]\n",
    "del a[2:4]\n",
    "a"
   ]
  },
  {
   "cell_type": "markdown",
   "id": "6e5492f0",
   "metadata": {},
   "source": [
    "Write a Python program to create a list of 5 numbers and remove the first and last elements from the list."
   ]
  },
  {
   "cell_type": "code",
   "execution_count": 30,
   "id": "a8acfb94",
   "metadata": {},
   "outputs": [
    {
     "name": "stdout",
     "output_type": "stream",
     "text": [
      "[29, 10, 56, 9, 10]\n"
     ]
    }
   ],
   "source": [
    "lst = [29,10,56,9,10]\n",
    "print(lst)"
   ]
  },
  {
   "cell_type": "code",
   "execution_count": 31,
   "id": "5fbd7243",
   "metadata": {},
   "outputs": [
    {
     "name": "stdout",
     "output_type": "stream",
     "text": [
      "[10, 56, 9]\n"
     ]
    }
   ],
   "source": [
    "del lst[0]\n",
    "del lst[-1]\n",
    "\n",
    "print(lst)"
   ]
  },
  {
   "cell_type": "code",
   "execution_count": 32,
   "id": "fceb2c18",
   "metadata": {
    "scrolled": true
   },
   "outputs": [
    {
     "name": "stdout",
     "output_type": "stream",
     "text": [
      "[56]\n"
     ]
    }
   ],
   "source": [
    "lst.pop(0)\n",
    "lst.pop(-1)\n",
    "print(lst)"
   ]
  },
  {
   "cell_type": "markdown",
   "id": "90f1170b",
   "metadata": {},
   "source": [
    "Write a Python program to create a list of 5 numbers and sort the list in ascending and descending order."
   ]
  },
  {
   "cell_type": "code",
   "execution_count": 33,
   "id": "48d19660",
   "metadata": {},
   "outputs": [
    {
     "name": "stdout",
     "output_type": "stream",
     "text": [
      "[67, 78, 89, 90, 100]\n"
     ]
    }
   ],
   "source": [
    "lst = [78,89,67,90,100]\n",
    "for i in range(len(lst)):\n",
    "    for j in range(i+1, len(lst)):\n",
    "        if lst[i] > lst[j]:\n",
    "            temp = lst[i]\n",
    "            lst[i] = lst[j]\n",
    "            lst[j] = temp\n",
    "print(lst)"
   ]
  },
  {
   "cell_type": "code",
   "execution_count": 34,
   "id": "8f258f92",
   "metadata": {},
   "outputs": [
    {
     "name": "stdout",
     "output_type": "stream",
     "text": [
      "[100, 90, 89, 78, 67]\n"
     ]
    }
   ],
   "source": [
    "lst = [78,89,67,90,100]\n",
    "for i in range(len(lst)):\n",
    "    for j in range(i+1, len(lst)):\n",
    "        if lst[i] < lst[j]:\n",
    "            temp = lst[i]\n",
    "            lst[i] = lst[j]\n",
    "            lst[j] = temp\n",
    "print(lst)"
   ]
  },
  {
   "cell_type": "markdown",
   "id": "59b25f38",
   "metadata": {},
   "source": [
    "Write a Python program to create a list of 10 numbers and replace all the even numbers in the list with the string \"even\"."
   ]
  },
  {
   "cell_type": "code",
   "execution_count": 35,
   "id": "c98872eb",
   "metadata": {},
   "outputs": [
    {
     "name": "stdout",
     "output_type": "stream",
     "text": [
      "['even', 89, 67, 'even', 'even']\n"
     ]
    }
   ],
   "source": [
    "lst = [78,89,67,90,100]\n",
    "for i in range(len(lst)):\n",
    "    if lst[i] % 2 ==0:\n",
    "        lst[i] = 'even'\n",
    "print(lst)"
   ]
  },
  {
   "cell_type": "markdown",
   "id": "7022c423",
   "metadata": {},
   "source": [
    "Write a Python program to create a list of 5 numbers and print the second largest number in the list."
   ]
  },
  {
   "cell_type": "code",
   "execution_count": 36,
   "id": "ae365f77",
   "metadata": {},
   "outputs": [
    {
     "name": "stdout",
     "output_type": "stream",
     "text": [
      "90\n"
     ]
    }
   ],
   "source": [
    "lst = [78,89,67,90,100]\n",
    "lst.sort()\n",
    "print(lst[-2])"
   ]
  },
  {
   "cell_type": "code",
   "execution_count": 2,
   "id": "b3710296",
   "metadata": {},
   "outputs": [],
   "source": [
    "def largest_num(lst):\n",
    "    max_num = 0\n",
    "    for i in range(len(lst)):\n",
    "        if lst[i] > max_num:\n",
    "            max_num = lst[i]\n",
    "    return max_num"
   ]
  },
  {
   "cell_type": "code",
   "execution_count": 4,
   "id": "eccb91c4",
   "metadata": {},
   "outputs": [
    {
     "data": {
      "text/plain": [
       "100"
      ]
     },
     "execution_count": 4,
     "metadata": {},
     "output_type": "execute_result"
    }
   ],
   "source": [
    "largest_num([78,89,67,90,100])"
   ]
  },
  {
   "cell_type": "markdown",
   "id": "f8ef2c6a",
   "metadata": {},
   "source": [
    "Write a Python program that uses list comprehension to create a new list containing the lengths of all words that have more than\n",
    "three characters in a given sentence. For example, given the input sentence \"The quick brown fox jumps over the lazy dog\", the\n",
    "output should be [5, 5, 4, 5, 4]."
   ]
  },
  {
   "cell_type": "code",
   "execution_count": 40,
   "id": "c5bb8923",
   "metadata": {},
   "outputs": [
    {
     "name": "stdout",
     "output_type": "stream",
     "text": [
      "[5, 5, 5, 4, 4]\n"
     ]
    }
   ],
   "source": [
    "sentence = \"The quick brown fox jumps over the lazy dog\"\n",
    "new_list = []\n",
    "for i in sentence.split():\n",
    "    if len(i) > 3:\n",
    "        new_list.append(len(i))\n",
    "print(new_list)\n"
   ]
  },
  {
   "cell_type": "markdown",
   "id": "716d3e4d",
   "metadata": {},
   "source": [
    "Write a Python program to create a list of 10 strings and remove all the vowels from each string in the list."
   ]
  },
  {
   "cell_type": "code",
   "execution_count": 41,
   "id": "89f4985b",
   "metadata": {},
   "outputs": [],
   "source": [
    "strings_list = [\"apple\", \"orange\", \"elephant\", \"umbrella\", \"giraffe\", \"banana\", \"penguin\", \"kiwi\", \"zebra\", \"watermelon\"]\n",
    "new_list = []\n",
    "for i in strings_list:\n",
    "    for j in i:\n",
    "        if j not in ('aeiou'):\n",
    "            new_list.append"
   ]
  },
  {
   "cell_type": "code",
   "execution_count": 42,
   "id": "3ccd5c6c",
   "metadata": {},
   "outputs": [
    {
     "name": "stdout",
     "output_type": "stream",
     "text": [
      "['apple', 'banana', 'mango']\n"
     ]
    }
   ],
   "source": [
    "#without List Comprehension\n",
    "fruits = [\"apple\", \"banana\", \"cherry\", \"kiwi\", \"mango\"]\n",
    "new_list = []\n",
    "for i in fruits:\n",
    "    if \"a\" in i:\n",
    "        new_list.append(i)\n",
    "print(new_list)\n",
    "        "
   ]
  },
  {
   "cell_type": "code",
   "execution_count": 43,
   "id": "567d31b5",
   "metadata": {},
   "outputs": [
    {
     "data": {
      "text/plain": [
       "25"
      ]
     },
     "execution_count": 43,
     "metadata": {},
     "output_type": "execute_result"
    }
   ],
   "source": [
    "#with list comprehension\n",
    "res = lambda x:x*x\n",
    "res(5)"
   ]
  },
  {
   "cell_type": "code",
   "execution_count": 44,
   "id": "9ed3550f",
   "metadata": {},
   "outputs": [
    {
     "name": "stdout",
     "output_type": "stream",
     "text": [
      "['apple', 'banana', 'mango']\n"
     ]
    }
   ],
   "source": [
    "new_list = [i for i in fruits if \"a\" in i]\n",
    "print(new_list)"
   ]
  },
  {
   "cell_type": "code",
   "execution_count": 45,
   "id": "1b1afa82",
   "metadata": {},
   "outputs": [],
   "source": [
    "#newlist = [expression for item in iterable if condition == True]"
   ]
  },
  {
   "cell_type": "code",
   "execution_count": 46,
   "id": "1a6ef6b1",
   "metadata": {},
   "outputs": [
    {
     "name": "stdout",
     "output_type": "stream",
     "text": [
      "['banana', 'cherry', 'kiwi', 'mango']\n"
     ]
    }
   ],
   "source": [
    "#Only accept items that are not \"apple\":\n",
    "not_apples = [i for i in fruits if i != 'apple']\n",
    "print(not_apples)"
   ]
  },
  {
   "cell_type": "code",
   "execution_count": 47,
   "id": "e3c121dd",
   "metadata": {},
   "outputs": [
    {
     "name": "stdout",
     "output_type": "stream",
     "text": [
      "[0, 1, 2, 3, 4, 5, 6, 7, 8, 9]\n"
     ]
    }
   ],
   "source": [
    "new_list = [x for x in range(10)]\n",
    "print(new_list)"
   ]
  },
  {
   "cell_type": "code",
   "execution_count": 48,
   "id": "c3a0c2af",
   "metadata": {},
   "outputs": [
    {
     "name": "stdout",
     "output_type": "stream",
     "text": [
      "[0, 1, 2, 3, 4]\n"
     ]
    }
   ],
   "source": [
    "new_list = [x for x in range(10) if x <5]\n",
    "print(new_list)"
   ]
  },
  {
   "cell_type": "code",
   "execution_count": 49,
   "id": "78e241ed",
   "metadata": {},
   "outputs": [
    {
     "name": "stdout",
     "output_type": "stream",
     "text": [
      "[False]\n"
     ]
    }
   ],
   "source": [
    "#Return \"orange\" instead of \"banana\":\n",
    "new_fruits = [x == 'orange' for x in fruits if x == 'banana']\n",
    "print(new_fruits)"
   ]
  },
  {
   "cell_type": "code",
   "execution_count": 50,
   "id": "e10d244e",
   "metadata": {},
   "outputs": [
    {
     "name": "stdout",
     "output_type": "stream",
     "text": [
      "['mango', 'kiwi', 'cherry', 'banana', 'apple']\n"
     ]
    }
   ],
   "source": [
    "fruits.reverse()\n",
    "print(fruits)"
   ]
  },
  {
   "cell_type": "code",
   "execution_count": 51,
   "id": "f5b8b53c",
   "metadata": {},
   "outputs": [
    {
     "name": "stdout",
     "output_type": "stream",
     "text": [
      "[0, 1, 4, 9, 16, 25, 36, 49, 64, 81]\n"
     ]
    }
   ],
   "source": [
    "square = list(map(lambda x: x**2, range(10)))\n",
    "print(square)"
   ]
  },
  {
   "cell_type": "code",
   "execution_count": 52,
   "id": "cde38520",
   "metadata": {},
   "outputs": [
    {
     "name": "stdout",
     "output_type": "stream",
     "text": [
      "[0, 1, 4, 9, 16, 25, 36, 49, 64, 81]\n"
     ]
    }
   ],
   "source": [
    "squares = [x**2 for x in range(10)]\n",
    "print(squares)"
   ]
  },
  {
   "cell_type": "code",
   "execution_count": 53,
   "id": "22777190",
   "metadata": {},
   "outputs": [
    {
     "data": {
      "text/plain": [
       "[(1, 4), (1, 2), (1, 5), (2, 4), (2, 5), (3, 4), (3, 2), (3, 5)]"
      ]
     },
     "execution_count": 53,
     "metadata": {},
     "output_type": "execute_result"
    }
   ],
   "source": [
    "[(x,y) for x in [1,2,3] for y in [4,2,5] if x !=y]"
   ]
  },
  {
   "cell_type": "code",
   "execution_count": 54,
   "id": "531e12d0",
   "metadata": {},
   "outputs": [
    {
     "name": "stdout",
     "output_type": "stream",
     "text": [
      "[16, 4, 0, 4, 16]\n"
     ]
    }
   ],
   "source": [
    "vec = [-4, -2, 0, 2, 4]\n",
    "vec1 = [x**2 for x in vec]\n",
    "print(vec1)"
   ]
  },
  {
   "cell_type": "code",
   "execution_count": 55,
   "id": "8b6fa59e",
   "metadata": {},
   "outputs": [
    {
     "data": {
      "text/plain": [
       "['banana', 'loganberry', 'passion fruit']"
      ]
     },
     "execution_count": 55,
     "metadata": {},
     "output_type": "execute_result"
    }
   ],
   "source": [
    "freshfruit = ['  banana', '  loganberry ', 'passion fruit  ']\n",
    "[x.strip() for x in freshfruit]"
   ]
  },
  {
   "cell_type": "code",
   "execution_count": 56,
   "id": "8f05745b",
   "metadata": {},
   "outputs": [
    {
     "data": {
      "text/plain": [
       "[(1, 1), (2, 4), (3, 9)]"
      ]
     },
     "execution_count": 56,
     "metadata": {},
     "output_type": "execute_result"
    }
   ],
   "source": [
    "# create a list of 2-tuples like (number, square)\n",
    "[(x,x**2) for x in [1,2,3]]"
   ]
  },
  {
   "cell_type": "code",
   "execution_count": 57,
   "id": "04a9dbe0",
   "metadata": {},
   "outputs": [
    {
     "data": {
      "text/plain": [
       "[1, 2, 3, 4, 5, 6, 7, 8, 9]"
      ]
     },
     "execution_count": 57,
     "metadata": {},
     "output_type": "execute_result"
    }
   ],
   "source": [
    "vec = [[1,2,3], [4,5,6], [7,8,9]]\n",
    "[num for elem in vec for num in elem]"
   ]
  },
  {
   "cell_type": "code",
   "execution_count": 58,
   "id": "79ab9a95",
   "metadata": {
    "scrolled": true
   },
   "outputs": [
    {
     "ename": "TypeError",
     "evalue": "'bool' object is not iterable",
     "output_type": "error",
     "traceback": [
      "\u001b[1;31m---------------------------------------------------------------------------\u001b[0m",
      "\u001b[1;31mTypeError\u001b[0m                                 Traceback (most recent call last)",
      "Input \u001b[1;32mIn [58]\u001b[0m, in \u001b[0;36m<cell line: 6>\u001b[1;34m()\u001b[0m\n\u001b[0;32m      1\u001b[0m matrix \u001b[38;5;241m=\u001b[39m [\n\u001b[0;32m      2\u001b[0m     [\u001b[38;5;241m1\u001b[39m, \u001b[38;5;241m2\u001b[39m, \u001b[38;5;241m3\u001b[39m, \u001b[38;5;241m4\u001b[39m],\n\u001b[0;32m      3\u001b[0m     [\u001b[38;5;241m5\u001b[39m, \u001b[38;5;241m6\u001b[39m, \u001b[38;5;241m7\u001b[39m, \u001b[38;5;241m8\u001b[39m],\n\u001b[0;32m      4\u001b[0m     [\u001b[38;5;241m9\u001b[39m, \u001b[38;5;241m10\u001b[39m, \u001b[38;5;241m11\u001b[39m, \u001b[38;5;241m12\u001b[39m],\n\u001b[0;32m      5\u001b[0m ]\n\u001b[1;32m----> 6\u001b[0m [row[i] \u001b[38;5;28;01mfor\u001b[39;00m row \u001b[38;5;129;01min\u001b[39;00m matrix \u001b[38;5;129;01min\u001b[39;00m \u001b[38;5;28mrange\u001b[39m(\u001b[38;5;241m4\u001b[39m)]\n\u001b[0;32m      7\u001b[0m [[row[i] \u001b[38;5;28;01mfor\u001b[39;00m row \u001b[38;5;129;01min\u001b[39;00m matrix] \u001b[38;5;28;01mfor\u001b[39;00m i \u001b[38;5;129;01min\u001b[39;00m \u001b[38;5;28mrange\u001b[39m(\u001b[38;5;241m4\u001b[39m)]\n",
      "\u001b[1;31mTypeError\u001b[0m: 'bool' object is not iterable"
     ]
    }
   ],
   "source": [
    "matrix = [\n",
    "    [1, 2, 3, 4],\n",
    "    [5, 6, 7, 8],\n",
    "    [9, 10, 11, 12],\n",
    "]\n",
    "[row[i] for row in matrix in range(4)]\n",
    "[[row[i] for row in matrix] for i in range(4)]"
   ]
  },
  {
   "cell_type": "code",
   "execution_count": 59,
   "id": "f3d09d31",
   "metadata": {
    "scrolled": true
   },
   "outputs": [
    {
     "name": "stdout",
     "output_type": "stream",
     "text": [
      "['a', 'b', 'c', 'd', 'a']\n",
      "['k', 'b', 'c', 'd', 'a']\n",
      "kbcda\n",
      "my-name-is-RUtuja\n"
     ]
    }
   ],
   "source": [
    "#lists are mutable and tuples are immutable ; example of immutable string , covert that immutable string \n",
    "string = \"abcda\"\n",
    "l = list(string)\n",
    "print(l)\n",
    "l[0]='k'\n",
    "print(l)\n",
    "string = ''.join(l)\n",
    "print(string)\n",
    "\n",
    "#split and join\n",
    "\n",
    "string2 = \"my name is RUtuja\"\n",
    "string3 = string2.split()\n",
    "print(\"-\".join(string3))"
   ]
  },
  {
   "cell_type": "code",
   "execution_count": 48,
   "id": "4d02e67d",
   "metadata": {
    "scrolled": false
   },
   "outputs": [
    {
     "name": "stdout",
     "output_type": "stream",
     "text": [
      "Enter two numbers:10 20 \n",
      "[10, 20, 10, 20]\n"
     ]
    }
   ],
   "source": [
    "x= [int(i) for i in input(\"Enter two numbers:\").split()]\n",
    "print(x+x)\n"
   ]
  },
  {
   "cell_type": "markdown",
   "id": "d5f43d24",
   "metadata": {},
   "source": [
    "### write a Python program to find the maximum sum of a contiguous subsequence in a given list"
   ]
  },
  {
   "cell_type": "code",
   "execution_count": 34,
   "id": "de7d8c14",
   "metadata": {},
   "outputs": [
    {
     "name": "stdout",
     "output_type": "stream",
     "text": [
      "Maximum sum of a contiguous subsequence: 9\n"
     ]
    }
   ],
   "source": [
    "def max_subsequence_sum(lst):\n",
    "    if not lst:\n",
    "        return 0\n",
    "\n",
    "    max_sum = lst[0]\n",
    "    current_sum = lst[0]\n",
    "\n",
    "    for num in lst[1:]:\n",
    "        current_sum = max(num, current_sum + num)\n",
    "        max_sum = max(max_sum, current_sum)\n",
    "\n",
    "    return max_sum\n",
    "\n",
    "\n",
    "# Example usage\n",
    "numbers = [1, -2, 3, 4, -1, 2, 1, -5, 4]\n",
    "max_sum = max_subsequence_sum(numbers)\n",
    "print(\"Maximum sum of a contiguous subsequence:\", max_sum)"
   ]
  },
  {
   "cell_type": "markdown",
   "id": "38a61637",
   "metadata": {},
   "source": [
    "# Tuple"
   ]
  },
  {
   "cell_type": "markdown",
   "id": "15dc1835",
   "metadata": {},
   "source": [
    "A tuple is a collection which is <b>ordered</b> and <b>unchangeable</b>.\n",
    "\n",
    "Tuples are written with round brackets.\n",
    "\n",
    "Tuple is immutable.\n",
    "\n",
    "Tuples can store values of different data types and duplicate values."
   ]
  },
  {
   "cell_type": "markdown",
   "id": "74100741",
   "metadata": {},
   "source": [
    "Create Tuple"
   ]
  },
  {
   "cell_type": "code",
   "execution_count": 323,
   "id": "1efc645a",
   "metadata": {},
   "outputs": [
    {
     "name": "stdout",
     "output_type": "stream",
     "text": [
      "(10, 40, 20, 30)\n"
     ]
    }
   ],
   "source": [
    "#create tuple\n",
    "tuple1 = (10,40,20,30)\n",
    "print(tuple1)"
   ]
  },
  {
   "cell_type": "code",
   "execution_count": 174,
   "id": "27c5d0e5",
   "metadata": {},
   "outputs": [],
   "source": [
    "#Unpacking tuple\n",
    "a,b,c = tuple1"
   ]
  },
  {
   "cell_type": "code",
   "execution_count": 176,
   "id": "3089f41a",
   "metadata": {},
   "outputs": [
    {
     "name": "stdout",
     "output_type": "stream",
     "text": [
      "10\n",
      "20\n",
      "30\n"
     ]
    }
   ],
   "source": [
    "print(a)\n",
    "print(b)\n",
    "print(c)"
   ]
  },
  {
   "cell_type": "code",
   "execution_count": 178,
   "id": "352552d7",
   "metadata": {
    "scrolled": true
   },
   "outputs": [
    {
     "name": "stdout",
     "output_type": "stream",
     "text": [
      "(10, 20, 30, 10, 20, 30)\n"
     ]
    }
   ],
   "source": [
    "#use of + and *\n",
    "tuple2 = tuple1 + tuple1\n",
    "print(tuple2)"
   ]
  },
  {
   "cell_type": "code",
   "execution_count": 37,
   "id": "1b725e59",
   "metadata": {},
   "outputs": [
    {
     "name": "stdout",
     "output_type": "stream",
     "text": [
      "(1, 7, 1, 7)\n"
     ]
    }
   ],
   "source": [
    "my_tuple = (1, 7)\n",
    "print(my_tuple * 2)"
   ]
  },
  {
   "cell_type": "code",
   "execution_count": 179,
   "id": "7adeec79",
   "metadata": {},
   "outputs": [
    {
     "name": "stdout",
     "output_type": "stream",
     "text": [
      "('Python', 'Java', 'PHP')\n"
     ]
    }
   ],
   "source": [
    "#convert tuple\n",
    "lst = ['Python', 'Java', 'PHP']\n",
    "convert_to_tuple = tuple(lst)\n",
    "print(convert_to_tuple)"
   ]
  },
  {
   "cell_type": "code",
   "execution_count": 180,
   "id": "c96f1d1a",
   "metadata": {
    "scrolled": true
   },
   "outputs": [
    {
     "name": "stdout",
     "output_type": "stream",
     "text": [
      "('Python', 'Java', 'PHP')\n"
     ]
    }
   ],
   "source": [
    "convert_to_tuple1 = (*lst,)\n",
    "print(convert_to_tuple1)"
   ]
  },
  {
   "cell_type": "markdown",
   "id": "f468e0ef",
   "metadata": {},
   "source": [
    "Access tuple"
   ]
  },
  {
   "cell_type": "code",
   "execution_count": 181,
   "id": "7314d32c",
   "metadata": {},
   "outputs": [
    {
     "data": {
      "text/plain": [
       "1234"
      ]
     },
     "execution_count": 181,
     "metadata": {},
     "output_type": "execute_result"
    }
   ],
   "source": [
    "#indexing\n",
    "t = 1234, 4534, 'hello'\n",
    "t[0]"
   ]
  },
  {
   "cell_type": "code",
   "execution_count": 38,
   "id": "c855525d",
   "metadata": {},
   "outputs": [
    {
     "name": "stdout",
     "output_type": "stream",
     "text": [
      "(10, 20, 30, 40, (1, 2, 3), ['UTA', 'UTD'])\n",
      "(1, 2, 3)\n"
     ]
    }
   ],
   "source": [
    "t = ()\n",
    "t = (10,20,30,40,(1,2,3), ['UTA', 'UTD'])\n",
    "print(t)\n",
    "print(t[4])"
   ]
  },
  {
   "cell_type": "code",
   "execution_count": 41,
   "id": "699c1e56",
   "metadata": {},
   "outputs": [
    {
     "data": {
      "text/plain": [
       "((1, 2, 3), 40)"
      ]
     },
     "execution_count": 41,
     "metadata": {},
     "output_type": "execute_result"
    }
   ],
   "source": [
    "#slicing\n",
    "t[-2:-4:-1]"
   ]
  },
  {
   "cell_type": "code",
   "execution_count": 199,
   "id": "14e534eb",
   "metadata": {},
   "outputs": [
    {
     "name": "stdout",
     "output_type": "stream",
     "text": [
      "((10, 20, 30, 40, (1, 2, 3), ['UTA', 'UTD']), (1, 2, 3, 4, 5), 8)\n"
     ]
    }
   ],
   "source": [
    "#nested tuples\n",
    "u=t, (1,2,3,4,5), 8\n",
    "print(u)"
   ]
  },
  {
   "cell_type": "code",
   "execution_count": 200,
   "id": "b4bd8c16",
   "metadata": {
    "scrolled": true
   },
   "outputs": [
    {
     "ename": "TypeError",
     "evalue": "'tuple' object does not support item assignment",
     "output_type": "error",
     "traceback": [
      "\u001b[1;31m---------------------------------------------------------------------------\u001b[0m",
      "\u001b[1;31mTypeError\u001b[0m                                 Traceback (most recent call last)",
      "Input \u001b[1;32mIn [200]\u001b[0m, in \u001b[0;36m<cell line: 2>\u001b[1;34m()\u001b[0m\n\u001b[0;32m      1\u001b[0m \u001b[38;5;66;03m#tuples are immutable\u001b[39;00m\n\u001b[1;32m----> 2\u001b[0m u[\u001b[38;5;241m2\u001b[39m] \u001b[38;5;241m=\u001b[39m (\u001b[38;5;124m'\u001b[39m\u001b[38;5;124m11\u001b[39m\u001b[38;5;124m'\u001b[39m)\n",
      "\u001b[1;31mTypeError\u001b[0m: 'tuple' object does not support item assignment"
     ]
    }
   ],
   "source": [
    "#tuples are immutable\n",
    "u[2] = ('11')"
   ]
  },
  {
   "cell_type": "code",
   "execution_count": 63,
   "id": "5e0e631e",
   "metadata": {
    "scrolled": true
   },
   "outputs": [
    {
     "name": "stdout",
     "output_type": "stream",
     "text": [
      "<class 'tuple'>\n"
     ]
    }
   ],
   "source": [
    "programming_lang = ('Python', 'Java', 'C++', 'C#')\n",
    "print(type(programming_lang))"
   ]
  },
  {
   "cell_type": "code",
   "execution_count": 64,
   "id": "75398610",
   "metadata": {
    "scrolled": true
   },
   "outputs": [
    {
     "name": "stdout",
     "output_type": "stream",
     "text": [
      "Python\n",
      "Java\n",
      "C++\n",
      "C#\n"
     ]
    }
   ],
   "source": [
    "#for each langauge in pragramming_lang\n",
    "for language in programming_lang:\n",
    "    print(language)"
   ]
  },
  {
   "cell_type": "markdown",
   "id": "4bf6077e",
   "metadata": {},
   "source": [
    "Functions in tuple    "
   ]
  },
  {
   "cell_type": "code",
   "execution_count": 201,
   "id": "0bb003c7",
   "metadata": {},
   "outputs": [
    {
     "data": {
      "text/plain": [
       "('C#', 'C++', 'Java', 'Python')"
      ]
     },
     "execution_count": 201,
     "metadata": {},
     "output_type": "execute_result"
    }
   ],
   "source": [
    "tuple(reversed(programming_lang))"
   ]
  },
  {
   "cell_type": "code",
   "execution_count": 204,
   "id": "a756df16",
   "metadata": {},
   "outputs": [
    {
     "name": "stdout",
     "output_type": "stream",
     "text": [
      "(5, 9, 10, 20)\n"
     ]
    }
   ],
   "source": [
    "tup = (10,5,20,9)\n",
    "sort = sorted(tup)\n",
    "print(tuple(sort))"
   ]
  },
  {
   "cell_type": "code",
   "execution_count": 205,
   "id": "54c8662d",
   "metadata": {},
   "outputs": [
    {
     "data": {
      "text/plain": [
       "1"
      ]
     },
     "execution_count": 205,
     "metadata": {},
     "output_type": "execute_result"
    }
   ],
   "source": [
    "#count\n",
    "tup.count(5)"
   ]
  },
  {
   "cell_type": "code",
   "execution_count": 206,
   "id": "7abc24e9",
   "metadata": {
    "scrolled": true
   },
   "outputs": [
    {
     "data": {
      "text/plain": [
       "1"
      ]
     },
     "execution_count": 206,
     "metadata": {},
     "output_type": "execute_result"
    }
   ],
   "source": [
    "tup.index(5)"
   ]
  },
  {
   "cell_type": "code",
   "execution_count": 207,
   "id": "6edb9582",
   "metadata": {},
   "outputs": [
    {
     "data": {
      "text/plain": [
       "4"
      ]
     },
     "execution_count": 207,
     "metadata": {},
     "output_type": "execute_result"
    }
   ],
   "source": [
    "len(tup)"
   ]
  },
  {
   "cell_type": "markdown",
   "id": "799542eb",
   "metadata": {},
   "source": [
    "Write a Python program that takes a tuple of numbers as input, and computes the sum and average of the numbers in the tuple."
   ]
  },
  {
   "cell_type": "code",
   "execution_count": 65,
   "id": "e0c4cb14",
   "metadata": {},
   "outputs": [
    {
     "name": "stdout",
     "output_type": "stream",
     "text": [
      "20.0\n"
     ]
    }
   ],
   "source": [
    "num = (10,20,30)\n",
    "sum_num = sum(num)\n",
    "avg_num = sum_num/len(num)\n",
    "print(avg_num)"
   ]
  },
  {
   "cell_type": "markdown",
   "id": "d762289a",
   "metadata": {},
   "source": [
    "Write a Python program that takes a tuple of names as input, and prints the names in reverse"
   ]
  },
  {
   "cell_type": "code",
   "execution_count": 66,
   "id": "54360339",
   "metadata": {},
   "outputs": [
    {
     "name": "stdout",
     "output_type": "stream",
     "text": [
      "('Omkar', 'Rutuja')\n"
     ]
    }
   ],
   "source": [
    "names = ('Rutuja', 'Omkar')\n",
    "rev = tuple(reversed(names))\n",
    "print(rev)"
   ]
  },
  {
   "cell_type": "markdown",
   "id": "3c83476d",
   "metadata": {},
   "source": [
    "Write a Python program that takes two tuples of numbers as input and computes the dot product of the tuples. The dot\n",
    "product of two tuples is calculated by multiplying the corresponding elements of each tuple together, and then \n",
    "summing the products. Print the dot product"
   ]
  },
  {
   "cell_type": "code",
   "execution_count": 210,
   "id": "ba2ce915",
   "metadata": {
    "scrolled": true
   },
   "outputs": [
    {
     "name": "stdout",
     "output_type": "stream",
     "text": [
      "1400\n"
     ]
    }
   ],
   "source": [
    "t1 = (10,20,30)\n",
    "t2 = (10,20,30)\n",
    "prod = tuple(map(lambda x,y: x*y, t1, t2))\n",
    "print(sum(prod))"
   ]
  },
  {
   "cell_type": "code",
   "execution_count": 211,
   "id": "e53a9838",
   "metadata": {},
   "outputs": [
    {
     "name": "stdout",
     "output_type": "stream",
     "text": [
      "1400\n"
     ]
    }
   ],
   "source": [
    "res= sum([i*k for i, k in zip(t1, t2)])\n",
    "print(res)"
   ]
  },
  {
   "cell_type": "code",
   "execution_count": 212,
   "id": "829c26ad",
   "metadata": {},
   "outputs": [
    {
     "name": "stdout",
     "output_type": "stream",
     "text": [
      "('Max', 'John')\n"
     ]
    }
   ],
   "source": [
    "name = ('John', 'Max')\n",
    "name_list1 = tuple(reversed(name))\n",
    "print(name_list1)"
   ]
  },
  {
   "cell_type": "code",
   "execution_count": 69,
   "id": "1614d7a7",
   "metadata": {},
   "outputs": [
    {
     "name": "stdout",
     "output_type": "stream",
     "text": [
      "14\n"
     ]
    }
   ],
   "source": [
    "x = (1,2,3)\n",
    "y = (1,2,3)\n",
    "tuple_prod = sum(tuple(map(lambda x,y: x*y, x,y)))\n",
    "print(tuple_prod)"
   ]
  },
  {
   "cell_type": "markdown",
   "id": "3a28d7a4",
   "metadata": {},
   "source": [
    "Suppose you have a tuple containing the names of different countries. Write a Python program to use the enumerate function\n",
    "to print the index and name of each country in the tuple,separated by a hyphen.\n"
   ]
  },
  {
   "cell_type": "code",
   "execution_count": 70,
   "id": "c64c16ea",
   "metadata": {},
   "outputs": [
    {
     "name": "stdout",
     "output_type": "stream",
     "text": [
      "0 - United States\n",
      "1 - France\n",
      "2 - Japan\n",
      "3 - Australia\n",
      "4 - Brazil\n"
     ]
    }
   ],
   "source": [
    "countries = ('United States', 'France', 'Japan', 'Australia', 'Brazil')\n",
    "for i, country in enumerate(countries):\n",
    "    print(i,\"-\" ,country)"
   ]
  },
  {
   "cell_type": "markdown",
   "id": "d2fb6462",
   "metadata": {},
   "source": [
    "Write a Python function called \"sort_out\" that takes in a list of tuples,\n",
    "where each tuple contains two integers, and returns a sorted list of\n",
    "tuples in ascending order based on the second element of each\n",
    "tuple.\n",
    "• For example, if the input list is [(1, 3), (2, 1), (4, 5), (2, 2)], the function\n",
    "should return the list [(2, 1), (2, 2), (1, 3), (4, 5)], since (2, 1) has the\n",
    "smallest second element, followed by (2, 2), (1, 3), and (4, 5)."
   ]
  },
  {
   "cell_type": "code",
   "execution_count": 71,
   "id": "b289201b",
   "metadata": {},
   "outputs": [
    {
     "data": {
      "text/plain": [
       "[(2, 1), (2, 2), (1, 3), (4, 5)]"
      ]
     },
     "execution_count": 71,
     "metadata": {},
     "output_type": "execute_result"
    }
   ],
   "source": [
    "lst = [(1, 3), (2, 1), (4, 5), (2, 2)]\n",
    "sorted(lst, key= lambda x:x[1])\n"
   ]
  },
  {
   "cell_type": "code",
   "execution_count": 35,
   "id": "647cdb8f",
   "metadata": {},
   "outputs": [
    {
     "data": {
      "text/plain": [
       "[(4, 5), (1, 3), (2, 2), (2, 1)]"
      ]
     },
     "execution_count": 35,
     "metadata": {},
     "output_type": "execute_result"
    }
   ],
   "source": [
    "def sort_out(lst):\n",
    "   res = sorted(lst, key=lambda x:(x[1], x[0]), reverse=True)\n",
    "   return res\n",
    "\n",
    "sort_out([(1, 3), (2, 1), (4, 5), (2, 2)])\n",
    "    "
   ]
  },
  {
   "cell_type": "code",
   "execution_count": 73,
   "id": "66087288",
   "metadata": {},
   "outputs": [
    {
     "data": {
      "text/plain": [
       "[('dave', 'B', 10), ('jane', 'B', 12), ('john', 'A', 15)]"
      ]
     },
     "execution_count": 73,
     "metadata": {},
     "output_type": "execute_result"
    }
   ],
   "source": [
    "student_tuples = [\n",
    "    ('john', 'A', 15),\n",
    "    ('jane', 'B', 12),\n",
    "    ('dave', 'B', 10),\n",
    "]\n",
    "sorted(student_tuples, key=lambda student: student[2])   # sort by age\n",
    "[('dave', 'B', 10), ('jane', 'B', 12), ('john', 'A', 15)]"
   ]
  },
  {
   "cell_type": "code",
   "execution_count": null,
   "id": "052fd148",
   "metadata": {},
   "outputs": [],
   "source": [
    "Write a lambda function that takes a list of tuples as input and returns a list of the second elements of the tuples sorted in descending order."
   ]
  },
  {
   "cell_type": "markdown",
   "id": "4b2d0238",
   "metadata": {},
   "source": [
    "# Set"
   ]
  },
  {
   "cell_type": "markdown",
   "id": "dbfdf95b",
   "metadata": {},
   "source": [
    "\n",
    "<img src= \"https://files.realpython.com/media/t.8b7abb515ae8.png\" width=\"200\" height=\"500\" align = \"left\">"
   ]
  },
  {
   "cell_type": "markdown",
   "id": "f379e33f",
   "metadata": {},
   "source": [
    "\n",
    " - Sets are unordered.\n",
    " - Set elements are unique. \n",
    " - Duplicate elements are not allowed.\n",
    " - A set itself may be modified, but the elements contained in the set must be of an immutable type "
   ]
  },
  {
   "cell_type": "code",
   "execution_count": 266,
   "id": "a3ce70c5",
   "metadata": {},
   "outputs": [
    {
     "data": {
      "text/plain": [
       "set"
      ]
     },
     "execution_count": 266,
     "metadata": {},
     "output_type": "execute_result"
    }
   ],
   "source": [
    "st = set()\n",
    "type(st)"
   ]
  },
  {
   "cell_type": "code",
   "execution_count": 278,
   "id": "d8eb7024",
   "metadata": {},
   "outputs": [
    {
     "name": "stdout",
     "output_type": "stream",
     "text": [
      "{10, 20, 30}\n"
     ]
    }
   ],
   "source": [
    "st = set([10,20,30])\n",
    "print(st)"
   ]
  },
  {
   "cell_type": "code",
   "execution_count": 279,
   "id": "b57ac732",
   "metadata": {},
   "outputs": [
    {
     "name": "stdout",
     "output_type": "stream",
     "text": [
      "{'banana', 'orange', 'apple', 'pear'}\n"
     ]
    }
   ],
   "source": [
    "#sets do not have duplicate elements\n",
    "basket = {'apple', 'orange', 'apple', 'pear', 'orange', 'banana'}\n",
    "print(basket)"
   ]
  },
  {
   "cell_type": "code",
   "execution_count": 289,
   "id": "a57c09d2",
   "metadata": {},
   "outputs": [
    {
     "name": "stdout",
     "output_type": "stream",
     "text": [
      "True\n",
      "False\n"
     ]
    }
   ],
   "source": [
    "print('orange' in basket)\n",
    "print('grapes' in basket)"
   ]
  },
  {
   "cell_type": "markdown",
   "id": "85b5a1a3",
   "metadata": {},
   "source": [
    "Methods"
   ]
  },
  {
   "cell_type": "code",
   "execution_count": 280,
   "id": "1e670aa4",
   "metadata": {},
   "outputs": [
    {
     "name": "stdout",
     "output_type": "stream",
     "text": [
      "3\n"
     ]
    }
   ],
   "source": [
    "#length\n",
    "print(len(st))"
   ]
  },
  {
   "cell_type": "code",
   "execution_count": 281,
   "id": "d74c6372",
   "metadata": {},
   "outputs": [
    {
     "name": "stdout",
     "output_type": "stream",
     "text": [
      "{40, 10, 20, 'UTA', 30}\n"
     ]
    }
   ],
   "source": [
    "#add elements\n",
    "st.add(40)\n",
    "st.add(\"UTA\")\n",
    "print(st)"
   ]
  },
  {
   "cell_type": "code",
   "execution_count": 282,
   "id": "f2c68e56",
   "metadata": {},
   "outputs": [
    {
     "name": "stdout",
     "output_type": "stream",
     "text": [
      "{'MIT', 40, 10, 'UTD', 20, 'UTA', 30}\n"
     ]
    }
   ],
   "source": [
    "#update()\n",
    "st.update([\"MIT\",\"UTD\"])\n",
    "print(st)"
   ]
  },
  {
   "cell_type": "code",
   "execution_count": 283,
   "id": "7da16d1f",
   "metadata": {
    "scrolled": true
   },
   "outputs": [
    {
     "ename": "TypeError",
     "evalue": "unhashable type: 'list'",
     "output_type": "error",
     "traceback": [
      "\u001b[1;31m---------------------------------------------------------------------------\u001b[0m",
      "\u001b[1;31mTypeError\u001b[0m                                 Traceback (most recent call last)",
      "Input \u001b[1;32mIn [283]\u001b[0m, in \u001b[0;36m<cell line: 1>\u001b[1;34m()\u001b[0m\n\u001b[1;32m----> 1\u001b[0m \u001b[43mst\u001b[49m\u001b[38;5;241;43m.\u001b[39;49m\u001b[43mremove\u001b[49m\u001b[43m(\u001b[49m\u001b[43m[\u001b[49m\u001b[38;5;124;43m'\u001b[39;49m\u001b[38;5;124;43mMIT\u001b[39;49m\u001b[38;5;124;43m'\u001b[39;49m\u001b[43m,\u001b[49m\u001b[38;5;124;43m'\u001b[39;49m\u001b[38;5;124;43mUTD\u001b[39;49m\u001b[38;5;124;43m'\u001b[39;49m\u001b[43m]\u001b[49m\u001b[43m)\u001b[49m\n",
      "\u001b[1;31mTypeError\u001b[0m: unhashable type: 'list'"
     ]
    }
   ],
   "source": [
    "st.remove(['MIT','UTD'])"
   ]
  },
  {
   "cell_type": "code",
   "execution_count": 284,
   "id": "6b3ace85",
   "metadata": {},
   "outputs": [
    {
     "name": "stdout",
     "output_type": "stream",
     "text": [
      "{40, 10, 'UTD', 20, 'UTA', 30}\n"
     ]
    }
   ],
   "source": [
    "st.remove('MIT')\n",
    "print(st)"
   ]
  },
  {
   "cell_type": "code",
   "execution_count": 285,
   "id": "e40c9025",
   "metadata": {
    "scrolled": true
   },
   "outputs": [
    {
     "name": "stdout",
     "output_type": "stream",
     "text": [
      "{40, 10, 20, 'UTA', 30}\n"
     ]
    }
   ],
   "source": [
    "st.discard('UTD')\n",
    "print(st)"
   ]
  },
  {
   "cell_type": "code",
   "execution_count": 286,
   "id": "1200b375",
   "metadata": {
    "scrolled": true
   },
   "outputs": [
    {
     "data": {
      "text/plain": [
       "40"
      ]
     },
     "execution_count": 286,
     "metadata": {},
     "output_type": "execute_result"
    }
   ],
   "source": [
    "st.pop()"
   ]
  },
  {
   "cell_type": "code",
   "execution_count": 287,
   "id": "3cc585f2",
   "metadata": {},
   "outputs": [
    {
     "name": "stdout",
     "output_type": "stream",
     "text": [
      "{10, 20, 'UTA', 30}\n"
     ]
    }
   ],
   "source": [
    "print(st)"
   ]
  },
  {
   "cell_type": "code",
   "execution_count": 291,
   "id": "c9b38f99",
   "metadata": {
    "scrolled": true
   },
   "outputs": [
    {
     "name": "stdout",
     "output_type": "stream",
     "text": [
      "{0, 1, 2, 3, 4, 5, 6, 7, 8, 9, 10}\n",
      "[0, 1, 2, 3, 4, 5, 6, 7, 8, 9, 10]\n",
      "{9}\n",
      "{1, 3, 5, 7}\n",
      "{0, 1, 2, 3, 4, 5, 6, 7, 8, 10}\n"
     ]
    }
   ],
   "source": [
    "'''\n",
    "letter in a or b or both (Union)\n",
    "a|b\n",
    "\n",
    "letters in both a and b (intersection)\n",
    "a&b\n",
    "\n",
    "letters in a but not in b (difference)\n",
    "a-b\n",
    "\n",
    "letter in a or b but not both (symmetric difference)\n",
    "a^b\n",
    "'''\n",
    "#Union()\n",
    "set1 = set()\n",
    "set1 = {0,2,4,6,8,9,10}\n",
    "set2 = {1,3,5,7,9}\n",
    "set3 = set1.union(set2)\n",
    "print(set3)\n",
    "print(sorted(set3))\n",
    "\n",
    "#intersection()\n",
    "set4 = set1 & set2\n",
    "print(set4)\n",
    "\n",
    "#difference()\n",
    "set5 = set2.difference(set1) #print all elements from set2 not matching with set1\n",
    "print(set5)\n",
    "\n",
    "#symmetric_difference()\n",
    "set6 = set2.symmetric_difference(set1)\n",
    "print(set6)\n",
    "#drop matching elements; in this case 9 has been dropped becasue matching in both the set\n",
    "\n"
   ]
  },
  {
   "cell_type": "code",
   "execution_count": 294,
   "id": "d4f2e75d",
   "metadata": {},
   "outputs": [
    {
     "name": "stdout",
     "output_type": "stream",
     "text": [
      "<class 'set'>\n",
      "True\n",
      "False\n",
      "True\n",
      "False\n"
     ]
    }
   ],
   "source": [
    "#subset and superset\n",
    "\n",
    "set7 = set([10,20])\n",
    "set8 = set([10,20,30,40])\n",
    "print(type(set7))\n",
    "\n",
    "\n",
    "print(set7.issubset(set8))\n",
    "print(set7.issuperset(set8))\n",
    "print(set8.issuperset(set7))\n",
    "print(set8.issubset(set7))"
   ]
  },
  {
   "cell_type": "code",
   "execution_count": 77,
   "id": "e8f0af66",
   "metadata": {},
   "outputs": [
    {
     "name": "stdout",
     "output_type": "stream",
     "text": [
      "{'a', 'c', 'd', 'b'}\n",
      "{'1', '3', '2'}\n"
     ]
    }
   ],
   "source": [
    "#set operations on unique letters from two words\n",
    "a=set('abacdb')\n",
    "b=set('1223')\n",
    "print(a)\n",
    "print(b)"
   ]
  },
  {
   "cell_type": "code",
   "execution_count": 78,
   "id": "7c671bb1",
   "metadata": {},
   "outputs": [
    {
     "name": "stdout",
     "output_type": "stream",
     "text": [
      "{'d', 'c'}\n"
     ]
    }
   ],
   "source": [
    "a={x for x in 'ababcd' if x not in 'ab'}\n",
    "print(a)"
   ]
  },
  {
   "cell_type": "code",
   "execution_count": 79,
   "id": "78a82e1d",
   "metadata": {},
   "outputs": [
    {
     "name": "stdout",
     "output_type": "stream",
     "text": [
      "{'banana', 'cherry', 'apple'}\n"
     ]
    }
   ],
   "source": [
    "thisset = {\"apple\", \"banana\", \"cherry\"}\n",
    "print(thisset)"
   ]
  },
  {
   "cell_type": "markdown",
   "id": "2f60270e",
   "metadata": {},
   "source": [
    "Write a Python program to remove the duplicates from a list\n",
    "using a set."
   ]
  },
  {
   "cell_type": "code",
   "execution_count": 295,
   "id": "71106312",
   "metadata": {},
   "outputs": [
    {
     "name": "stdout",
     "output_type": "stream",
     "text": [
      "{1, 2, 3}\n",
      "[1, 2, 3]\n"
     ]
    }
   ],
   "source": [
    "dup_list = [1,1,2,2,3,3]\n",
    "print(set(dup_list))\n",
    "print(list(set(dup_list)))"
   ]
  },
  {
   "cell_type": "markdown",
   "id": "d6de6986",
   "metadata": {},
   "source": [
    "Write a Python program to find the union of multiple sets using a\n",
    "loop."
   ]
  },
  {
   "cell_type": "code",
   "execution_count": 299,
   "id": "e7cb5af1",
   "metadata": {},
   "outputs": [
    {
     "name": "stdout",
     "output_type": "stream",
     "text": [
      "{False, 1, 2, 3, 4, 'a', 6, 'green', 8, 'banana', 'blue', 'b', 'c', 'apple', 'orange', 'red'}\n",
      "\n",
      "The new set is :  {False, 1, 2, 3, 4, 'a', 6, 'green', 8, 'banana', 'blue', 'b', 'c', 'apple', 'orange', 'red'}\n"
     ]
    }
   ],
   "source": [
    "set1 = {1, 2, 3}\n",
    "set2 = {'apple', 'banana', 'orange'}\n",
    "set3 = set()\n",
    "set4 = {True, False}\n",
    "set5 = {'red', 'green', 'blue'}\n",
    "set6 = {2, 4, 6, 8}\n",
    "set7 = {'a', 'b', 'c'}\n",
    "\n",
    "print(set1.union(set2,set3, set4, set5, set6,set7))\n",
    "set1.isdisjoint(set2)\n",
    "\n",
    "lst = [set1, set2, set3, set4, set5, set6, set7]\n",
    "new_set= set()\n",
    "for i in lst:\n",
    "    new_set.update(i)\n",
    "print()\n",
    "print(\"The new set is : \", (new_set))\n"
   ]
  },
  {
   "cell_type": "markdown",
   "id": "e2e668b0",
   "metadata": {},
   "source": [
    "### Write a Python program to count the number of unique characters in a given string using a set."
   ]
  },
  {
   "cell_type": "code",
   "execution_count": 82,
   "id": "31f21ad3",
   "metadata": {},
   "outputs": [
    {
     "name": "stdout",
     "output_type": "stream",
     "text": [
      "9\n"
     ]
    }
   ],
   "source": [
    "string_read = \"I amm RUtujaa\"\n",
    "print(len(set(string_read)))"
   ]
  },
  {
   "cell_type": "markdown",
   "id": "56f6f9cb",
   "metadata": {},
   "source": [
    "### Write a Python program to check if two given sets have any elements in common."
   ]
  },
  {
   "cell_type": "code",
   "execution_count": 305,
   "id": "a57ba0c5",
   "metadata": {},
   "outputs": [
    {
     "name": "stdout",
     "output_type": "stream",
     "text": [
      "the set contains common ele\n"
     ]
    }
   ],
   "source": [
    "#can check using interesction\n",
    "s1 = {10,20,30}\n",
    "s2 = {10,40,30}\n",
    "\n",
    "common_ele = s1 & s2\n",
    "if common_ele != 0:\n",
    "    print(\"the set contains common ele\")\n",
    "else:\n",
    "    print(\"No common eles\")"
   ]
  },
  {
   "cell_type": "markdown",
   "id": "6d46cdb4",
   "metadata": {},
   "source": [
    "### Write a Python program that takes in a list of integers and returns a set containing only the numbers that appear more than once in the list.\n",
    "• For example, if the input list is [1, 2, 3, 3, 4, 4, 5], the program\n",
    "should return a set containing the numbers 3 and 4."
   ]
  },
  {
   "cell_type": "code",
   "execution_count": 83,
   "id": "da0fbac7",
   "metadata": {},
   "outputs": [
    {
     "name": "stdout",
     "output_type": "stream",
     "text": [
      "{3, 4}\n"
     ]
    }
   ],
   "source": [
    "lst1 =  [1, 2, 3, 3, 4, 4, 5]\n",
    "dup_set = set()\n",
    "non_dup_Set = set()\n",
    "for i in lst1:\n",
    "    if i in non_dup_Set:\n",
    "        dup_set.add(i)\n",
    "    else:\n",
    "        non_dup_Set.add(i)\n",
    "print(dup_set)\n",
    "    "
   ]
  },
  {
   "cell_type": "markdown",
   "id": "6a305620",
   "metadata": {},
   "source": [
    "#### Write a Python program to find the common characters between two given strings using sets."
   ]
  },
  {
   "cell_type": "code",
   "execution_count": 28,
   "id": "131d1e0b",
   "metadata": {
    "scrolled": true
   },
   "outputs": [
    {
     "name": "stdout",
     "output_type": "stream",
     "text": [
      "{'m', 't', 'o'} {'m', 'o'}\n",
      "['m', 'o']\n"
     ]
    }
   ],
   "source": [
    "s1 = \"Tom\"\n",
    "s2 = \"Mom\"\n",
    "new_s1 = s1.lower()\n",
    "new_s2 = s2.lower()\n",
    "set1 = set(new_s1)\n",
    "set2 = set(new_s2)\n",
    "\n",
    "commen_characters = []\n",
    "for i in set1:\n",
    "    for j in set2:\n",
    "        if i==j:\n",
    "            commen_characters.append(i)\n",
    "print(commen_characters)\n",
    "    "
   ]
  },
  {
   "cell_type": "code",
   "execution_count": 30,
   "id": "6f69e4d7",
   "metadata": {},
   "outputs": [
    {
     "name": "stdout",
     "output_type": "stream",
     "text": [
      "{'m', 'o'}\n"
     ]
    }
   ],
   "source": [
    "#better approach\n",
    "\n",
    "s1 = \"Tom\"\n",
    "s2 = \"Mom\"\n",
    "new_s1 = s1.lower()\n",
    "new_s2 = s2.lower()\n",
    "set1 = set(new_s1)\n",
    "set2 = set(new_s2)\n",
    "\n",
    "commen_characters = set1.intersection(set2)\n",
    "print(commen_characters)"
   ]
  },
  {
   "cell_type": "markdown",
   "id": "564daefb",
   "metadata": {},
   "source": [
    "# Dictionary"
   ]
  },
  {
   "cell_type": "code",
   "execution_count": 108,
   "id": "620cdaed",
   "metadata": {},
   "outputs": [],
   "source": [
    "#Create dictionary\n",
    "dict1 = {}"
   ]
  },
  {
   "cell_type": "code",
   "execution_count": 109,
   "id": "f7c9ebad",
   "metadata": {},
   "outputs": [
    {
     "name": "stdout",
     "output_type": "stream",
     "text": [
      "{'id': 1, 'id2': 2}\n"
     ]
    }
   ],
   "source": [
    "dict1 = { 'id': 1, 'id2': 2}\n",
    "print(dict1)"
   ]
  },
  {
   "cell_type": "code",
   "execution_count": 110,
   "id": "ef6c3edb",
   "metadata": {},
   "outputs": [
    {
     "ename": "TypeError",
     "evalue": "'dict' object is not callable",
     "output_type": "error",
     "traceback": [
      "\u001b[1;31m---------------------------------------------------------------------------\u001b[0m",
      "\u001b[1;31mTypeError\u001b[0m                                 Traceback (most recent call last)",
      "Input \u001b[1;32mIn [110]\u001b[0m, in \u001b[0;36m<cell line: 4>\u001b[1;34m()\u001b[0m\n\u001b[0;32m      1\u001b[0m list1 \u001b[38;5;241m=\u001b[39m [\u001b[38;5;124m'\u001b[39m\u001b[38;5;124mJohn\u001b[39m\u001b[38;5;124m'\u001b[39m, \u001b[38;5;124m'\u001b[39m\u001b[38;5;124mSmith\u001b[39m\u001b[38;5;124m'\u001b[39m, \u001b[38;5;124m'\u001b[39m\u001b[38;5;124mAmeer\u001b[39m\u001b[38;5;124m'\u001b[39m]\n\u001b[0;32m      2\u001b[0m list2 \u001b[38;5;241m=\u001b[39m [\u001b[38;5;241m30\u001b[39m,\u001b[38;5;241m40\u001b[39m,\u001b[38;5;241m50\u001b[39m]\n\u001b[1;32m----> 4\u001b[0m d1 \u001b[38;5;241m=\u001b[39m \u001b[38;5;28;43mdict\u001b[39;49m\u001b[43m(\u001b[49m\u001b[38;5;28;43mzip\u001b[39;49m\u001b[43m(\u001b[49m\u001b[43mlist1\u001b[49m\u001b[43m,\u001b[49m\u001b[43mlist2\u001b[49m\u001b[43m)\u001b[49m\u001b[43m)\u001b[49m\n\u001b[0;32m      5\u001b[0m \u001b[38;5;28mprint\u001b[39m(d1)\n",
      "\u001b[1;31mTypeError\u001b[0m: 'dict' object is not callable"
     ]
    }
   ],
   "source": [
    "list1 = ['John', 'Smith', 'Ameer']\n",
    "list2 = [30,40,50]\n",
    "\n",
    "d1 = dict(zip(list1,list2))\n",
    "print(d1)"
   ]
  },
  {
   "cell_type": "code",
   "execution_count": 111,
   "id": "696c2921",
   "metadata": {},
   "outputs": [
    {
     "name": "stdout",
     "output_type": "stream",
     "text": [
      "{'John': 30, 'Smith': 40, 'Ameer': 50}\n"
     ]
    }
   ],
   "source": [
    "d2 = {list1[i]: list2[i] for i in range(len(list1))}\n",
    "print(d2)"
   ]
  },
  {
   "cell_type": "code",
   "execution_count": 112,
   "id": "29d03dca",
   "metadata": {},
   "outputs": [],
   "source": [
    "#Access the dictionary"
   ]
  },
  {
   "cell_type": "code",
   "execution_count": 113,
   "id": "085ffc56",
   "metadata": {},
   "outputs": [
    {
     "name": "stdout",
     "output_type": "stream",
     "text": [
      "30\n"
     ]
    }
   ],
   "source": [
    "print(d2['John'])"
   ]
  },
  {
   "cell_type": "code",
   "execution_count": 114,
   "id": "089fdded",
   "metadata": {
    "scrolled": false
   },
   "outputs": [
    {
     "ename": "KeyError",
     "evalue": "'Max'",
     "output_type": "error",
     "traceback": [
      "\u001b[1;31m---------------------------------------------------------------------------\u001b[0m",
      "\u001b[1;31mKeyError\u001b[0m                                  Traceback (most recent call last)",
      "Input \u001b[1;32mIn [114]\u001b[0m, in \u001b[0;36m<cell line: 1>\u001b[1;34m()\u001b[0m\n\u001b[1;32m----> 1\u001b[0m \u001b[38;5;28mprint\u001b[39m(\u001b[43md2\u001b[49m\u001b[43m[\u001b[49m\u001b[38;5;124;43m'\u001b[39;49m\u001b[38;5;124;43mMax\u001b[39;49m\u001b[38;5;124;43m'\u001b[39;49m\u001b[43m]\u001b[49m)\n",
      "\u001b[1;31mKeyError\u001b[0m: 'Max'"
     ]
    }
   ],
   "source": [
    "print(d2['Max']) #keyerror if giving different key"
   ]
  },
  {
   "cell_type": "code",
   "execution_count": 115,
   "id": "fa3aa80e",
   "metadata": {},
   "outputs": [
    {
     "name": "stdout",
     "output_type": "stream",
     "text": [
      "John 30\n",
      "Smith 40\n",
      "Ameer 50\n"
     ]
    }
   ],
   "source": [
    "for key, value in d2.items():\n",
    "    print(key, value)"
   ]
  },
  {
   "cell_type": "code",
   "execution_count": 116,
   "id": "d6f8fb35",
   "metadata": {},
   "outputs": [
    {
     "name": "stdout",
     "output_type": "stream",
     "text": [
      "{'John': 30, 'Smith': 40, 'Ameer': 50}\n"
     ]
    }
   ],
   "source": [
    "d2_result = {key: value for key, value in d2.items()}\n",
    "print(d2_result)"
   ]
  },
  {
   "cell_type": "code",
   "execution_count": 117,
   "id": "4394c5ce",
   "metadata": {},
   "outputs": [
    {
     "name": "stdout",
     "output_type": "stream",
     "text": [
      "{'Ameer', 'Smith', 'John'}\n",
      "{40, 50, 30}\n"
     ]
    }
   ],
   "source": [
    "#accessing only keys\n",
    "d2_keys = {k for k in d2.keys()}\n",
    "print(d2_keys)\n",
    "#accesing only values\n",
    "d2_values = {v for v in d2.values()}\n",
    "print(d2_values)"
   ]
  },
  {
   "cell_type": "code",
   "execution_count": 118,
   "id": "3b97f820",
   "metadata": {
    "scrolled": true
   },
   "outputs": [
    {
     "name": "stdout",
     "output_type": "stream",
     "text": [
      "{'John': 30, 'Smith': 40, 'Ameer': [10, 30, 20]}\n"
     ]
    }
   ],
   "source": [
    "d2['Ameer'] = [10,30,20]\n",
    "print(d2)"
   ]
  },
  {
   "cell_type": "code",
   "execution_count": 119,
   "id": "ed2c6e5f",
   "metadata": {
    "scrolled": true
   },
   "outputs": [
    {
     "name": "stdout",
     "output_type": "stream",
     "text": [
      "10\n",
      "30\n",
      "20\n"
     ]
    }
   ],
   "source": [
    "for i in d2['Ameer']:\n",
    "    print(i)"
   ]
  },
  {
   "cell_type": "code",
   "execution_count": 120,
   "id": "366889f7",
   "metadata": {},
   "outputs": [],
   "source": [
    "#delete element\n",
    "del d2['Ameer']"
   ]
  },
  {
   "cell_type": "code",
   "execution_count": 121,
   "id": "9997555f",
   "metadata": {
    "scrolled": true
   },
   "outputs": [
    {
     "name": "stdout",
     "output_type": "stream",
     "text": [
      "{'John': 30, 'Smith': 40}\n"
     ]
    }
   ],
   "source": [
    "print(d2)"
   ]
  },
  {
   "cell_type": "code",
   "execution_count": 124,
   "id": "ebfd0a3f",
   "metadata": {},
   "outputs": [
    {
     "name": "stdout",
     "output_type": "stream",
     "text": [
      "{'John': 30, 'Smith': 40, 'Ameer': 34}\n"
     ]
    }
   ],
   "source": [
    "#add element\n",
    "d2['Ameer'] = 34\n",
    "print(d2)"
   ]
  },
  {
   "cell_type": "code",
   "execution_count": 125,
   "id": "c09e222f",
   "metadata": {},
   "outputs": [
    {
     "data": {
      "text/plain": [
       "3"
      ]
     },
     "execution_count": 125,
     "metadata": {},
     "output_type": "execute_result"
    }
   ],
   "source": [
    "#find lenght of dictionary\n",
    "len(d2)"
   ]
  },
  {
   "cell_type": "code",
   "execution_count": 126,
   "id": "0925a4d6",
   "metadata": {},
   "outputs": [
    {
     "name": "stdout",
     "output_type": "stream",
     "text": [
      "{'John': 30, 'Smith': 40, 'Ameer': 34}\n"
     ]
    }
   ],
   "source": [
    "#copy dictionary \n",
    "d3 = d2.copy()\n",
    "print(d3)"
   ]
  },
  {
   "cell_type": "code",
   "execution_count": 128,
   "id": "9f7a0c5b",
   "metadata": {},
   "outputs": [
    {
     "name": "stdout",
     "output_type": "stream",
     "text": [
      "{}\n"
     ]
    }
   ],
   "source": [
    "d3.clear()\n",
    "print(d3)"
   ]
  },
  {
   "cell_type": "code",
   "execution_count": 131,
   "id": "2c8e48f6",
   "metadata": {},
   "outputs": [
    {
     "data": {
      "text/plain": [
       "34"
      ]
     },
     "execution_count": 131,
     "metadata": {},
     "output_type": "execute_result"
    }
   ],
   "source": [
    "#get method\n",
    "d2.get('Ameer', 'Not Found')"
   ]
  },
  {
   "cell_type": "code",
   "execution_count": 132,
   "id": "5ff19c91",
   "metadata": {},
   "outputs": [
    {
     "data": {
      "text/plain": [
       "34"
      ]
     },
     "execution_count": 132,
     "metadata": {},
     "output_type": "execute_result"
    }
   ],
   "source": [
    "d2.pop('Ameer', 'Not found')"
   ]
  },
  {
   "cell_type": "code",
   "execution_count": 133,
   "id": "c8227d31",
   "metadata": {},
   "outputs": [
    {
     "name": "stdout",
     "output_type": "stream",
     "text": [
      "{'John': 30, 'Smith': 40}\n"
     ]
    }
   ],
   "source": [
    "print(d2)"
   ]
  },
  {
   "cell_type": "markdown",
   "id": "d7e9f827",
   "metadata": {},
   "source": [
    "Dictionary comprehension"
   ]
  },
  {
   "cell_type": "code",
   "execution_count": 134,
   "id": "2d11faf3",
   "metadata": {},
   "outputs": [
    {
     "data": {
      "text/plain": [
       "[25, 100, 225, 400, 625]"
      ]
     },
     "execution_count": 134,
     "metadata": {},
     "output_type": "execute_result"
    }
   ],
   "source": [
    "lst = [5,10,15,20,25]\n",
    "lst2 = [i*i for i in lst]\n",
    "lst2"
   ]
  },
  {
   "cell_type": "code",
   "execution_count": 142,
   "id": "c7d38144",
   "metadata": {},
   "outputs": [
    {
     "name": "stdout",
     "output_type": "stream",
     "text": [
      "{5: 25, 10: 100, 15: 225, 20: 400}\n"
     ]
    }
   ],
   "source": [
    "dc = {}\n",
    "for i in range(5,25, 5):\n",
    "    dc[i] = i*i\n",
    "print(dc)"
   ]
  },
  {
   "cell_type": "code",
   "execution_count": 141,
   "id": "658a0904",
   "metadata": {},
   "outputs": [
    {
     "name": "stdout",
     "output_type": "stream",
     "text": [
      "{5: 25, 10: 100, 15: 225, 20: 400, 25: 625}\n"
     ]
    }
   ],
   "source": [
    "#comprehension\n",
    "dc_ = {i:i*i for i in range(5,30,5)}\n",
    "print(dc_)"
   ]
  },
  {
   "cell_type": "code",
   "execution_count": 138,
   "id": "a14c098a",
   "metadata": {},
   "outputs": [
    {
     "name": "stdout",
     "output_type": "stream",
     "text": [
      "{6: 36, 7: 49, 8: 64, 9: 81, 10: 100}\n"
     ]
    }
   ],
   "source": [
    "dictionary = {}\n",
    "for i in range(1,11):\n",
    "    if i>5:\n",
    "        dictionary[i] = i**2\n",
    "print(dictionary)"
   ]
  },
  {
   "cell_type": "code",
   "execution_count": 139,
   "id": "70ec826f",
   "metadata": {},
   "outputs": [
    {
     "name": "stdout",
     "output_type": "stream",
     "text": [
      "{15: 225, 20: 400}\n"
     ]
    }
   ],
   "source": [
    "dictionary3 = {}\n",
    "for key, value in dc.items():\n",
    "    if value > 100:\n",
    "        dictionary3[key] = value\n",
    "print(dictionary3)"
   ]
  },
  {
   "cell_type": "code",
   "execution_count": 101,
   "id": "7d68088d",
   "metadata": {},
   "outputs": [
    {
     "data": {
      "text/plain": [
       "{1: 'John', 2: 'Jim', 3: 'JJ'}"
      ]
     },
     "execution_count": 101,
     "metadata": {},
     "output_type": "execute_result"
    }
   ],
   "source": [
    "#{key:value} #update the value\n",
    "dict1 ={1:'John', 2:'Jim'}\n",
    "dict1[3]='JJ'\n",
    "dict1"
   ]
  },
  {
   "cell_type": "code",
   "execution_count": 143,
   "id": "3edd86d1",
   "metadata": {},
   "outputs": [
    {
     "name": "stdout",
     "output_type": "stream",
     "text": [
      "{5: 25, 10: 100, 15: 225, 20: 400, 25: 625}\n"
     ]
    }
   ],
   "source": [
    "#merge two dictionary\n",
    "dc.update(dc_)\n",
    "print(dc)"
   ]
  },
  {
   "cell_type": "code",
   "execution_count": 144,
   "id": "793f3af3",
   "metadata": {},
   "outputs": [
    {
     "data": {
      "text/plain": [
       "[25, 100, 225, 400, 625]"
      ]
     },
     "execution_count": 144,
     "metadata": {},
     "output_type": "execute_result"
    }
   ],
   "source": [
    "sorted(dc.values())"
   ]
  },
  {
   "cell_type": "code",
   "execution_count": 50,
   "id": "516f4636",
   "metadata": {},
   "outputs": [
    {
     "name": "stdout",
     "output_type": "stream",
     "text": [
      "36\n"
     ]
    }
   ],
   "source": [
    "lst = [3,6]\n",
    "dc = {}\n",
    "for i in lst:\n",
    " dc = i*i\n",
    "print(dc)"
   ]
  },
  {
   "cell_type": "code",
   "execution_count": 54,
   "id": "e51cf119",
   "metadata": {},
   "outputs": [
    {
     "name": "stdout",
     "output_type": "stream",
     "text": [
      "{'Albert': 8, 'Martin': 27}\n"
     ]
    }
   ],
   "source": [
    "dc1 = {'John':1,\n",
    " 'Albert': 2,\n",
    " 'Martin': 3}\n",
    "dc2 = {i:k**3 for i,k in dc1.items() if k>=2}\n",
    "print(dc2)"
   ]
  },
  {
   "cell_type": "code",
   "execution_count": 62,
   "id": "b8f75d7f",
   "metadata": {
    "scrolled": true
   },
   "outputs": [
    {
     "name": "stdout",
     "output_type": "stream",
     "text": [
      "('John', 1)\n",
      "('Albert', 2)\n",
      "('Martin', 3)\n",
      "{2, 3}\n"
     ]
    }
   ],
   "source": [
    "dc1 = {'John':1,\n",
    " 'Albert': 2,\n",
    " 'Martin': 3}\n",
    "for k in dc1.items():\n",
    "    print(k)\n",
    "dc2 = {k for k in dc1.values() if k>=2}\n",
    "print(dc2)\n"
   ]
  },
  {
   "cell_type": "code",
   "execution_count": 67,
   "id": "bfe565f6",
   "metadata": {},
   "outputs": [
    {
     "name": "stdout",
     "output_type": "stream",
     "text": [
      "{10, 5, 6}\n"
     ]
    }
   ],
   "source": [
    "set1 = set([5,6])\n",
    "set1.update([10])\n",
    "print(set1)"
   ]
  },
  {
   "cell_type": "markdown",
   "id": "45cecbd8",
   "metadata": {},
   "source": [
    "Nested Dictionary"
   ]
  },
  {
   "cell_type": "code",
   "execution_count": 154,
   "id": "5195ed63",
   "metadata": {},
   "outputs": [
    {
     "name": "stdout",
     "output_type": "stream",
     "text": [
      "{'student1': {'Python': 'A', 'Java': 'B', 'PHP': 'A'}, 'student2': {'Python': 'A', 'Java': 'A', 'PHP': 'B'}}\n"
     ]
    }
   ],
   "source": [
    "grading_dictionary  = { \n",
    "    'student1': {'Python': 'A', 'Java': 'B', 'PHP': 'A' },\n",
    "    'student2': {'Python':'A', 'Java': 'A', 'PHP': 'B'}\n",
    "}\n",
    "print(grading_dictionary)"
   ]
  },
  {
   "cell_type": "code",
   "execution_count": 155,
   "id": "3ccb1a91",
   "metadata": {},
   "outputs": [
    {
     "name": "stdout",
     "output_type": "stream",
     "text": [
      "{'student1': {'Python': 'A', 'Java': 'B', 'PHP': 'A'}, 'student2': {'Python': 'A', 'Java': 'A', 'PHP': 'B'}, 'student3': {'Python': 'A', 'Java': 'F', 'PHP': 'C'}}\n"
     ]
    }
   ],
   "source": [
    "grading_dictionary['student1']['Python']\n",
    "grading_dictionary['student3'] = {'Python':'A', 'Java': 'F', 'PHP': 'C'}\n",
    "print(grading_dictionary)"
   ]
  },
  {
   "cell_type": "code",
   "execution_count": 156,
   "id": "454e0bdc",
   "metadata": {},
   "outputs": [
    {
     "name": "stdout",
     "output_type": "stream",
     "text": [
      "________________\n",
      "student1\n",
      "----------------\n",
      "Python \t: A\n",
      "Java \t: B\n",
      "PHP \t: A\n",
      "________________\n",
      "student2\n",
      "----------------\n",
      "Python \t: A\n",
      "Java \t: A\n",
      "PHP \t: B\n",
      "________________\n",
      "student3\n",
      "----------------\n",
      "Python \t: A\n",
      "Java \t: F\n",
      "PHP \t: C\n"
     ]
    }
   ],
   "source": [
    "for student, grade in grading_dictionary.items():\n",
    "    print(\"________________\")\n",
    "    print(student)\n",
    "    print(\"----------------\")\n",
    "    for k, v in grade.items():\n",
    "        print(k, '\\t:', v)"
   ]
  },
  {
   "cell_type": "code",
   "execution_count": null,
   "id": "68495416",
   "metadata": {},
   "outputs": [],
   "source": []
  },
  {
   "cell_type": "code",
   "execution_count": 157,
   "id": "25cabeaf",
   "metadata": {
    "scrolled": false
   },
   "outputs": [
    {
     "ename": "TypeError",
     "evalue": "'dict' object is not callable",
     "output_type": "error",
     "traceback": [
      "\u001b[1;31m---------------------------------------------------------------------------\u001b[0m",
      "\u001b[1;31mTypeError\u001b[0m                                 Traceback (most recent call last)",
      "Input \u001b[1;32mIn [157]\u001b[0m, in \u001b[0;36m<cell line: 2>\u001b[1;34m()\u001b[0m\n\u001b[0;32m      1\u001b[0m \u001b[38;5;66;03m# dict( constructor)\u001b[39;00m\n\u001b[1;32m----> 2\u001b[0m my_dict \u001b[38;5;241m=\u001b[39m \u001b[38;5;28;43mdict\u001b[39;49m\u001b[43m(\u001b[49m\u001b[43m[\u001b[49m\u001b[43m(\u001b[49m\u001b[38;5;241;43m1\u001b[39;49m\u001b[43m,\u001b[49m\u001b[43m \u001b[49m\u001b[38;5;124;43m'\u001b[39;49m\u001b[38;5;124;43momkar\u001b[39;49m\u001b[38;5;124;43m'\u001b[39;49m\u001b[43m)\u001b[49m\u001b[43m]\u001b[49m\u001b[43m)\u001b[49m\n\u001b[0;32m      3\u001b[0m \u001b[38;5;28mprint\u001b[39m(my_dict)\n",
      "\u001b[1;31mTypeError\u001b[0m: 'dict' object is not callable"
     ]
    }
   ],
   "source": [
    "# dict( constructor)\n",
    "my_dict = dict([(1, 'omkar')])\n",
    "print(my_dict)"
   ]
  },
  {
   "cell_type": "code",
   "execution_count": 158,
   "id": "7c3e7b00",
   "metadata": {
    "scrolled": true
   },
   "outputs": [
    {
     "data": {
      "text/plain": [
       "{2: 4, 4: 16, 6: 36}"
      ]
     },
     "execution_count": 158,
     "metadata": {},
     "output_type": "execute_result"
    }
   ],
   "source": [
    "{x:x**2 for x in (2,4,6)}"
   ]
  },
  {
   "cell_type": "markdown",
   "id": "6638a6c2",
   "metadata": {},
   "source": [
    "Create a dictionary comprehension with names as keys and length as values"
   ]
  },
  {
   "cell_type": "code",
   "execution_count": 159,
   "id": "3dfafe10",
   "metadata": {},
   "outputs": [
    {
     "data": {
      "text/plain": [
       "{'Rutuja': 6, 'Omkar': 5, 'IMk': 3}"
      ]
     },
     "execution_count": 159,
     "metadata": {},
     "output_type": "execute_result"
    }
   ],
   "source": [
    "lst = ['Rutuja', 'Omkar','IMk']\n",
    "\n",
    "dict = {i:len(i) for i in lst}\n",
    "dict"
   ]
  },
  {
   "cell_type": "markdown",
   "id": "47ad2b9d",
   "metadata": {},
   "source": [
    "What is the output of the Python code that creates a dictionary with key-value pairs representing the age of three people, and then creates a new dictionary using a dictionary comprehension that only includes key-value pairs from where the value is greater than or equal to 60?"
   ]
  },
  {
   "cell_type": "code",
   "execution_count": 169,
   "id": "adcf192d",
   "metadata": {},
   "outputs": [
    {
     "name": "stdout",
     "output_type": "stream",
     "text": [
      "p3 65\n"
     ]
    }
   ],
   "source": [
    "dict1 = {'p1': 60, 'p2': 50, 'p3': 65}\n",
    "{i: k for i,k in dict1.items() if k>60}\n",
    "for i, k in dict1.items():\n",
    "    if k>60:\n",
    "        print(i,k)"
   ]
  },
  {
   "cell_type": "markdown",
   "id": "46884fa7",
   "metadata": {},
   "source": [
    "What is the output of the Python code that creates a dictionary with key-value pairs representing phone numbers of three people, and then creates a new dictionary using a dictionary comprehension that only includes key-value pairs from where the value starts with the digit \"5\"?"
   ]
  },
  {
   "cell_type": "code",
   "execution_count": 170,
   "id": "89d8733b",
   "metadata": {},
   "outputs": [
    {
     "data": {
      "text/plain": [
       "{'p2': 5089}"
      ]
     },
     "execution_count": 170,
     "metadata": {},
     "output_type": "execute_result"
    }
   ],
   "source": [
    "dict2 = {'p1': 6089, 'p2': 5089, 'p3': 65}\n",
    "{i:k for i,k in dict2.items() if str(k)[0] == '5'}"
   ]
  },
  {
   "cell_type": "code",
   "execution_count": 171,
   "id": "e35d79b8",
   "metadata": {},
   "outputs": [
    {
     "data": {
      "text/plain": [
       "{'p2': '50'}"
      ]
     },
     "execution_count": 171,
     "metadata": {},
     "output_type": "execute_result"
    }
   ],
   "source": [
    "dict2 = dict1 = {'p1': '60', 'p2': '50', 'p3': '65'}\n",
    "{i:k for i, k in dict2.items() if k.startswith(\"5\")}"
   ]
  },
  {
   "cell_type": "markdown",
   "id": "1b3f5e54",
   "metadata": {},
   "source": [
    "Write a Python program to create a dictionary that stores the frequency of each character in a given string. The program should take a string as input and return a dictionary with each character as a key and its frequency as the value. The program should ignorewhitespace and be case-insensitive."
   ]
  },
  {
   "cell_type": "code",
   "execution_count": 164,
   "id": "fb24364c",
   "metadata": {},
   "outputs": [
    {
     "name": "stdout",
     "output_type": "stream",
     "text": [
      "{'m': 2, 'y': 1, 'n': 1, 'a': 2, 'e': 1, 'i': 1, 's': 1, 'r': 1, 'u': 2, 't': 1, 'j': 1}\n"
     ]
    }
   ],
   "source": [
    "string = \"My name is Rutuja\"\n",
    "string = string.replace(\" \",\"\").lower()\n",
    "string\n",
    "dict = {}\n",
    "for char in string:\n",
    "    if char in dict:\n",
    "        dict[char] +=1\n",
    "    else:\n",
    "        dict[char] = 1\n",
    "print(dict)"
   ]
  },
  {
   "cell_type": "code",
   "execution_count": 167,
   "id": "2bae93e9",
   "metadata": {
    "scrolled": true
   },
   "outputs": [
    {
     "name": "stdout",
     "output_type": "stream",
     "text": [
      "{'m': 2, 'y': 1, 'n': 1, 'a': 2, 'e': 1, 'i': 1, 's': 1, 'r': 1, 'u': 2, 't': 1, 'j': 1}\n"
     ]
    }
   ],
   "source": [
    "d = {i:string.count(i) for i in string}\n",
    "print(d)"
   ]
  },
  {
   "cell_type": "code",
   "execution_count": 168,
   "id": "c2297789",
   "metadata": {},
   "outputs": [
    {
     "name": "stdout",
     "output_type": "stream",
     "text": [
      "{'m': 2, 'y': 1, 'n': 1, 'a': 2, 'e': 1, 'i': 1, 's': 1, 'r': 1, 'u': 2, 't': 1, 'j': 1}\n"
     ]
    }
   ],
   "source": [
    "d = {i: string.count(i) for i in string if i.isalpha()}\n",
    "print(d)"
   ]
  },
  {
   "cell_type": "markdown",
   "id": "b26fbab5",
   "metadata": {},
   "source": [
    "Write a program that creates a dictionary containing the U.S. states as keys and their capitals as values. • The program should then randomly quiz the user by displaying the name of a state and asking the user to enter that state’s capital. • The program should keep a count of the number of correct and incorrect responses. • Also display the correct answer after the user’s response"
   ]
  },
  {
   "cell_type": "code",
   "execution_count": null,
   "id": "8bd46d49",
   "metadata": {},
   "outputs": [],
   "source": [
    "import random\n",
    "us_states_capitals = {\n",
    "    'Alabama': 'Montgomery',\n",
    "    'Alaska': 'Juneau',\n",
    "    'Arizona': 'Phoenix',\n",
    "    'Arkansas': 'Little Rock',\n",
    "    'California': 'Sacramento',\n",
    "    'Colorado': 'Denver',\n",
    "    'Connecticut': 'Hartford',\n",
    "    'Delaware': 'Dover',\n",
    "    'Florida': 'Tallahassee',\n",
    "    'Georgia': 'Atlanta'}\n",
    "\n",
    "stop = 'no'\n",
    "correct = []\n",
    "incorrect = []\n",
    "duplicate = []\n",
    "incorrect = 0\n",
    "correct = 0\n",
    "\n",
    "while stop:\n",
    "    question = random.choice(us_states_capitals.keys())\n",
    "    if question not in duplicate:\n",
    "        print(\"Enter the capital of \",question)\n",
    "        \n",
    "        capital = input(\"Enter the capital of the state\")\n",
    "        if capital == us_states_capitals[question]:\n",
    "            correct +=1\n",
    "            correct.append(j)\n",
    "        else:\n",
    "            incorrect +=1\n",
    "            incorrect.append(j)\n",
    "    new_input = input(\"do you want to stop?\")\n",
    "    if new_input == 'yes':\n",
    "        stop = 'yes'\n",
    "\n",
    "print(incorrect, correct)"
   ]
  },
  {
   "cell_type": "code",
   "execution_count": null,
   "id": "9a3b8f96",
   "metadata": {},
   "outputs": [],
   "source": [
    "#to get a sorted list\n",
    "a = ['apple', 'orange', 'apple', 'pear', 'orange', 'banana']\n",
    "for i in sorted(a):\n",
    "    print(i, end= ' ')"
   ]
  },
  {
   "cell_type": "code",
   "execution_count": null,
   "id": "90bb84b5",
   "metadata": {},
   "outputs": [],
   "source": [
    "#to loop reverese\n",
    "for i in reversed(range(1,10,2)):\n",
    "    print(i, end = '')"
   ]
  },
  {
   "cell_type": "code",
   "execution_count": null,
   "id": "d1953a99",
   "metadata": {},
   "outputs": [],
   "source": [
    "for i in sorted(set(a)):\n",
    "    print(i, end =' ')"
   ]
  },
  {
   "cell_type": "code",
   "execution_count": null,
   "id": "7b514b9a",
   "metadata": {},
   "outputs": [],
   "source": [
    "raw_data1 = [6,5,4,4,2,1,10,1,2,48]\n",
    "raw_data1.sort()\n",
    "print(raw_data1)\n",
    "print(raw_data1[1])"
   ]
  },
  {
   "cell_type": "code",
   "execution_count": null,
   "id": "26f84c54",
   "metadata": {},
   "outputs": [],
   "source": [
    "#to iterate over the indices of a sequences, we can combine range() and len()\n",
    "raw_data = [10,20,30,40]\n",
    "for i in range(len(raw_data)):\n",
    "    print(i, raw_data[i])"
   ]
  },
  {
   "cell_type": "code",
   "execution_count": null,
   "id": "72ef43da",
   "metadata": {},
   "outputs": [],
   "source": []
  }
 ],
 "metadata": {
  "kernelspec": {
   "display_name": "Python 3 (ipykernel)",
   "language": "python",
   "name": "python3"
  },
  "language_info": {
   "codemirror_mode": {
    "name": "ipython",
    "version": 3
   },
   "file_extension": ".py",
   "mimetype": "text/x-python",
   "name": "python",
   "nbconvert_exporter": "python",
   "pygments_lexer": "ipython3",
   "version": "3.10.4"
  }
 },
 "nbformat": 4,
 "nbformat_minor": 5
}
