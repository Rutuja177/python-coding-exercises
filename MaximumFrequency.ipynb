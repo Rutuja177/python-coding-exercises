{
 "cells": [
  {
   "cell_type": "markdown",
   "id": "657d5cff",
   "metadata": {},
   "source": [
    "# Frequency of Maximum number"
   ]
  },
  {
   "cell_type": "code",
   "execution_count": 128,
   "id": "3d0ea5fd",
   "metadata": {},
   "outputs": [],
   "source": [
    "def countMaxNumber(numCars, hourStart):\n",
    "    max_num = max(numCars)\n",
    "    new_list = []\n",
    "    counter = 0\n",
    "    for i in hourStart:\n",
    "        for j in range(i,len(numCars)+1):\n",
    "            if numCars[j-1] == max_num:\n",
    "                counter += 1\n",
    "        new_list.append(counter)\n",
    "        counter = 0\n",
    "    return new_list"
   ]
  },
  {
   "cell_type": "code",
   "execution_count": 130,
   "id": "8d0432f5",
   "metadata": {},
   "outputs": [
    {
     "data": {
      "text/plain": [
       "[2, 1, 1, 0, 0]"
      ]
     },
     "execution_count": 130,
     "metadata": {},
     "output_type": "execute_result"
    }
   ],
   "source": [
    "countMaxNumber([5, 4, 5, 3, 2], [ 1, 2, 3, 4, 5])"
   ]
  },
  {
   "cell_type": "code",
   "execution_count": null,
   "id": "d3a0a567",
   "metadata": {},
   "outputs": [],
   "source": []
  }
 ],
 "metadata": {
  "kernelspec": {
   "display_name": "Python 3 (ipykernel)",
   "language": "python",
   "name": "python3"
  },
  "language_info": {
   "codemirror_mode": {
    "name": "ipython",
    "version": 3
   },
   "file_extension": ".py",
   "mimetype": "text/x-python",
   "name": "python",
   "nbconvert_exporter": "python",
   "pygments_lexer": "ipython3",
   "version": "3.10.4"
  }
 },
 "nbformat": 4,
 "nbformat_minor": 5
}
